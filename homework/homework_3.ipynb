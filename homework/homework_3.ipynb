{
 "cells": [
  {
   "cell_type": "markdown",
   "metadata": {},
   "source": [
    "# Homework 3\n",
    "\n",
    "This homework will explore linear regression and resampling techniques by analyzing data from a database of glaciers. The database is *Glatilda* for [*Glacier Ice Thickness Database*](!https://www.gtn-g.ch/data_catalogue_glathida/).\n",
    "\n",
    "1. Data prep (5 points)\n",
    "2. Mapping (10 points)\n",
    "3. Correlations between parameters (5 points)\n",
    "4. Linear regression and resampling techniques (10 points)\n",
    "\n",
    "## 1. Data Prep (5 points total)\n",
    "\n",
    "### a) Download data (1 point) \n",
    "The database is saved on a GitLab repository that you may clone: https://gitlab.com/wgms/glathida.git\n",
    "\n"
   ]
  },
  {
   "cell_type": "code",
   "execution_count": 2,
   "metadata": {},
   "outputs": [],
   "source": [
    "# answer\n",
    "# git clone https://gitlab.com/wgms/glathida.git"
   ]
  },
  {
   "cell_type": "markdown",
   "metadata": {},
   "source": [
    "### b) Import Python modules (1 point) \n",
    "Import pandas, geopandas, plotting, raster files,  numpy, netcdf"
   ]
  },
  {
   "cell_type": "code",
   "execution_count": 3,
   "metadata": {},
   "outputs": [],
   "source": [
    "# solution\n",
    "import pandas as pd\n",
    "#import geopandas as gpd\n",
    "import matplotlib.pyplot as plt\n",
    "import rasterio\n",
    "import numpy as np\n",
    "#import netCdf3\n",
    "import plotly.express as px\n",
    "import plotly.io as pio\n",
    "pio.renderers.default = 'vscode'\n",
    "import io\n",
    "import requests\n",
    "import time\n",
    "from datetime import datetime, timedelta\n",
    "#from folium.plugins import MarkerCluster\n",
    "from rasterio.mask import mask\n",
    "from rasterio.plot import show"
   ]
  },
  {
   "cell_type": "markdown",
   "metadata": {},
   "source": [
    "### c) Read data (2 points)\n",
    "Read the glacier data from the file ``glathida/data/glacier.csv`` into a pandas data frame, and decribe briefly the dataframe content and its first few lines."
   ]
  },
  {
   "cell_type": "code",
   "execution_count": 4,
   "metadata": {},
   "outputs": [
    {
     "data": {
      "text/html": [
       "<div>\n",
       "<style scoped>\n",
       "    .dataframe tbody tr th:only-of-type {\n",
       "        vertical-align: middle;\n",
       "    }\n",
       "\n",
       "    .dataframe tbody tr th {\n",
       "        vertical-align: top;\n",
       "    }\n",
       "\n",
       "    .dataframe thead th {\n",
       "        text-align: right;\n",
       "    }\n",
       "</style>\n",
       "<table border=\"1\" class=\"dataframe\">\n",
       "  <thead>\n",
       "    <tr style=\"text-align: right;\">\n",
       "      <th></th>\n",
       "      <th>id</th>\n",
       "      <th>survey_id</th>\n",
       "      <th>lat</th>\n",
       "      <th>lon</th>\n",
       "      <th>area</th>\n",
       "      <th>mean_slope</th>\n",
       "      <th>mean_thickness</th>\n",
       "      <th>mean_thickness_uncertainty</th>\n",
       "      <th>max_thickness</th>\n",
       "      <th>max_thickness_uncertainty</th>\n",
       "      <th>number_points</th>\n",
       "      <th>number_profiles</th>\n",
       "      <th>length_profiles</th>\n",
       "    </tr>\n",
       "  </thead>\n",
       "  <tbody>\n",
       "    <tr>\n",
       "      <th>count</th>\n",
       "      <td>1013.000000</td>\n",
       "      <td>1013.000000</td>\n",
       "      <td>1013.000000</td>\n",
       "      <td>1013.000000</td>\n",
       "      <td>985.000000</td>\n",
       "      <td>426.000000</td>\n",
       "      <td>498.000000</td>\n",
       "      <td>127.000000</td>\n",
       "      <td>525.000000</td>\n",
       "      <td>135.000000</td>\n",
       "      <td>593.000000</td>\n",
       "      <td>68.000000</td>\n",
       "      <td>141.000000</td>\n",
       "    </tr>\n",
       "    <tr>\n",
       "      <th>mean</th>\n",
       "      <td>1395.566634</td>\n",
       "      <td>130.707799</td>\n",
       "      <td>57.084700</td>\n",
       "      <td>14.987602</td>\n",
       "      <td>217.599979</td>\n",
       "      <td>9.091549</td>\n",
       "      <td>70.375502</td>\n",
       "      <td>7.125984</td>\n",
       "      <td>197.563810</td>\n",
       "      <td>10.074074</td>\n",
       "      <td>3086.131535</td>\n",
       "      <td>15.779412</td>\n",
       "      <td>48.587333</td>\n",
       "    </tr>\n",
       "    <tr>\n",
       "      <th>std</th>\n",
       "      <td>1085.433643</td>\n",
       "      <td>75.321429</td>\n",
       "      <td>29.473871</td>\n",
       "      <td>51.341702</td>\n",
       "      <td>1602.939314</td>\n",
       "      <td>5.806169</td>\n",
       "      <td>69.053311</td>\n",
       "      <td>5.988073</td>\n",
       "      <td>199.968677</td>\n",
       "      <td>6.977180</td>\n",
       "      <td>8117.336773</td>\n",
       "      <td>17.335018</td>\n",
       "      <td>183.175981</td>\n",
       "    </tr>\n",
       "    <tr>\n",
       "      <th>min</th>\n",
       "      <td>1.000000</td>\n",
       "      <td>1.000000</td>\n",
       "      <td>-74.583300</td>\n",
       "      <td>-151.300000</td>\n",
       "      <td>0.026400</td>\n",
       "      <td>0.000000</td>\n",
       "      <td>4.000000</td>\n",
       "      <td>0.000000</td>\n",
       "      <td>12.000000</td>\n",
       "      <td>1.000000</td>\n",
       "      <td>1.000000</td>\n",
       "      <td>1.000000</td>\n",
       "      <td>0.140000</td>\n",
       "    </tr>\n",
       "    <tr>\n",
       "      <th>25%</th>\n",
       "      <td>325.000000</td>\n",
       "      <td>69.000000</td>\n",
       "      <td>46.453610</td>\n",
       "      <td>10.700000</td>\n",
       "      <td>2.204000</td>\n",
       "      <td>6.000000</td>\n",
       "      <td>33.250000</td>\n",
       "      <td>3.000000</td>\n",
       "      <td>95.000000</td>\n",
       "      <td>5.000000</td>\n",
       "      <td>46.000000</td>\n",
       "      <td>6.000000</td>\n",
       "      <td>3.000000</td>\n",
       "    </tr>\n",
       "    <tr>\n",
       "      <th>50%</th>\n",
       "      <td>1995.000000</td>\n",
       "      <td>128.000000</td>\n",
       "      <td>62.039400</td>\n",
       "      <td>14.687100</td>\n",
       "      <td>10.959000</td>\n",
       "      <td>8.000000</td>\n",
       "      <td>51.000000</td>\n",
       "      <td>5.000000</td>\n",
       "      <td>140.000000</td>\n",
       "      <td>8.000000</td>\n",
       "      <td>189.000000</td>\n",
       "      <td>10.500000</td>\n",
       "      <td>9.500000</td>\n",
       "    </tr>\n",
       "    <tr>\n",
       "      <th>75%</th>\n",
       "      <td>2254.000000</td>\n",
       "      <td>203.000000</td>\n",
       "      <td>78.776000</td>\n",
       "      <td>22.280000</td>\n",
       "      <td>98.341000</td>\n",
       "      <td>12.000000</td>\n",
       "      <td>74.000000</td>\n",
       "      <td>9.000000</td>\n",
       "      <td>230.000000</td>\n",
       "      <td>13.000000</td>\n",
       "      <td>2018.000000</td>\n",
       "      <td>21.000000</td>\n",
       "      <td>22.500000</td>\n",
       "    </tr>\n",
       "    <tr>\n",
       "      <th>max</th>\n",
       "      <td>6631.000000</td>\n",
       "      <td>256.000000</td>\n",
       "      <td>81.767200</td>\n",
       "      <td>170.320000</td>\n",
       "      <td>40000.000000</td>\n",
       "      <td>48.000000</td>\n",
       "      <td>541.000000</td>\n",
       "      <td>30.000000</td>\n",
       "      <td>2500.000000</td>\n",
       "      <td>36.000000</td>\n",
       "      <td>67542.000000</td>\n",
       "      <td>120.000000</td>\n",
       "      <td>1657.000000</td>\n",
       "    </tr>\n",
       "  </tbody>\n",
       "</table>\n",
       "</div>"
      ],
      "text/plain": [
       "                id    survey_id          lat          lon          area  \\\n",
       "count  1013.000000  1013.000000  1013.000000  1013.000000    985.000000   \n",
       "mean   1395.566634   130.707799    57.084700    14.987602    217.599979   \n",
       "std    1085.433643    75.321429    29.473871    51.341702   1602.939314   \n",
       "min       1.000000     1.000000   -74.583300  -151.300000      0.026400   \n",
       "25%     325.000000    69.000000    46.453610    10.700000      2.204000   \n",
       "50%    1995.000000   128.000000    62.039400    14.687100     10.959000   \n",
       "75%    2254.000000   203.000000    78.776000    22.280000     98.341000   \n",
       "max    6631.000000   256.000000    81.767200   170.320000  40000.000000   \n",
       "\n",
       "       mean_slope  mean_thickness  mean_thickness_uncertainty  max_thickness  \\\n",
       "count  426.000000      498.000000                  127.000000     525.000000   \n",
       "mean     9.091549       70.375502                    7.125984     197.563810   \n",
       "std      5.806169       69.053311                    5.988073     199.968677   \n",
       "min      0.000000        4.000000                    0.000000      12.000000   \n",
       "25%      6.000000       33.250000                    3.000000      95.000000   \n",
       "50%      8.000000       51.000000                    5.000000     140.000000   \n",
       "75%     12.000000       74.000000                    9.000000     230.000000   \n",
       "max     48.000000      541.000000                   30.000000    2500.000000   \n",
       "\n",
       "       max_thickness_uncertainty  number_points  number_profiles  \\\n",
       "count                 135.000000     593.000000        68.000000   \n",
       "mean                   10.074074    3086.131535        15.779412   \n",
       "std                     6.977180    8117.336773        17.335018   \n",
       "min                     1.000000       1.000000         1.000000   \n",
       "25%                     5.000000      46.000000         6.000000   \n",
       "50%                     8.000000     189.000000        10.500000   \n",
       "75%                    13.000000    2018.000000        21.000000   \n",
       "max                    36.000000   67542.000000       120.000000   \n",
       "\n",
       "       length_profiles  \n",
       "count       141.000000  \n",
       "mean         48.587333  \n",
       "std         183.175981  \n",
       "min           0.140000  \n",
       "25%           3.000000  \n",
       "50%           9.500000  \n",
       "75%          22.500000  \n",
       "max        1657.000000  "
      ]
     },
     "execution_count": 4,
     "metadata": {},
     "output_type": "execute_result"
    }
   ],
   "source": [
    "# Solution\n",
    "t_path = \"glathida/data/glacier.csv\"\n",
    "df = pd.read_csv(t_path)\n",
    "df1=df.dropna(subset=['area','mean_thickness'])\n",
    "df.describe()"
   ]
  },
  {
   "cell_type": "markdown",
   "metadata": {},
   "source": [
    "**Explore the data with visualization**\n",
    "Before making any inference of models with the data, we will start by exploring basic correlations among parameters by plotting. In particular, we will focus on ``mean_thickness``, ``area``, ``mean_slope`` parameters.\n",
    "\n",
    "### d) Remove bad data (1 point)\n",
    "\n",
    "The database may contain Nans and other \"bad\" values (welcome to the data world!). First we will clean the data by removing nans. We are mostly interested in the thickness, area, and slope\n",
    "\n"
   ]
  },
  {
   "cell_type": "code",
   "execution_count": 5,
   "metadata": {},
   "outputs": [
    {
     "data": {
      "text/html": [
       "<div>\n",
       "<style scoped>\n",
       "    .dataframe tbody tr th:only-of-type {\n",
       "        vertical-align: middle;\n",
       "    }\n",
       "\n",
       "    .dataframe tbody tr th {\n",
       "        vertical-align: top;\n",
       "    }\n",
       "\n",
       "    .dataframe thead th {\n",
       "        text-align: right;\n",
       "    }\n",
       "</style>\n",
       "<table border=\"1\" class=\"dataframe\">\n",
       "  <thead>\n",
       "    <tr style=\"text-align: right;\">\n",
       "      <th></th>\n",
       "      <th>id</th>\n",
       "      <th>survey_id</th>\n",
       "      <th>name</th>\n",
       "      <th>external_db</th>\n",
       "      <th>external_id</th>\n",
       "      <th>lat</th>\n",
       "      <th>lon</th>\n",
       "      <th>date</th>\n",
       "      <th>max_date</th>\n",
       "      <th>area</th>\n",
       "      <th>...</th>\n",
       "      <th>mean_thickness</th>\n",
       "      <th>mean_thickness_uncertainty</th>\n",
       "      <th>max_thickness</th>\n",
       "      <th>max_thickness_uncertainty</th>\n",
       "      <th>number_points</th>\n",
       "      <th>number_profiles</th>\n",
       "      <th>length_profiles</th>\n",
       "      <th>interpolation_method</th>\n",
       "      <th>flag</th>\n",
       "      <th>remarks</th>\n",
       "    </tr>\n",
       "  </thead>\n",
       "  <tbody>\n",
       "    <tr>\n",
       "      <th>32</th>\n",
       "      <td>33</td>\n",
       "      <td>9</td>\n",
       "      <td>Easton Glacier</td>\n",
       "      <td>FOG</td>\n",
       "      <td>1367</td>\n",
       "      <td>48.75000</td>\n",
       "      <td>-121.83000</td>\n",
       "      <td>1992-01-01</td>\n",
       "      <td>1992-12-31</td>\n",
       "      <td>2.9</td>\n",
       "      <td>...</td>\n",
       "      <td>58.0</td>\n",
       "      <td>NaN</td>\n",
       "      <td>107.0</td>\n",
       "      <td>NaN</td>\n",
       "      <td>64.0</td>\n",
       "      <td>NaN</td>\n",
       "      <td>NaN</td>\n",
       "      <td>NaN</td>\n",
       "      <td>NaN</td>\n",
       "      <td>NaN</td>\n",
       "    </tr>\n",
       "    <tr>\n",
       "      <th>33</th>\n",
       "      <td>34</td>\n",
       "      <td>10</td>\n",
       "      <td>Lemon Creek Glacier</td>\n",
       "      <td>FOG</td>\n",
       "      <td>3334</td>\n",
       "      <td>58.38000</td>\n",
       "      <td>-134.36000</td>\n",
       "      <td>1956-06-21</td>\n",
       "      <td>1956-09-22</td>\n",
       "      <td>11.7</td>\n",
       "      <td>...</td>\n",
       "      <td>66.0</td>\n",
       "      <td>NaN</td>\n",
       "      <td>200.0</td>\n",
       "      <td>NaN</td>\n",
       "      <td>182.0</td>\n",
       "      <td>NaN</td>\n",
       "      <td>NaN</td>\n",
       "      <td>NaN</td>\n",
       "      <td>NaN</td>\n",
       "      <td>NaN</td>\n",
       "    </tr>\n",
       "    <tr>\n",
       "      <th>47</th>\n",
       "      <td>48</td>\n",
       "      <td>16</td>\n",
       "      <td>Kavrayskogo</td>\n",
       "      <td>WGI</td>\n",
       "      <td>SU5X13207002</td>\n",
       "      <td>45.23645</td>\n",
       "      <td>80.78166</td>\n",
       "      <td>1962-01-01</td>\n",
       "      <td>1962-12-31</td>\n",
       "      <td>3.2</td>\n",
       "      <td>...</td>\n",
       "      <td>49.0</td>\n",
       "      <td>NaN</td>\n",
       "      <td>116.0</td>\n",
       "      <td>NaN</td>\n",
       "      <td>NaN</td>\n",
       "      <td>NaN</td>\n",
       "      <td>NaN</td>\n",
       "      <td>NaN</td>\n",
       "      <td>NaN</td>\n",
       "      <td>LAT/LON: FoG 2009</td>\n",
       "    </tr>\n",
       "    <tr>\n",
       "      <th>48</th>\n",
       "      <td>49</td>\n",
       "      <td>16</td>\n",
       "      <td>Krasovskogo</td>\n",
       "      <td>WGI</td>\n",
       "      <td>SU5X13207003</td>\n",
       "      <td>45.23513</td>\n",
       "      <td>80.80835</td>\n",
       "      <td>1962-01-01</td>\n",
       "      <td>1962-12-31</td>\n",
       "      <td>3.4</td>\n",
       "      <td>...</td>\n",
       "      <td>49.0</td>\n",
       "      <td>NaN</td>\n",
       "      <td>139.0</td>\n",
       "      <td>NaN</td>\n",
       "      <td>NaN</td>\n",
       "      <td>NaN</td>\n",
       "      <td>NaN</td>\n",
       "      <td>NaN</td>\n",
       "      <td>NaN</td>\n",
       "      <td>LAT/LON: Katalog Lednikow</td>\n",
       "    </tr>\n",
       "    <tr>\n",
       "      <th>49</th>\n",
       "      <td>50</td>\n",
       "      <td>17</td>\n",
       "      <td>214</td>\n",
       "      <td>WGI</td>\n",
       "      <td>SU5X13205214</td>\n",
       "      <td>44.92845</td>\n",
       "      <td>79.13669</td>\n",
       "      <td>1981-01-01</td>\n",
       "      <td>1981-12-31</td>\n",
       "      <td>1.0</td>\n",
       "      <td>...</td>\n",
       "      <td>52.0</td>\n",
       "      <td>NaN</td>\n",
       "      <td>NaN</td>\n",
       "      <td>NaN</td>\n",
       "      <td>NaN</td>\n",
       "      <td>NaN</td>\n",
       "      <td>NaN</td>\n",
       "      <td>NaN</td>\n",
       "      <td>NaN</td>\n",
       "      <td>MEAN_SLOPE: Bahr et al. 1997 (https://doi.org/...</td>\n",
       "    </tr>\n",
       "  </tbody>\n",
       "</table>\n",
       "<p>5 rows × 21 columns</p>\n",
       "</div>"
      ],
      "text/plain": [
       "    id  survey_id                 name external_db   external_id       lat  \\\n",
       "32  33          9       Easton Glacier         FOG          1367  48.75000   \n",
       "33  34         10  Lemon Creek Glacier         FOG          3334  58.38000   \n",
       "47  48         16          Kavrayskogo         WGI  SU5X13207002  45.23645   \n",
       "48  49         16          Krasovskogo         WGI  SU5X13207003  45.23513   \n",
       "49  50         17                  214         WGI  SU5X13205214  44.92845   \n",
       "\n",
       "          lon        date    max_date  area  ...  mean_thickness  \\\n",
       "32 -121.83000  1992-01-01  1992-12-31   2.9  ...            58.0   \n",
       "33 -134.36000  1956-06-21  1956-09-22  11.7  ...            66.0   \n",
       "47   80.78166  1962-01-01  1962-12-31   3.2  ...            49.0   \n",
       "48   80.80835  1962-01-01  1962-12-31   3.4  ...            49.0   \n",
       "49   79.13669  1981-01-01  1981-12-31   1.0  ...            52.0   \n",
       "\n",
       "    mean_thickness_uncertainty  max_thickness  max_thickness_uncertainty  \\\n",
       "32                         NaN          107.0                        NaN   \n",
       "33                         NaN          200.0                        NaN   \n",
       "47                         NaN          116.0                        NaN   \n",
       "48                         NaN          139.0                        NaN   \n",
       "49                         NaN            NaN                        NaN   \n",
       "\n",
       "    number_points  number_profiles  length_profiles  interpolation_method  \\\n",
       "32           64.0              NaN              NaN                   NaN   \n",
       "33          182.0              NaN              NaN                   NaN   \n",
       "47            NaN              NaN              NaN                   NaN   \n",
       "48            NaN              NaN              NaN                   NaN   \n",
       "49            NaN              NaN              NaN                   NaN   \n",
       "\n",
       "   flag                                            remarks  \n",
       "32  NaN                                                NaN  \n",
       "33  NaN                                                NaN  \n",
       "47  NaN                                  LAT/LON: FoG 2009  \n",
       "48  NaN                          LAT/LON: Katalog Lednikow  \n",
       "49  NaN  MEAN_SLOPE: Bahr et al. 1997 (https://doi.org/...  \n",
       "\n",
       "[5 rows x 21 columns]"
      ]
     },
     "execution_count": 5,
     "metadata": {},
     "output_type": "execute_result"
    }
   ],
   "source": [
    "#answer below \n",
    "df.dropna(subset=['date','area','mean_slope','mean_thickness'],inplace=True)\n",
    "df.head(5)"
   ]
  },
  {
   "cell_type": "markdown",
   "metadata": {},
   "source": [
    "## 2. Mapping glaciers (10 points)\n",
    "\n",
    "Make a global map of the glaciers. Use either of the tools we learned in class:\n",
    "* Geopandas, DEMs from NetCDFfiles (see chapter 2.4)\n",
    "* Pandas and Plotly (see chapter 2.2). You may need to transform some of the series into log-spaced values for better visualization."
   ]
  },
  {
   "cell_type": "markdown",
   "metadata": {},
   "source": [
    "### Option 1: Tif and matplotlib\n",
    "\n",
    "You can use the ``elevation`` data from the DEM seen in class. Download the DEM file (https://www.dropbox.com/s/j5lxhd8uxrtsxko/HYP_50M_SR.tif?dl=1)"
   ]
  },
  {
   "cell_type": "code",
   "execution_count": 6,
   "metadata": {},
   "outputs": [],
   "source": [
    "# solution\n",
    "fname=\"HYP_50M_SR.tif\"\n",
    "elevation = rasterio.open(fname)\n"
   ]
  },
  {
   "cell_type": "markdown",
   "metadata": {},
   "source": [
    "\n",
    "___Tips___: when plotting a image in ``matplotlib`` you need to add information about the physical dimensions of the image. You can calculate the ``bounds``."
   ]
  },
  {
   "cell_type": "code",
   "execution_count": 7,
   "metadata": {},
   "outputs": [],
   "source": [
    "bounds = (elevation.bounds.left, elevation.bounds.right, \\\n",
    "          elevation.bounds.bottom, elevation.bounds.top)"
   ]
  },
  {
   "cell_type": "markdown",
   "metadata": {},
   "source": [
    "We will use ``matplotlib.pyplot`` to show the raster image in the background (tips: use ``imshow()``. The raster image in matplotlib can only import one frame and not three (R, G, B) frames. We will first stack the three images together. "
   ]
  },
  {
   "cell_type": "code",
   "execution_count": 8,
   "metadata": {},
   "outputs": [],
   "source": [
    "red = elevation.read(1)\n",
    "green = elevation.read(2)\n",
    "blue = elevation.read(3)\n",
    "pix = np.dstack((red, green, blue))"
   ]
  },
  {
   "cell_type": "code",
   "execution_count": 9,
   "metadata": {},
   "outputs": [
    {
     "data": {
      "image/png": "[encoded data removed]",
      "text/plain": [
       "<Figure size 432x288 with 1 Axes>"
      ]
     },
     "metadata": {
      "needs_background": "light"
     },
     "output_type": "display_data"
    },
    {
     "data": {
      "text/plain": [
       "<AxesSubplot:>"
      ]
     },
     "execution_count": 9,
     "metadata": {},
     "output_type": "execute_result"
    }
   ],
   "source": [
    "# solution\n",
    "image = elevation.read()\n",
    "show(image)"
   ]
  },
  {
   "cell_type": "markdown",
   "metadata": {},
   "source": [
    "## Option 2: Plotly\n",
    "\n",
    "You may use plotly. For improved visibility, transform some of the data into log-spaced. You may add these transformed Series into the Pandas, and use them as input to plotly."
   ]
  },
  {
   "cell_type": "code",
   "execution_count": 10,
   "metadata": {},
   "outputs": [],
   "source": [
    "\n",
    "import plotly.express as px\n",
    "import plotly.io as pio\n",
    "pio.renderers.default = 'vscode' # writes as standalone html, \n",
    "# pio.renderers.default = 'iframe' # writes files as standalone html, \n",
    "# pio.renderers.default = 'png' # writes files as standalone html, \n",
    "# try notebook, jupyterlab, png, vscode, iframe"
   ]
  },
  {
   "cell_type": "code",
   "execution_count": 11,
   "metadata": {},
   "outputs": [
    {
     "data": {
      "application/vnd.plotly.v1+json": {
       "config": {
        "plotlyServerURL": "https://plot.ly"
       },
       "data": [
        {
         "customdata": [
          [
           33,
           2.9,
           0,
           58
          ],
          [
           34,
           11.7,
           0,
           66
          ],
          [
           48,
           3.2,
           0,
           49
          ],
          [
           49,
           3.4,
           0,
           49
          ],
          [
           50,
           1,
           0,
           52
          ],
          [
           51,
           2,
           0,
           43
          ],
          [
           52,
           2.8,
           0,
           52
          ],
          [
           53,
           1.2,
           0,
           47
          ],
          [
           54,
           2.2,
           0,
           45
          ],
          [
           55,
           1.6,
           0,
           49
          ],
          [
           56,
           5.3,
           0,
           54
          ],
          [
           57,
           2.3,
           0,
           67
          ],
          [
           58,
           2,
           0,
           37
          ],
          [
           59,
           1.5,
           0,
           39
          ],
          [
           60,
           1.1,
           0,
           32
          ],
          [
           65,
           1.5,
           0,
           58
          ],
          [
           66,
           1.7,
           0,
           51
          ],
          [
           68,
           2.6,
           0,
           50
          ],
          [
           69,
           1,
           0,
           47
          ],
          [
           71,
           1,
           0,
           47
          ],
          [
           72,
           1,
           0,
           29
          ],
          [
           73,
           1.5,
           1,
           31
          ],
          [
           74,
           2.1,
           0,
           54
          ],
          [
           75,
           1.1,
           0,
           49
          ],
          [
           76,
           1.7,
           0,
           25
          ],
          [
           77,
           2.8,
           0,
           48
          ],
          [
           78,
           3.8,
           0,
           47
          ],
          [
           79,
           2.9,
           0,
           45
          ],
          [
           80,
           0.8,
           0,
           40
          ],
          [
           81,
           4.2,
           0,
           49
          ],
          [
           82,
           2.5,
           0,
           42
          ],
          [
           83,
           2.1,
           0,
           27
          ],
          [
           84,
           1.4,
           0,
           59
          ],
          [
           85,
           1.9,
           0,
           36
          ],
          [
           86,
           0.9,
           0,
           48
          ],
          [
           87,
           1.5,
           0,
           33
          ],
          [
           91,
           2.82,
           0,
           62
          ],
          [
           92,
           1,
           0,
           61
          ],
          [
           333,
           9.7,
           12,
           30
          ],
          [
           358,
           1,
           10,
           26
          ],
          [
           362,
           0.08068,
           22,
           15
          ],
          [
           486,
           0.307,
           18,
           17
          ],
          [
           487,
           0.084,
           22,
           5
          ],
          [
           488,
           0.223,
           26,
           12
          ],
          [
           489,
           0.106,
           33,
           4
          ],
          [
           490,
           0.101,
           22,
           6
          ],
          [
           497,
           13.07938,
           13,
           89
          ],
          [
           2093,
           0.3097,
           21,
           22
          ],
          [
           2011,
           0.191,
           26,
           22
          ],
          [
           2012,
           1.8841,
           21,
           65
          ],
          [
           2013,
           0.0264,
           48,
           8
          ],
          [
           2014,
           0.2257,
           22,
           17
          ],
          [
           2015,
           0.13572,
           27,
           15
          ],
          [
           2016,
           0.3015,
           15,
           23
          ],
          [
           2017,
           0.36654,
           17,
           26
          ],
          [
           2018,
           0.5825,
           15,
           19
          ],
          [
           2019,
           0.39062,
           20,
           13
          ],
          [
           2020,
           0.05848,
           27,
           8
          ],
          [
           2021,
           0.37938,
           17,
           19
          ],
          [
           2022,
           0.3017,
           15,
           29
          ],
          [
           2023,
           0.2176,
           22,
           16
          ],
          [
           2024,
           0.62967,
           16,
           25
          ],
          [
           2025,
           3.2275,
           10,
           69
          ],
          [
           2026,
           0.2605,
           30,
           15
          ],
          [
           2057,
           5.36,
           14,
           90
          ],
          [
           2059,
           2.9,
           13,
           70
          ],
          [
           2060,
           8.6,
           7,
           128
          ],
          [
           2061,
           2.1,
           12,
           60
          ],
          [
           2062,
           3.2,
           13,
           67
          ],
          [
           2067,
           11.1,
           5,
           208
          ],
          [
           2068,
           71.3,
           6,
           148
          ],
          [
           2074,
           2.76,
           13,
           97
          ],
          [
           2075,
           39.96,
           3,
           85
          ],
          [
           2076,
           28.59,
           3,
           74
          ],
          [
           2083,
           1.59,
           20,
           44
          ],
          [
           2084,
           1,
           16,
           70
          ],
          [
           2085,
           3.078,
           17,
           23
          ],
          [
           2086,
           2.8,
           20,
           28
          ],
          [
           2087,
           1.69,
           20,
           46
          ],
          [
           2088,
           1.09,
           18,
           44
          ],
          [
           2089,
           0.6,
           23,
           49
          ],
          [
           2090,
           2.39,
           16,
           51
          ],
          [
           2092,
           2.85,
           12,
           50
          ],
          [
           2096,
           0.5368,
           24,
           16
          ],
          [
           2097,
           1.24651,
           20,
           15
          ],
          [
           2098,
           6.078,
           25,
           58
          ],
          [
           2099,
           1.55417,
           10,
           29
          ],
          [
           2100,
           2.96629,
           21,
           41
          ],
          [
           2104,
           10.6,
           9,
           65
          ],
          [
           2105,
           4,
           10,
           57
          ],
          [
           2106,
           2.6,
           9,
           85
          ],
          [
           2107,
           3.28,
           9,
           68
          ],
          [
           2111,
           2.1,
           13,
           32
          ],
          [
           2119,
           2.61,
           20,
           47
          ],
          [
           2123,
           6.737,
           6,
           65
          ],
          [
           2240,
           0.37,
           19,
           27
          ],
          [
           2328,
           4.6,
           14,
           76
          ]
         ],
         "geo": "geo",
         "hovertemplate": "<b>%{hovertext}</b><br><br>id=%{customdata[0]}<br>lat=%{lat}<br>lon=%{lon}<br>area=%{marker.color}<br>mean_slope=%{customdata[2]}<br>mean_thickness=%{customdata[3]}<extra></extra>",
         "hovertext": [
          33,
          34,
          48,
          49,
          50,
          51,
          52,
          53,
          54,
          55,
          56,
          57,
          58,
          59,
          60,
          65,
          66,
          68,
          69,
          71,
          72,
          73,
          74,
          75,
          76,
          77,
          78,
          79,
          80,
          81,
          82,
          83,
          84,
          85,
          86,
          87,
          91,
          92,
          333,
          358,
          362,
          486,
          487,
          488,
          489,
          490,
          497,
          2093,
          2011,
          2012,
          2013,
          2014,
          2015,
          2016,
          2017,
          2018,
          2019,
          2020,
          2021,
          2022,
          2023,
          2024,
          2025,
          2026,
          2057,
          2059,
          2060,
          2061,
          2062,
          2067,
          2068,
          2074,
          2075,
          2076,
          2083,
          2084,
          2085,
          2086,
          2087,
          2088,
          2089,
          2090,
          2092,
          2096,
          2097,
          2098,
          2099,
          2100,
          2104,
          2105,
          2106,
          2107,
          2111,
          2119,
          2123,
          2240,
          2328
         ],
         "lat": [
          48.75,
          58.38,
          45.23645,
          45.23513,
          44.92845,
          44.883,
          44.883,
          44.917,
          44.85772,
          44.83929,
          44.97,
          44.89076,
          44.97,
          44.95518,
          44.95315,
          44.99511,
          45,
          44.5841,
          44.5858,
          44.7016,
          44.722,
          44.7049,
          44.685,
          44.679,
          44.6667,
          44.7404,
          44.77608,
          44.77695,
          44.582,
          44.5821,
          44.5846,
          44.6142,
          44.5723,
          44.5804,
          44.56647,
          44.59,
          45.08,
          45.0958,
          30.855,
          48.62495,
          46.9595,
          47.4139,
          47.4,
          47.4231,
          47.571,
          47.5543,
          45.9936,
          -16.3023,
          4.80506,
          -16.266,
          47.25038,
          46.418641,
          46.6049,
          46.408281,
          46.550849,
          46.1666,
          46.916205,
          46.5967,
          46.910684,
          46.327,
          46.600208,
          46.08483,
          46.3202,
          46.048207,
          61.573395,
          61.555861,
          61.541544,
          61.656513,
          70.128,
          67.278,
          60.546,
          43.361887,
          78.1851,
          78.1071,
          43.11124,
          51.177,
          47.065194,
          43.8342,
          43.11124,
          43.11124,
          43.118294,
          41.825132,
          67.094,
          38.214,
          43.731,
          43.784,
          41.78,
          39.237,
          61.75,
          61.75,
          61.75,
          61.73,
          78.24548,
          43.043653,
          77.9714,
          77.0272,
          78.871
         ],
         "legendgroup": "",
         "lon": [
          -121.83,
          -134.36,
          80.78166,
          80.80835,
          79.13669,
          79.285,
          79.317,
          79.317,
          79.45203,
          79.46103,
          79.42,
          79.48539,
          79.53,
          79.54601,
          79.56239,
          79.75732,
          79.82,
          79.4753,
          79.498,
          79.5927,
          79.648,
          79.7181,
          79.7254,
          79.7375,
          79.7391,
          79.961,
          79.93852,
          79.82588,
          80.29,
          80.2741,
          80.2417,
          80.1426,
          80.172,
          80.1887,
          80.12033,
          80.1179,
          80.23,
          80.23832,
          78.818,
          -113.75707,
          9.3891,
          10.972,
          10.9736,
          10.9912,
          12.8666,
          12.9282,
          7.87051,
          -68.1064,
          -75.3715,
          -68.148,
          9.34301,
          9.825164,
          8.61212,
          9.825684,
          8.417236,
          6.93715,
          9.255655,
          8.61109,
          9.249232,
          7.21308,
          8.602228,
          7.309231,
          7.22536,
          7.517633,
          8.131989,
          8.441361,
          8.454024,
          8.599633,
          21.735,
          16.037,
          7.432,
          41.419771,
          18.2064,
          17.6978,
          86.810015,
          -116.33,
          85.563635,
          88.3261,
          86.810015,
          86.810015,
          86.80358,
          78.176022,
          -53.213,
          99.881,
          84.391,
          88.356,
          79.894,
          97.755,
          5.67,
          5.64,
          5.67,
          5.66,
          16.06438,
          77.080587,
          14.0691,
          15.4854,
          12.1614
         ],
         "marker": {
          "color": [
           2.9,
           11.7,
           3.2,
           3.4,
           1,
           2,
           2.8,
           1.2,
           2.2,
           1.6,
           5.3,
           2.3,
           2,
           1.5,
           1.1,
           1.5,
           1.7,
           2.6,
           1,
           1,
           1,
           1.5,
           2.1,
           1.1,
           1.7,
           2.8,
           3.8,
           2.9,
           0.8,
           4.2,
           2.5,
           2.1,
           1.4,
           1.9,
           0.9,
           1.5,
           2.82,
           1,
           9.7,
           1,
           0.08068,
           0.307,
           0.084,
           0.223,
           0.106,
           0.101,
           13.07938,
           0.3097,
           0.191,
           1.8841,
           0.0264,
           0.2257,
           0.13572,
           0.3015,
           0.36654,
           0.5825,
           0.39062,
           0.05848,
           0.37938,
           0.3017,
           0.2176,
           0.62967,
           3.2275,
           0.2605,
           5.36,
           2.9,
           8.6,
           2.1,
           3.2,
           11.1,
           71.3,
           2.76,
           39.96,
           28.59,
           1.59,
           1,
           3.078,
           2.8,
           1.69,
           1.09,
           0.6,
           2.39,
           2.85,
           0.5368,
           1.24651,
           6.078,
           1.55417,
           2.96629,
           10.6,
           4,
           2.6,
           3.28,
           2.1,
           2.61,
           6.737,
           0.37,
           4.6
          ],
          "coloraxis": "coloraxis",
          "size": [
           33,
           34,
           48,
           49,
           50,
           51,
           52,
           53,
           54,
           55,
           56,
           57,
           58,
           59,
           60,
           65,
           66,
           68,
           69,
           71,
           72,
           73,
           74,
           75,
           76,
           77,
           78,
           79,
           80,
           81,
           82,
           83,
           84,
           85,
           86,
           87,
           91,
           92,
           333,
           358,
           362,
           486,
           487,
           488,
           489,
           490,
           497,
           2093,
           2011,
           2012,
           2013,
           2014,
           2015,
           2016,
           2017,
           2018,
           2019,
           2020,
           2021,
           2022,
           2023,
           2024,
           2025,
           2026,
           2057,
           2059,
           2060,
           2061,
           2062,
           2067,
           2068,
           2074,
           2075,
           2076,
           2083,
           2084,
           2085,
           2086,
           2087,
           2088,
           2089,
           2090,
           2092,
           2096,
           2097,
           2098,
           2099,
           2100,
           2104,
           2105,
           2106,
           2107,
           2111,
           2119,
           2123,
           2240,
           2328
          ],
          "sizemode": "area",
          "sizeref": 5.82,
          "symbol": "circle"
         },
         "mode": "markers",
         "name": "",
         "showlegend": false,
         "type": "scattergeo"
        }
       ],
       "layout": {
        "coloraxis": {
         "cmax": 9,
         "cmin": 1,
         "colorbar": {
          "title": {
           "text": "area"
          }
         },
         "colorscale": [
          [
           0,
           "#0d0887"
          ],
          [
           0.1111111111111111,
           "#46039f"
          ],
          [
           0.2222222222222222,
           "#7201a8"
          ],
          [
           0.3333333333333333,
           "#9c179e"
          ],
          [
           0.4444444444444444,
           "#bd3786"
          ],
          [
           0.5555555555555556,
           "#d8576b"
          ],
          [
           0.6666666666666666,
           "#ed7953"
          ],
          [
           0.7777777777777778,
           "#fb9f3a"
          ],
          [
           0.8888888888888888,
           "#fdca26"
          ],
          [
           1,
           "#f0f921"
          ]
         ]
        },
        "geo": {
         "center": {},
         "domain": {
          "x": [
           0,
           1
          ],
          "y": [
           0,
           1
          ]
         },
         "projection": {
          "type": "orthographic"
         },
         "resolution": 110,
         "showcountries": true
        },
        "height": 600,
        "legend": {
         "itemsizing": "constant",
         "tracegroupgap": 0
        },
        "margin": {
         "t": 60
        },
        "template": {
         "data": {
          "bar": [
           {
            "error_x": {
             "color": "#2a3f5f"
            },
            "error_y": {
             "color": "#2a3f5f"
            },
            "marker": {
             "line": {
              "color": "#E5ECF6",
              "width": 0.5
             },
             "pattern": {
              "fillmode": "overlay",
              "size": 10,
              "solidity": 0.2
             }
            },
            "type": "bar"
           }
          ],
          "barpolar": [
           {
            "marker": {
             "line": {
              "color": "#E5ECF6",
              "width": 0.5
             },
             "pattern": {
              "fillmode": "overlay",
              "size": 10,
              "solidity": 0.2
             }
            },
            "type": "barpolar"
           }
          ],
          "carpet": [
           {
            "aaxis": {
             "endlinecolor": "#2a3f5f",
             "gridcolor": "white",
             "linecolor": "white",
             "minorgridcolor": "white",
             "startlinecolor": "#2a3f5f"
            },
            "baxis": {
             "endlinecolor": "#2a3f5f",
             "gridcolor": "white",
             "linecolor": "white",
             "minorgridcolor": "white",
             "startlinecolor": "#2a3f5f"
            },
            "type": "carpet"
           }
          ],
          "choropleth": [
           {
            "colorbar": {
             "outlinewidth": 0,
             "ticks": ""
            },
            "type": "choropleth"
           }
          ],
          "contour": [
           {
            "colorbar": {
             "outlinewidth": 0,
             "ticks": ""
            },
            "colorscale": [
             [
              0,
              "#0d0887"
             ],
             [
              0.1111111111111111,
              "#46039f"
             ],
             [
              0.2222222222222222,
              "#7201a8"
             ],
             [
              0.3333333333333333,
              "#9c179e"
             ],
             [
              0.4444444444444444,
              "#bd3786"
             ],
             [
              0.5555555555555556,
              "#d8576b"
             ],
             [
              0.6666666666666666,
              "#ed7953"
             ],
             [
              0.7777777777777778,
              "#fb9f3a"
             ],
             [
              0.8888888888888888,
              "#fdca26"
             ],
             [
              1,
              "#f0f921"
             ]
            ],
            "type": "contour"
           }
          ],
          "contourcarpet": [
           {
            "colorbar": {
             "outlinewidth": 0,
             "ticks": ""
            },
            "type": "contourcarpet"
           }
          ],
          "heatmap": [
           {
            "colorbar": {
             "outlinewidth": 0,
             "ticks": ""
            },
            "colorscale": [
             [
              0,
              "#0d0887"
             ],
             [
              0.1111111111111111,
              "#46039f"
             ],
             [
              0.2222222222222222,
              "#7201a8"
             ],
             [
              0.3333333333333333,
              "#9c179e"
             ],
             [
              0.4444444444444444,
              "#bd3786"
             ],
             [
              0.5555555555555556,
              "#d8576b"
             ],
             [
              0.6666666666666666,
              "#ed7953"
             ],
             [
              0.7777777777777778,
              "#fb9f3a"
             ],
             [
              0.8888888888888888,
              "#fdca26"
             ],
             [
              1,
              "#f0f921"
             ]
            ],
            "type": "heatmap"
           }
          ],
          "heatmapgl": [
           {
            "colorbar": {
             "outlinewidth": 0,
             "ticks": ""
            },
            "colorscale": [
             [
              0,
              "#0d0887"
             ],
             [
              0.1111111111111111,
              "#46039f"
             ],
             [
              0.2222222222222222,
              "#7201a8"
             ],
             [
              0.3333333333333333,
              "#9c179e"
             ],
             [
              0.4444444444444444,
              "#bd3786"
             ],
             [
              0.5555555555555556,
              "#d8576b"
             ],
             [
              0.6666666666666666,
              "#ed7953"
             ],
             [
              0.7777777777777778,
              "#fb9f3a"
             ],
             [
              0.8888888888888888,
              "#fdca26"
             ],
             [
              1,
              "#f0f921"
             ]
            ],
            "type": "heatmapgl"
           }
          ],
          "histogram": [
           {
            "marker": {
             "pattern": {
              "fillmode": "overlay",
              "size": 10,
              "solidity": 0.2
             }
            },
            "type": "histogram"
           }
          ],
          "histogram2d": [
           {
            "colorbar": {
             "outlinewidth": 0,
             "ticks": ""
            },
            "colorscale": [
             [
              0,
              "#0d0887"
             ],
             [
              0.1111111111111111,
              "#46039f"
             ],
             [
              0.2222222222222222,
              "#7201a8"
             ],
             [
              0.3333333333333333,
              "#9c179e"
             ],
             [
              0.4444444444444444,
              "#bd3786"
             ],
             [
              0.5555555555555556,
              "#d8576b"
             ],
             [
              0.6666666666666666,
              "#ed7953"
             ],
             [
              0.7777777777777778,
              "#fb9f3a"
             ],
             [
              0.8888888888888888,
              "#fdca26"
             ],
             [
              1,
              "#f0f921"
             ]
            ],
            "type": "histogram2d"
           }
          ],
          "histogram2dcontour": [
           {
            "colorbar": {
             "outlinewidth": 0,
             "ticks": ""
            },
            "colorscale": [
             [
              0,
              "#0d0887"
             ],
             [
              0.1111111111111111,
              "#46039f"
             ],
             [
              0.2222222222222222,
              "#7201a8"
             ],
             [
              0.3333333333333333,
              "#9c179e"
             ],
             [
              0.4444444444444444,
              "#bd3786"
             ],
             [
              0.5555555555555556,
              "#d8576b"
             ],
             [
              0.6666666666666666,
              "#ed7953"
             ],
             [
              0.7777777777777778,
              "#fb9f3a"
             ],
             [
              0.8888888888888888,
              "#fdca26"
             ],
             [
              1,
              "#f0f921"
             ]
            ],
            "type": "histogram2dcontour"
           }
          ],
          "mesh3d": [
           {
            "colorbar": {
             "outlinewidth": 0,
             "ticks": ""
            },
            "type": "mesh3d"
           }
          ],
          "parcoords": [
           {
            "line": {
             "colorbar": {
              "outlinewidth": 0,
              "ticks": ""
             }
            },
            "type": "parcoords"
           }
          ],
          "pie": [
           {
            "automargin": true,
            "type": "pie"
           }
          ],
          "scatter": [
           {
            "marker": {
             "colorbar": {
              "outlinewidth": 0,
              "ticks": ""
             }
            },
            "type": "scatter"
           }
          ],
          "scatter3d": [
           {
            "line": {
             "colorbar": {
              "outlinewidth": 0,
              "ticks": ""
             }
            },
            "marker": {
             "colorbar": {
              "outlinewidth": 0,
              "ticks": ""
             }
            },
            "type": "scatter3d"
           }
          ],
          "scattercarpet": [
           {
            "marker": {
             "colorbar": {
              "outlinewidth": 0,
              "ticks": ""
             }
            },
            "type": "scattercarpet"
           }
          ],
          "scattergeo": [
           {
            "marker": {
             "colorbar": {
              "outlinewidth": 0,
              "ticks": ""
             }
            },
            "type": "scattergeo"
           }
          ],
          "scattergl": [
           {
            "marker": {
             "colorbar": {
              "outlinewidth": 0,
              "ticks": ""
             }
            },
            "type": "scattergl"
           }
          ],
          "scattermapbox": [
           {
            "marker": {
             "colorbar": {
              "outlinewidth": 0,
              "ticks": ""
             }
            },
            "type": "scattermapbox"
           }
          ],
          "scatterpolar": [
           {
            "marker": {
             "colorbar": {
              "outlinewidth": 0,
              "ticks": ""
             }
            },
            "type": "scatterpolar"
           }
          ],
          "scatterpolargl": [
           {
            "marker": {
             "colorbar": {
              "outlinewidth": 0,
              "ticks": ""
             }
            },
            "type": "scatterpolargl"
           }
          ],
          "scatterternary": [
           {
            "marker": {
             "colorbar": {
              "outlinewidth": 0,
              "ticks": ""
             }
            },
            "type": "scatterternary"
           }
          ],
          "surface": [
           {
            "colorbar": {
             "outlinewidth": 0,
             "ticks": ""
            },
            "colorscale": [
             [
              0,
              "#0d0887"
             ],
             [
              0.1111111111111111,
              "#46039f"
             ],
             [
              0.2222222222222222,
              "#7201a8"
             ],
             [
              0.3333333333333333,
              "#9c179e"
             ],
             [
              0.4444444444444444,
              "#bd3786"
             ],
             [
              0.5555555555555556,
              "#d8576b"
             ],
             [
              0.6666666666666666,
              "#ed7953"
             ],
             [
              0.7777777777777778,
              "#fb9f3a"
             ],
             [
              0.8888888888888888,
              "#fdca26"
             ],
             [
              1,
              "#f0f921"
             ]
            ],
            "type": "surface"
           }
          ],
          "table": [
           {
            "cells": {
             "fill": {
              "color": "#EBF0F8"
             },
             "line": {
              "color": "white"
             }
            },
            "header": {
             "fill": {
              "color": "#C8D4E3"
             },
             "line": {
              "color": "white"
             }
            },
            "type": "table"
           }
          ]
         },
         "layout": {
          "annotationdefaults": {
           "arrowcolor": "#2a3f5f",
           "arrowhead": 0,
           "arrowwidth": 1
          },
          "autotypenumbers": "strict",
          "coloraxis": {
           "colorbar": {
            "outlinewidth": 0,
            "ticks": ""
           }
          },
          "colorscale": {
           "diverging": [
            [
             0,
             "#8e0152"
            ],
            [
             0.1,
             "#c51b7d"
            ],
            [
             0.2,
             "#de77ae"
            ],
            [
             0.3,
             "#f1b6da"
            ],
            [
             0.4,
             "#fde0ef"
            ],
            [
             0.5,
             "#f7f7f7"
            ],
            [
             0.6,
             "#e6f5d0"
            ],
            [
             0.7,
             "#b8e186"
            ],
            [
             0.8,
             "#7fbc41"
            ],
            [
             0.9,
             "#4d9221"
            ],
            [
             1,
             "#276419"
            ]
           ],
           "sequential": [
            [
             0,
             "#0d0887"
            ],
            [
             0.1111111111111111,
             "#46039f"
            ],
            [
             0.2222222222222222,
             "#7201a8"
            ],
            [
             0.3333333333333333,
             "#9c179e"
            ],
            [
             0.4444444444444444,
             "#bd3786"
            ],
            [
             0.5555555555555556,
             "#d8576b"
            ],
            [
             0.6666666666666666,
             "#ed7953"
            ],
            [
             0.7777777777777778,
             "#fb9f3a"
            ],
            [
             0.8888888888888888,
             "#fdca26"
            ],
            [
             1,
             "#f0f921"
            ]
           ],
           "sequentialminus": [
            [
             0,
             "#0d0887"
            ],
            [
             0.1111111111111111,
             "#46039f"
            ],
            [
             0.2222222222222222,
             "#7201a8"
            ],
            [
             0.3333333333333333,
             "#9c179e"
            ],
            [
             0.4444444444444444,
             "#bd3786"
            ],
            [
             0.5555555555555556,
             "#d8576b"
            ],
            [
             0.6666666666666666,
             "#ed7953"
            ],
            [
             0.7777777777777778,
             "#fb9f3a"
            ],
            [
             0.8888888888888888,
             "#fdca26"
            ],
            [
             1,
             "#f0f921"
            ]
           ]
          },
          "colorway": [
           "#636efa",
           "#EF553B",
           "#00cc96",
           "#ab63fa",
           "#FFA15A",
           "#19d3f3",
           "#FF6692",
           "#B6E880",
           "#FF97FF",
           "#FECB52"
          ],
          "font": {
           "color": "#2a3f5f"
          },
          "geo": {
           "bgcolor": "white",
           "lakecolor": "white",
           "landcolor": "#E5ECF6",
           "showlakes": true,
           "showland": true,
           "subunitcolor": "white"
          },
          "hoverlabel": {
           "align": "left"
          },
          "hovermode": "closest",
          "mapbox": {
           "style": "light"
          },
          "paper_bgcolor": "white",
          "plot_bgcolor": "#E5ECF6",
          "polar": {
           "angularaxis": {
            "gridcolor": "white",
            "linecolor": "white",
            "ticks": ""
           },
           "bgcolor": "#E5ECF6",
           "radialaxis": {
            "gridcolor": "white",
            "linecolor": "white",
            "ticks": ""
           }
          },
          "scene": {
           "xaxis": {
            "backgroundcolor": "#E5ECF6",
            "gridcolor": "white",
            "gridwidth": 2,
            "linecolor": "white",
            "showbackground": true,
            "ticks": "",
            "zerolinecolor": "white"
           },
           "yaxis": {
            "backgroundcolor": "#E5ECF6",
            "gridcolor": "white",
            "gridwidth": 2,
            "linecolor": "white",
            "showbackground": true,
            "ticks": "",
            "zerolinecolor": "white"
           },
           "zaxis": {
            "backgroundcolor": "#E5ECF6",
            "gridcolor": "white",
            "gridwidth": 2,
            "linecolor": "white",
            "showbackground": true,
            "ticks": "",
            "zerolinecolor": "white"
           }
          },
          "shapedefaults": {
           "line": {
            "color": "#2a3f5f"
           }
          },
          "ternary": {
           "aaxis": {
            "gridcolor": "white",
            "linecolor": "white",
            "ticks": ""
           },
           "baxis": {
            "gridcolor": "white",
            "linecolor": "white",
            "ticks": ""
           },
           "bgcolor": "#E5ECF6",
           "caxis": {
            "gridcolor": "white",
            "linecolor": "white",
            "ticks": ""
           }
          },
          "title": {
           "x": 0.05
          },
          "xaxis": {
           "automargin": true,
           "gridcolor": "white",
           "linecolor": "white",
           "ticks": "",
           "title": {
            "standoff": 15
           },
           "zerolinecolor": "white",
           "zerolinewidth": 2
          },
          "yaxis": {
           "automargin": true,
           "gridcolor": "white",
           "linecolor": "white",
           "ticks": "",
           "title": {
            "standoff": 15
           },
           "zerolinecolor": "white",
           "zerolinewidth": 2
          }
         }
        },
        "width": 600
       }
      }
     },
     "metadata": {},
     "output_type": "display_data"
    }
   ],
   "source": [
    "# solution\n",
    "fig = px.scatter_geo(df,\n",
    "                     lat='lat',lon='lon', \n",
    "                     range_color=(1,9),\n",
    "                     height=600, width=600,\n",
    "                     size='id',color='area',\n",
    "                     hover_name=\"id\",\n",
    "                     hover_data=['id','area','mean_slope','mean_thickness']);\n",
    "fig.update_geos(resolution=110, showcountries=True)\n",
    "fig.update_geos(resolution=110, showcountries=True,projection_type=\"orthographic\")"
   ]
  },
  {
   "cell_type": "markdown",
   "metadata": {},
   "source": [
    "## 3. Correlations between data parameters ( 5 points total)\n",
    "\n",
    "Make plots to vizualise the correlation, or lack of, between all three data. Make at least three plots.\n",
    "\n",
    "### a) Basic correlations using Matplotlib (2 points)\n",
    "\n",
    "Make 3 plots using matplotlib to visualize slope, mean_thickness, and area. Use logscale to see the correlatons.\n",
    "\n",
    "__Tips__: \n",
    "* Use the function ``scatter`` to plot the values of mean thickness, mean slope, area, and latitude. \n",
    "* use one of the dataframe columns as a color using the argument ``c``. You can also vary the ``colormap`` using the argument ``cmap``. Help on colormaps can be found here: https://matplotlib.org/stable/tutorials/colors/colormaps.html. Be mindful of Color-Vision Deficient readers and read *Crameri, F., Shephard, G.E. and Heron, P.J., 2020. The misuse of colour in science communication. Nature communications, 11(1), pp.1-10. https://doi.org/10.1038/s41467-020-19160-7* (find it on the class Gdrive). You can add a third \"data\" by choosing a marker color that scales with an other parameter. For instance, try coloring your marker with the ``LAT`` parameter to look at systematic latitudinal trends from the equator to the poles.\n",
    "* Do not forget to adjust fontsize, figure size (at least 10,8), grid, labels with units. ou may also explore the *logarithmic* correlations by mapping the axis from linear to logarithmic scale ``plt.xscale('log')``."
   ]
  },
  {
   "cell_type": "code",
   "execution_count": 14,
   "metadata": {},
   "outputs": [
    {
     "name": "stderr",
     "output_type": "stream",
     "text": [
      "C:\\Users\\jepul\\AppData\\Local\\Temp\\ipykernel_32596\\2065560913.py:9: MatplotlibDeprecationWarning:\n",
      "\n",
      "Starting from Matplotlib 3.6, colorbar() will steal space from the mappable's axes, rather than from the current axes, to place the colorbar.  To silence this warning, explicitly pass the 'ax' argument to colorbar().\n",
      "\n",
      "C:\\Users\\jepul\\AppData\\Local\\Temp\\ipykernel_32596\\2065560913.py:17: MatplotlibDeprecationWarning:\n",
      "\n",
      "Starting from Matplotlib 3.6, colorbar() will steal space from the mappable's axes, rather than from the current axes, to place the colorbar.  To silence this warning, explicitly pass the 'ax' argument to colorbar().\n",
      "\n"
     ]
    },
    {
     "data": {
      "image/png": "[encoded data removed]",
      "text/plain": [
       "<Figure size 792x864 with 6 Axes>"
      ]
     },
     "metadata": {
      "needs_background": "light"
     },
     "output_type": "display_data"
    }
   ],
   "source": [
    "# Figure 1: Mean slope vs mean thickness\n",
    "# solution\n",
    "fig1,ax = plt.subplots(3,1,figsize=(11,12))\n",
    "im = ax[0].scatter(df.mean_slope,df.mean_thickness,c=np.log(df.area),cmap='jet')\n",
    "ax[0].set_xlabel('mean slope (deg)')\n",
    "ax[0].set_ylabel('mean thickness (m)')\n",
    "ax[0].grid(True)\n",
    "plt.yscale('log')\n",
    "cbar0 = plt.colorbar(im)\n",
    "cbar0.set_label('area (sq.km)')\n",
    "\n",
    "im1 = ax[1].scatter(df.mean_slope,df.area,c=df.lat,cmap='jet')\n",
    "ax[1].set_xlabel('mean slope (deg)')\n",
    "ax[1].set_ylabel('log area (m)')\n",
    "ax[1].grid(True)\n",
    "plt.yscale('log')\n",
    "cbar2 = plt.colorbar(im1)\n",
    "cbar2.set_label('area (sq.km)')\n",
    "\n",
    "im2 = ax[2].scatter(df.mean_slope,df.lat,c=np.log(df.area),cmap='jet')\n",
    "ax[2].set_xlabel('mean slope (deg)')\n",
    "ax[2].set_ylabel('latitude (m)')\n",
    "ax[2].grid(True)\n",
    "#plt.yscale('log')\n",
    "cbar1 = plt.colorbar(im2)\n",
    "cbar1.set_label('latitude')\n"
   ]
  },
  {
   "cell_type": "markdown",
   "metadata": {},
   "source": [
    "### b) 3D Scatter plot using Plotly (1 point)\n",
    "\n",
    "Use the plotly ``scatter_3d`` plot. Make sure to change the pandas series for log scales."
   ]
  },
  {
   "cell_type": "code",
   "execution_count": 16,
   "metadata": {},
   "outputs": [
    {
     "data": {
      "application/vnd.plotly.v1+json": {
       "config": {
        "plotlyServerURL": "https://plot.ly"
       },
       "data": [
        {
         "hovertemplate": "area=%{x}<br>mean_slope=%{y}<br>mean_thickness=%{z}<extra></extra>",
         "legendgroup": "",
         "marker": {
          "color": "#636efa",
          "symbol": "circle"
         },
         "mode": "markers",
         "name": "",
         "scene": "scene",
         "showlegend": false,
         "type": "scatter3d",
         "x": [
          2.9,
          11.7,
          3.2,
          3.4,
          1,
          2,
          2.8,
          1.2,
          2.2,
          1.6,
          5.3,
          2.3,
          2,
          1.5,
          1.1,
          1.5,
          1.7,
          2.6,
          1,
          1,
          1,
          1.5,
          2.1,
          1.1,
          1.7,
          2.8,
          3.8,
          2.9,
          0.8,
          4.2,
          2.5,
          2.1,
          1.4,
          1.9,
          0.9,
          1.5,
          2.82,
          1,
          9.7,
          1,
          0.08068,
          0.307,
          0.084,
          0.223,
          0.106,
          0.101,
          13.07938,
          0.3097,
          0.191,
          1.8841,
          0.0264,
          0.2257,
          0.13572,
          0.3015,
          0.36654,
          0.5825,
          0.39062,
          0.05848,
          0.37938,
          0.3017,
          0.2176,
          0.62967,
          3.2275,
          0.2605,
          5.36,
          2.9,
          8.6,
          2.1,
          3.2,
          11.1,
          71.3,
          2.76,
          39.96,
          28.59,
          1.59,
          1,
          3.078,
          2.8,
          1.69,
          1.09,
          0.6,
          2.39,
          2.85,
          0.5368,
          1.24651,
          6.078,
          1.55417,
          2.96629,
          10.6,
          4,
          2.6,
          3.28,
          2.1,
          2.61,
          6.737,
          0.37,
          4.6
         ],
         "y": [
          0,
          0,
          0,
          0,
          0,
          0,
          0,
          0,
          0,
          0,
          0,
          0,
          0,
          0,
          0,
          0,
          0,
          0,
          0,
          0,
          0,
          1,
          0,
          0,
          0,
          0,
          0,
          0,
          0,
          0,
          0,
          0,
          0,
          0,
          0,
          0,
          0,
          0,
          12,
          10,
          22,
          18,
          22,
          26,
          33,
          22,
          13,
          21,
          26,
          21,
          48,
          22,
          27,
          15,
          17,
          15,
          20,
          27,
          17,
          15,
          22,
          16,
          10,
          30,
          14,
          13,
          7,
          12,
          13,
          5,
          6,
          13,
          3,
          3,
          20,
          16,
          17,
          20,
          20,
          18,
          23,
          16,
          12,
          24,
          20,
          25,
          10,
          21,
          9,
          10,
          9,
          9,
          13,
          20,
          6,
          19,
          14
         ],
         "z": [
          58,
          66,
          49,
          49,
          52,
          43,
          52,
          47,
          45,
          49,
          54,
          67,
          37,
          39,
          32,
          58,
          51,
          50,
          47,
          47,
          29,
          31,
          54,
          49,
          25,
          48,
          47,
          45,
          40,
          49,
          42,
          27,
          59,
          36,
          48,
          33,
          62,
          61,
          30,
          26,
          15,
          17,
          5,
          12,
          4,
          6,
          89,
          22,
          22,
          65,
          8,
          17,
          15,
          23,
          26,
          19,
          13,
          8,
          19,
          29,
          16,
          25,
          69,
          15,
          90,
          70,
          128,
          60,
          67,
          208,
          148,
          97,
          85,
          74,
          44,
          70,
          23,
          28,
          46,
          44,
          49,
          51,
          50,
          16,
          15,
          58,
          29,
          41,
          65,
          57,
          85,
          68,
          32,
          47,
          65,
          27,
          76
         ]
        }
       ],
       "layout": {
        "height": 800,
        "legend": {
         "tracegroupgap": 0
        },
        "margin": {
         "t": 60
        },
        "scene": {
         "domain": {
          "x": [
           0,
           1
          ],
          "y": [
           0,
           1
          ]
         },
         "xaxis": {
          "title": {
           "text": "area"
          },
          "type": "log"
         },
         "yaxis": {
          "title": {
           "text": "mean_slope"
          }
         },
         "zaxis": {
          "title": {
           "text": "mean_thickness"
          }
         }
        },
        "template": {
         "data": {
          "bar": [
           {
            "error_x": {
             "color": "#2a3f5f"
            },
            "error_y": {
             "color": "#2a3f5f"
            },
            "marker": {
             "line": {
              "color": "#E5ECF6",
              "width": 0.5
             },
             "pattern": {
              "fillmode": "overlay",
              "size": 10,
              "solidity": 0.2
             }
            },
            "type": "bar"
           }
          ],
          "barpolar": [
           {
            "marker": {
             "line": {
              "color": "#E5ECF6",
              "width": 0.5
             },
             "pattern": {
              "fillmode": "overlay",
              "size": 10,
              "solidity": 0.2
             }
            },
            "type": "barpolar"
           }
          ],
          "carpet": [
           {
            "aaxis": {
             "endlinecolor": "#2a3f5f",
             "gridcolor": "white",
             "linecolor": "white",
             "minorgridcolor": "white",
             "startlinecolor": "#2a3f5f"
            },
            "baxis": {
             "endlinecolor": "#2a3f5f",
             "gridcolor": "white",
             "linecolor": "white",
             "minorgridcolor": "white",
             "startlinecolor": "#2a3f5f"
            },
            "type": "carpet"
           }
          ],
          "choropleth": [
           {
            "colorbar": {
             "outlinewidth": 0,
             "ticks": ""
            },
            "type": "choropleth"
           }
          ],
          "contour": [
           {
            "colorbar": {
             "outlinewidth": 0,
             "ticks": ""
            },
            "colorscale": [
             [
              0,
              "#0d0887"
             ],
             [
              0.1111111111111111,
              "#46039f"
             ],
             [
              0.2222222222222222,
              "#7201a8"
             ],
             [
              0.3333333333333333,
              "#9c179e"
             ],
             [
              0.4444444444444444,
              "#bd3786"
             ],
             [
              0.5555555555555556,
              "#d8576b"
             ],
             [
              0.6666666666666666,
              "#ed7953"
             ],
             [
              0.7777777777777778,
              "#fb9f3a"
             ],
             [
              0.8888888888888888,
              "#fdca26"
             ],
             [
              1,
              "#f0f921"
             ]
            ],
            "type": "contour"
           }
          ],
          "contourcarpet": [
           {
            "colorbar": {
             "outlinewidth": 0,
             "ticks": ""
            },
            "type": "contourcarpet"
           }
          ],
          "heatmap": [
           {
            "colorbar": {
             "outlinewidth": 0,
             "ticks": ""
            },
            "colorscale": [
             [
              0,
              "#0d0887"
             ],
             [
              0.1111111111111111,
              "#46039f"
             ],
             [
              0.2222222222222222,
              "#7201a8"
             ],
             [
              0.3333333333333333,
              "#9c179e"
             ],
             [
              0.4444444444444444,
              "#bd3786"
             ],
             [
              0.5555555555555556,
              "#d8576b"
             ],
             [
              0.6666666666666666,
              "#ed7953"
             ],
             [
              0.7777777777777778,
              "#fb9f3a"
             ],
             [
              0.8888888888888888,
              "#fdca26"
             ],
             [
              1,
              "#f0f921"
             ]
            ],
            "type": "heatmap"
           }
          ],
          "heatmapgl": [
           {
            "colorbar": {
             "outlinewidth": 0,
             "ticks": ""
            },
            "colorscale": [
             [
              0,
              "#0d0887"
             ],
             [
              0.1111111111111111,
              "#46039f"
             ],
             [
              0.2222222222222222,
              "#7201a8"
             ],
             [
              0.3333333333333333,
              "#9c179e"
             ],
             [
              0.4444444444444444,
              "#bd3786"
             ],
             [
              0.5555555555555556,
              "#d8576b"
             ],
             [
              0.6666666666666666,
              "#ed7953"
             ],
             [
              0.7777777777777778,
              "#fb9f3a"
             ],
             [
              0.8888888888888888,
              "#fdca26"
             ],
             [
              1,
              "#f0f921"
             ]
            ],
            "type": "heatmapgl"
           }
          ],
          "histogram": [
           {
            "marker": {
             "pattern": {
              "fillmode": "overlay",
              "size": 10,
              "solidity": 0.2
             }
            },
            "type": "histogram"
           }
          ],
          "histogram2d": [
           {
            "colorbar": {
             "outlinewidth": 0,
             "ticks": ""
            },
            "colorscale": [
             [
              0,
              "#0d0887"
             ],
             [
              0.1111111111111111,
              "#46039f"
             ],
             [
              0.2222222222222222,
              "#7201a8"
             ],
             [
              0.3333333333333333,
              "#9c179e"
             ],
             [
              0.4444444444444444,
              "#bd3786"
             ],
             [
              0.5555555555555556,
              "#d8576b"
             ],
             [
              0.6666666666666666,
              "#ed7953"
             ],
             [
              0.7777777777777778,
              "#fb9f3a"
             ],
             [
              0.8888888888888888,
              "#fdca26"
             ],
             [
              1,
              "#f0f921"
             ]
            ],
            "type": "histogram2d"
           }
          ],
          "histogram2dcontour": [
           {
            "colorbar": {
             "outlinewidth": 0,
             "ticks": ""
            },
            "colorscale": [
             [
              0,
              "#0d0887"
             ],
             [
              0.1111111111111111,
              "#46039f"
             ],
             [
              0.2222222222222222,
              "#7201a8"
             ],
             [
              0.3333333333333333,
              "#9c179e"
             ],
             [
              0.4444444444444444,
              "#bd3786"
             ],
             [
              0.5555555555555556,
              "#d8576b"
             ],
             [
              0.6666666666666666,
              "#ed7953"
             ],
             [
              0.7777777777777778,
              "#fb9f3a"
             ],
             [
              0.8888888888888888,
              "#fdca26"
             ],
             [
              1,
              "#f0f921"
             ]
            ],
            "type": "histogram2dcontour"
           }
          ],
          "mesh3d": [
           {
            "colorbar": {
             "outlinewidth": 0,
             "ticks": ""
            },
            "type": "mesh3d"
           }
          ],
          "parcoords": [
           {
            "line": {
             "colorbar": {
              "outlinewidth": 0,
              "ticks": ""
             }
            },
            "type": "parcoords"
           }
          ],
          "pie": [
           {
            "automargin": true,
            "type": "pie"
           }
          ],
          "scatter": [
           {
            "marker": {
             "colorbar": {
              "outlinewidth": 0,
              "ticks": ""
             }
            },
            "type": "scatter"
           }
          ],
          "scatter3d": [
           {
            "line": {
             "colorbar": {
              "outlinewidth": 0,
              "ticks": ""
             }
            },
            "marker": {
             "colorbar": {
              "outlinewidth": 0,
              "ticks": ""
             }
            },
            "type": "scatter3d"
           }
          ],
          "scattercarpet": [
           {
            "marker": {
             "colorbar": {
              "outlinewidth": 0,
              "ticks": ""
             }
            },
            "type": "scattercarpet"
           }
          ],
          "scattergeo": [
           {
            "marker": {
             "colorbar": {
              "outlinewidth": 0,
              "ticks": ""
             }
            },
            "type": "scattergeo"
           }
          ],
          "scattergl": [
           {
            "marker": {
             "colorbar": {
              "outlinewidth": 0,
              "ticks": ""
             }
            },
            "type": "scattergl"
           }
          ],
          "scattermapbox": [
           {
            "marker": {
             "colorbar": {
              "outlinewidth": 0,
              "ticks": ""
             }
            },
            "type": "scattermapbox"
           }
          ],
          "scatterpolar": [
           {
            "marker": {
             "colorbar": {
              "outlinewidth": 0,
              "ticks": ""
             }
            },
            "type": "scatterpolar"
           }
          ],
          "scatterpolargl": [
           {
            "marker": {
             "colorbar": {
              "outlinewidth": 0,
              "ticks": ""
             }
            },
            "type": "scatterpolargl"
           }
          ],
          "scatterternary": [
           {
            "marker": {
             "colorbar": {
              "outlinewidth": 0,
              "ticks": ""
             }
            },
            "type": "scatterternary"
           }
          ],
          "surface": [
           {
            "colorbar": {
             "outlinewidth": 0,
             "ticks": ""
            },
            "colorscale": [
             [
              0,
              "#0d0887"
             ],
             [
              0.1111111111111111,
              "#46039f"
             ],
             [
              0.2222222222222222,
              "#7201a8"
             ],
             [
              0.3333333333333333,
              "#9c179e"
             ],
             [
              0.4444444444444444,
              "#bd3786"
             ],
             [
              0.5555555555555556,
              "#d8576b"
             ],
             [
              0.6666666666666666,
              "#ed7953"
             ],
             [
              0.7777777777777778,
              "#fb9f3a"
             ],
             [
              0.8888888888888888,
              "#fdca26"
             ],
             [
              1,
              "#f0f921"
             ]
            ],
            "type": "surface"
           }
          ],
          "table": [
           {
            "cells": {
             "fill": {
              "color": "#EBF0F8"
             },
             "line": {
              "color": "white"
             }
            },
            "header": {
             "fill": {
              "color": "#C8D4E3"
             },
             "line": {
              "color": "white"
             }
            },
            "type": "table"
           }
          ]
         },
         "layout": {
          "annotationdefaults": {
           "arrowcolor": "#2a3f5f",
           "arrowhead": 0,
           "arrowwidth": 1
          },
          "autotypenumbers": "strict",
          "coloraxis": {
           "colorbar": {
            "outlinewidth": 0,
            "ticks": ""
           }
          },
          "colorscale": {
           "diverging": [
            [
             0,
             "#8e0152"
            ],
            [
             0.1,
             "#c51b7d"
            ],
            [
             0.2,
             "#de77ae"
            ],
            [
             0.3,
             "#f1b6da"
            ],
            [
             0.4,
             "#fde0ef"
            ],
            [
             0.5,
             "#f7f7f7"
            ],
            [
             0.6,
             "#e6f5d0"
            ],
            [
             0.7,
             "#b8e186"
            ],
            [
             0.8,
             "#7fbc41"
            ],
            [
             0.9,
             "#4d9221"
            ],
            [
             1,
             "#276419"
            ]
           ],
           "sequential": [
            [
             0,
             "#0d0887"
            ],
            [
             0.1111111111111111,
             "#46039f"
            ],
            [
             0.2222222222222222,
             "#7201a8"
            ],
            [
             0.3333333333333333,
             "#9c179e"
            ],
            [
             0.4444444444444444,
             "#bd3786"
            ],
            [
             0.5555555555555556,
             "#d8576b"
            ],
            [
             0.6666666666666666,
             "#ed7953"
            ],
            [
             0.7777777777777778,
             "#fb9f3a"
            ],
            [
             0.8888888888888888,
             "#fdca26"
            ],
            [
             1,
             "#f0f921"
            ]
           ],
           "sequentialminus": [
            [
             0,
             "#0d0887"
            ],
            [
             0.1111111111111111,
             "#46039f"
            ],
            [
             0.2222222222222222,
             "#7201a8"
            ],
            [
             0.3333333333333333,
             "#9c179e"
            ],
            [
             0.4444444444444444,
             "#bd3786"
            ],
            [
             0.5555555555555556,
             "#d8576b"
            ],
            [
             0.6666666666666666,
             "#ed7953"
            ],
            [
             0.7777777777777778,
             "#fb9f3a"
            ],
            [
             0.8888888888888888,
             "#fdca26"
            ],
            [
             1,
             "#f0f921"
            ]
           ]
          },
          "colorway": [
           "#636efa",
           "#EF553B",
           "#00cc96",
           "#ab63fa",
           "#FFA15A",
           "#19d3f3",
           "#FF6692",
           "#B6E880",
           "#FF97FF",
           "#FECB52"
          ],
          "font": {
           "color": "#2a3f5f"
          },
          "geo": {
           "bgcolor": "white",
           "lakecolor": "white",
           "landcolor": "#E5ECF6",
           "showlakes": true,
           "showland": true,
           "subunitcolor": "white"
          },
          "hoverlabel": {
           "align": "left"
          },
          "hovermode": "closest",
          "mapbox": {
           "style": "light"
          },
          "paper_bgcolor": "white",
          "plot_bgcolor": "#E5ECF6",
          "polar": {
           "angularaxis": {
            "gridcolor": "white",
            "linecolor": "white",
            "ticks": ""
           },
           "bgcolor": "#E5ECF6",
           "radialaxis": {
            "gridcolor": "white",
            "linecolor": "white",
            "ticks": ""
           }
          },
          "scene": {
           "xaxis": {
            "backgroundcolor": "#E5ECF6",
            "gridcolor": "white",
            "gridwidth": 2,
            "linecolor": "white",
            "showbackground": true,
            "ticks": "",
            "zerolinecolor": "white"
           },
           "yaxis": {
            "backgroundcolor": "#E5ECF6",
            "gridcolor": "white",
            "gridwidth": 2,
            "linecolor": "white",
            "showbackground": true,
            "ticks": "",
            "zerolinecolor": "white"
           },
           "zaxis": {
            "backgroundcolor": "#E5ECF6",
            "gridcolor": "white",
            "gridwidth": 2,
            "linecolor": "white",
            "showbackground": true,
            "ticks": "",
            "zerolinecolor": "white"
           }
          },
          "shapedefaults": {
           "line": {
            "color": "#2a3f5f"
           }
          },
          "ternary": {
           "aaxis": {
            "gridcolor": "white",
            "linecolor": "white",
            "ticks": ""
           },
           "baxis": {
            "gridcolor": "white",
            "linecolor": "white",
            "ticks": ""
           },
           "bgcolor": "#E5ECF6",
           "caxis": {
            "gridcolor": "white",
            "linecolor": "white",
            "ticks": ""
           }
          },
          "title": {
           "x": 0.05
          },
          "xaxis": {
           "automargin": true,
           "gridcolor": "white",
           "linecolor": "white",
           "ticks": "",
           "title": {
            "standoff": 15
           },
           "zerolinecolor": "white",
           "zerolinewidth": 2
          },
          "yaxis": {
           "automargin": true,
           "gridcolor": "white",
           "linecolor": "white",
           "ticks": "",
           "title": {
            "standoff": 15
           },
           "zerolinecolor": "white",
           "zerolinewidth": 2
          }
         }
        },
        "width": 800
       }
      }
     },
     "metadata": {},
     "output_type": "display_data"
    }
   ],
   "source": [
    "# solution\n",
    "\n",
    "fig = px.scatter_3d(df,x=df.area,y=df.mean_slope,z=df.mean_thickness,\n",
    "                    log_x=True,width=800, height=800);\n",
    "fig.show()"
   ]
  },
  {
   "cell_type": "markdown",
   "metadata": {},
   "source": [
    "### c) Pandas Correlation function (1 point)\n",
    "\n",
    "You may use Pandas functionalities to explore correlation between data. Use the function ``corr`` on the dataframe and the matplotlib function ``matshow`` to plot a heatmap of the correlations"
   ]
  },
  {
   "cell_type": "code",
   "execution_count": 17,
   "metadata": {},
   "outputs": [
    {
     "data": {
      "text/plain": [
       "<matplotlib.colorbar.Colorbar at 0x21e84175490>"
      ]
     },
     "execution_count": 17,
     "metadata": {},
     "output_type": "execute_result"
    },
    {
     "data": {
      "image/png": "[encoded data removed]",
      "text/plain": [
       "<Figure size 288x288 with 2 Axes>"
      ]
     },
     "metadata": {
      "needs_background": "light"
     },
     "output_type": "display_data"
    }
   ],
   "source": [
    "#solution\n",
    "im = plt.matshow(df1.corr(), cmap='viridis_r', vmin=-1, vmax=1)\n",
    "plt.colorbar(im)"
   ]
  },
  {
   "cell_type": "code",
   "execution_count": 18,
   "metadata": {},
   "outputs": [
    {
     "name": "stdout",
     "output_type": "stream",
     "text": [
      "Index(['id', 'survey_id', 'name', 'external_db', 'external_id', 'lat', 'lon',\n",
      "       'date', 'max_date', 'area', 'mean_slope', 'mean_thickness',\n",
      "       'mean_thickness_uncertainty', 'max_thickness',\n",
      "       'max_thickness_uncertainty', 'number_points', 'number_profiles',\n",
      "       'length_profiles', 'interpolation_method', 'flag', 'remarks'],\n",
      "      dtype='object')\n"
     ]
    },
    {
     "data": {
      "text/html": [
       "<div>\n",
       "<style scoped>\n",
       "    .dataframe tbody tr th:only-of-type {\n",
       "        vertical-align: middle;\n",
       "    }\n",
       "\n",
       "    .dataframe tbody tr th {\n",
       "        vertical-align: top;\n",
       "    }\n",
       "\n",
       "    .dataframe thead th {\n",
       "        text-align: right;\n",
       "    }\n",
       "</style>\n",
       "<table border=\"1\" class=\"dataframe\">\n",
       "  <thead>\n",
       "    <tr style=\"text-align: right;\">\n",
       "      <th></th>\n",
       "      <th>id</th>\n",
       "      <th>survey_id</th>\n",
       "      <th>name</th>\n",
       "      <th>external_db</th>\n",
       "      <th>external_id</th>\n",
       "      <th>lat</th>\n",
       "      <th>lon</th>\n",
       "      <th>date</th>\n",
       "      <th>max_date</th>\n",
       "      <th>area</th>\n",
       "      <th>...</th>\n",
       "      <th>mean_thickness</th>\n",
       "      <th>mean_thickness_uncertainty</th>\n",
       "      <th>max_thickness</th>\n",
       "      <th>max_thickness_uncertainty</th>\n",
       "      <th>number_points</th>\n",
       "      <th>number_profiles</th>\n",
       "      <th>length_profiles</th>\n",
       "      <th>interpolation_method</th>\n",
       "      <th>flag</th>\n",
       "      <th>remarks</th>\n",
       "    </tr>\n",
       "  </thead>\n",
       "  <tbody>\n",
       "    <tr>\n",
       "      <th>0</th>\n",
       "      <td>1</td>\n",
       "      <td>1</td>\n",
       "      <td>Isfallsglaciären</td>\n",
       "      <td>WGI</td>\n",
       "      <td>SE4B000E0006</td>\n",
       "      <td>67.91500</td>\n",
       "      <td>18.56800</td>\n",
       "      <td>1979-03-01</td>\n",
       "      <td>1979-03-31</td>\n",
       "      <td>1.3</td>\n",
       "      <td>...</td>\n",
       "      <td>72.0</td>\n",
       "      <td>NaN</td>\n",
       "      <td>220.0</td>\n",
       "      <td>NaN</td>\n",
       "      <td>NaN</td>\n",
       "      <td>NaN</td>\n",
       "      <td>NaN</td>\n",
       "      <td>NaN</td>\n",
       "      <td>NaN</td>\n",
       "      <td>NaN</td>\n",
       "    </tr>\n",
       "    <tr>\n",
       "      <th>1</th>\n",
       "      <td>2</td>\n",
       "      <td>1</td>\n",
       "      <td>Rabots glaciär</td>\n",
       "      <td>WGI</td>\n",
       "      <td>SE4B000E1016</td>\n",
       "      <td>67.91000</td>\n",
       "      <td>18.49600</td>\n",
       "      <td>1979-03-01</td>\n",
       "      <td>1979-03-31</td>\n",
       "      <td>4.1</td>\n",
       "      <td>...</td>\n",
       "      <td>84.0</td>\n",
       "      <td>NaN</td>\n",
       "      <td>175.0</td>\n",
       "      <td>NaN</td>\n",
       "      <td>NaN</td>\n",
       "      <td>10.0</td>\n",
       "      <td>NaN</td>\n",
       "      <td>NaN</td>\n",
       "      <td>NaN</td>\n",
       "      <td>NaN</td>\n",
       "    </tr>\n",
       "    <tr>\n",
       "      <th>2</th>\n",
       "      <td>3</td>\n",
       "      <td>1</td>\n",
       "      <td>Storglaciären</td>\n",
       "      <td>WGI</td>\n",
       "      <td>SE4B000E0005</td>\n",
       "      <td>67.90000</td>\n",
       "      <td>18.57000</td>\n",
       "      <td>1979-03-01</td>\n",
       "      <td>1979-03-31</td>\n",
       "      <td>3.1</td>\n",
       "      <td>...</td>\n",
       "      <td>99.0</td>\n",
       "      <td>NaN</td>\n",
       "      <td>250.0</td>\n",
       "      <td>NaN</td>\n",
       "      <td>NaN</td>\n",
       "      <td>NaN</td>\n",
       "      <td>NaN</td>\n",
       "      <td>NaN</td>\n",
       "      <td>NaN</td>\n",
       "      <td>NaN</td>\n",
       "    </tr>\n",
       "    <tr>\n",
       "      <th>3</th>\n",
       "      <td>4</td>\n",
       "      <td>2</td>\n",
       "      <td>South Cascade Glacier</td>\n",
       "      <td>WGI</td>\n",
       "      <td>US2M00264006</td>\n",
       "      <td>48.35698</td>\n",
       "      <td>-121.05735</td>\n",
       "      <td>1975-01-01</td>\n",
       "      <td>1975-12-31</td>\n",
       "      <td>2.0</td>\n",
       "      <td>...</td>\n",
       "      <td>99.0</td>\n",
       "      <td>NaN</td>\n",
       "      <td>195.0</td>\n",
       "      <td>NaN</td>\n",
       "      <td>NaN</td>\n",
       "      <td>NaN</td>\n",
       "      <td>NaN</td>\n",
       "      <td>NaN</td>\n",
       "      <td>NaN</td>\n",
       "      <td>NaN</td>\n",
       "    </tr>\n",
       "    <tr>\n",
       "      <th>4</th>\n",
       "      <td>5</td>\n",
       "      <td>3</td>\n",
       "      <td>Athabasca Glacier</td>\n",
       "      <td>FOG</td>\n",
       "      <td>7</td>\n",
       "      <td>52.17540</td>\n",
       "      <td>-117.28400</td>\n",
       "      <td>NaN</td>\n",
       "      <td>NaN</td>\n",
       "      <td>3.8</td>\n",
       "      <td>...</td>\n",
       "      <td>150.0</td>\n",
       "      <td>NaN</td>\n",
       "      <td>NaN</td>\n",
       "      <td>NaN</td>\n",
       "      <td>NaN</td>\n",
       "      <td>NaN</td>\n",
       "      <td>NaN</td>\n",
       "      <td>NaN</td>\n",
       "      <td>NaN</td>\n",
       "      <td>NaN</td>\n",
       "    </tr>\n",
       "  </tbody>\n",
       "</table>\n",
       "<p>5 rows × 21 columns</p>\n",
       "</div>"
      ],
      "text/plain": [
       "   id  survey_id                   name external_db   external_id       lat  \\\n",
       "0   1          1       Isfallsglaciären         WGI  SE4B000E0006  67.91500   \n",
       "1   2          1         Rabots glaciär         WGI  SE4B000E1016  67.91000   \n",
       "2   3          1          Storglaciären         WGI  SE4B000E0005  67.90000   \n",
       "3   4          2  South Cascade Glacier         WGI  US2M00264006  48.35698   \n",
       "4   5          3      Athabasca Glacier         FOG             7  52.17540   \n",
       "\n",
       "         lon        date    max_date  area  ...  mean_thickness  \\\n",
       "0   18.56800  1979-03-01  1979-03-31   1.3  ...            72.0   \n",
       "1   18.49600  1979-03-01  1979-03-31   4.1  ...            84.0   \n",
       "2   18.57000  1979-03-01  1979-03-31   3.1  ...            99.0   \n",
       "3 -121.05735  1975-01-01  1975-12-31   2.0  ...            99.0   \n",
       "4 -117.28400         NaN         NaN   3.8  ...           150.0   \n",
       "\n",
       "   mean_thickness_uncertainty  max_thickness  max_thickness_uncertainty  \\\n",
       "0                         NaN          220.0                        NaN   \n",
       "1                         NaN          175.0                        NaN   \n",
       "2                         NaN          250.0                        NaN   \n",
       "3                         NaN          195.0                        NaN   \n",
       "4                         NaN            NaN                        NaN   \n",
       "\n",
       "   number_points  number_profiles  length_profiles  interpolation_method flag  \\\n",
       "0            NaN              NaN              NaN                   NaN  NaN   \n",
       "1            NaN             10.0              NaN                   NaN  NaN   \n",
       "2            NaN              NaN              NaN                   NaN  NaN   \n",
       "3            NaN              NaN              NaN                   NaN  NaN   \n",
       "4            NaN              NaN              NaN                   NaN  NaN   \n",
       "\n",
       "  remarks  \n",
       "0     NaN  \n",
       "1     NaN  \n",
       "2     NaN  \n",
       "3     NaN  \n",
       "4     NaN  \n",
       "\n",
       "[5 rows x 21 columns]"
      ]
     },
     "execution_count": 18,
     "metadata": {},
     "output_type": "execute_result"
    }
   ],
   "source": [
    "print(df1.columns)\n",
    "df1.head()"
   ]
  },
  {
   "cell_type": "markdown",
   "metadata": {},
   "source": [
    "### f) Seaborn Plotting (1 point)\n",
    "\n",
    "Seaborn is a great python package for basic data anlytics. See documentation [here](!https://seaborn.pydata.org/)."
   ]
  },
  {
   "cell_type": "code",
   "execution_count": 19,
   "metadata": {},
   "outputs": [
    {
     "data": {
      "text/html": [
       "<div>\n",
       "<style scoped>\n",
       "    .dataframe tbody tr th:only-of-type {\n",
       "        vertical-align: middle;\n",
       "    }\n",
       "\n",
       "    .dataframe tbody tr th {\n",
       "        vertical-align: top;\n",
       "    }\n",
       "\n",
       "    .dataframe thead th {\n",
       "        text-align: right;\n",
       "    }\n",
       "</style>\n",
       "<table border=\"1\" class=\"dataframe\">\n",
       "  <thead>\n",
       "    <tr style=\"text-align: right;\">\n",
       "      <th></th>\n",
       "      <th>lat</th>\n",
       "      <th>lon</th>\n",
       "      <th>area</th>\n",
       "      <th>mean_slope</th>\n",
       "      <th>mean_thickness</th>\n",
       "      <th>mean_thickness_uncertainty</th>\n",
       "      <th>max_thickness</th>\n",
       "      <th>max_thickness_uncertainty</th>\n",
       "      <th>number_points</th>\n",
       "      <th>number_profiles</th>\n",
       "      <th>length_profiles</th>\n",
       "    </tr>\n",
       "  </thead>\n",
       "  <tbody>\n",
       "    <tr>\n",
       "      <th>32</th>\n",
       "      <td>48.75000</td>\n",
       "      <td>-121.83000</td>\n",
       "      <td>2.9</td>\n",
       "      <td>0.0</td>\n",
       "      <td>58.0</td>\n",
       "      <td>NaN</td>\n",
       "      <td>107.0</td>\n",
       "      <td>NaN</td>\n",
       "      <td>64.0</td>\n",
       "      <td>NaN</td>\n",
       "      <td>NaN</td>\n",
       "    </tr>\n",
       "    <tr>\n",
       "      <th>33</th>\n",
       "      <td>58.38000</td>\n",
       "      <td>-134.36000</td>\n",
       "      <td>11.7</td>\n",
       "      <td>0.0</td>\n",
       "      <td>66.0</td>\n",
       "      <td>NaN</td>\n",
       "      <td>200.0</td>\n",
       "      <td>NaN</td>\n",
       "      <td>182.0</td>\n",
       "      <td>NaN</td>\n",
       "      <td>NaN</td>\n",
       "    </tr>\n",
       "    <tr>\n",
       "      <th>47</th>\n",
       "      <td>45.23645</td>\n",
       "      <td>80.78166</td>\n",
       "      <td>3.2</td>\n",
       "      <td>0.0</td>\n",
       "      <td>49.0</td>\n",
       "      <td>NaN</td>\n",
       "      <td>116.0</td>\n",
       "      <td>NaN</td>\n",
       "      <td>NaN</td>\n",
       "      <td>NaN</td>\n",
       "      <td>NaN</td>\n",
       "    </tr>\n",
       "    <tr>\n",
       "      <th>48</th>\n",
       "      <td>45.23513</td>\n",
       "      <td>80.80835</td>\n",
       "      <td>3.4</td>\n",
       "      <td>0.0</td>\n",
       "      <td>49.0</td>\n",
       "      <td>NaN</td>\n",
       "      <td>139.0</td>\n",
       "      <td>NaN</td>\n",
       "      <td>NaN</td>\n",
       "      <td>NaN</td>\n",
       "      <td>NaN</td>\n",
       "    </tr>\n",
       "    <tr>\n",
       "      <th>49</th>\n",
       "      <td>44.92845</td>\n",
       "      <td>79.13669</td>\n",
       "      <td>1.0</td>\n",
       "      <td>0.0</td>\n",
       "      <td>52.0</td>\n",
       "      <td>NaN</td>\n",
       "      <td>NaN</td>\n",
       "      <td>NaN</td>\n",
       "      <td>NaN</td>\n",
       "      <td>NaN</td>\n",
       "      <td>NaN</td>\n",
       "    </tr>\n",
       "  </tbody>\n",
       "</table>\n",
       "</div>"
      ],
      "text/plain": [
       "         lat        lon  area  mean_slope  mean_thickness  \\\n",
       "32  48.75000 -121.83000   2.9         0.0            58.0   \n",
       "33  58.38000 -134.36000  11.7         0.0            66.0   \n",
       "47  45.23645   80.78166   3.2         0.0            49.0   \n",
       "48  45.23513   80.80835   3.4         0.0            49.0   \n",
       "49  44.92845   79.13669   1.0         0.0            52.0   \n",
       "\n",
       "    mean_thickness_uncertainty  max_thickness  max_thickness_uncertainty  \\\n",
       "32                         NaN          107.0                        NaN   \n",
       "33                         NaN          200.0                        NaN   \n",
       "47                         NaN          116.0                        NaN   \n",
       "48                         NaN          139.0                        NaN   \n",
       "49                         NaN            NaN                        NaN   \n",
       "\n",
       "    number_points  number_profiles  length_profiles  \n",
       "32           64.0              NaN              NaN  \n",
       "33          182.0              NaN              NaN  \n",
       "47            NaN              NaN              NaN  \n",
       "48            NaN              NaN              NaN  \n",
       "49            NaN              NaN              NaN  "
      ]
     },
     "execution_count": 19,
     "metadata": {},
     "output_type": "execute_result"
    }
   ],
   "source": [
    "#solution\n",
    "# New dataframe to make new calculations\n",
    "df2 = df1.copy()\n",
    "df2.dropna(subset=['date','area','mean_slope','mean_thickness'],inplace=True)\n",
    "df2 = df2.drop(['id', 'survey_id', 'name', 'external_db', 'external_id', 'date', \n",
    "                'max_date', 'interpolation_method', 'flag', 'remarks'], axis=1)\n",
    "df2.head()"
   ]
  },
  {
   "cell_type": "code",
   "execution_count": 20,
   "metadata": {},
   "outputs": [
    {
     "data": {
      "text/plain": [
       "<matplotlib.colorbar.Colorbar at 0x21eba51a340>"
      ]
     },
     "execution_count": 20,
     "metadata": {},
     "output_type": "execute_result"
    },
    {
     "data": {
      "image/png": "[encoded data removed]",
      "text/plain": [
       "<Figure size 288x288 with 2 Axes>"
      ]
     },
     "metadata": {
      "needs_background": "light"
     },
     "output_type": "display_data"
    }
   ],
   "source": [
    "plt.matshow(df2.corr(), cmap='viridis_r', vmin=-1, vmax=1)\n",
    "plt.colorbar(label='Correlation Coefficient')"
   ]
  },
  {
   "cell_type": "code",
   "execution_count": 21,
   "metadata": {},
   "outputs": [
    {
     "data": {
      "text/plain": [
       "<AxesSubplot:>"
      ]
     },
     "execution_count": 21,
     "metadata": {},
     "output_type": "execute_result"
    },
    {
     "data": {
      "image/png": "[encoded data removed]",
      "text/plain": [
       "<Figure size 432x288 with 2 Axes>"
      ]
     },
     "metadata": {
      "needs_background": "light"
     },
     "output_type": "display_data"
    }
   ],
   "source": [
    "# solution\n",
    "import seaborn as sns\n",
    "sns.heatmap(df2.corr(), cmap='viridis_r', vmin=-1, vmax=1)"
   ]
  },
  {
   "cell_type": "markdown",
   "metadata": {},
   "source": [
    "Discuss the basic correlations among the data. Do these correction make sense when you think about the shapes of glaciers?"
   ]
  },
  {
   "cell_type": "code",
   "execution_count": 22,
   "metadata": {},
   "outputs": [
    {
     "data": {
      "text/plain": [
       "<AxesSubplot:>"
      ]
     },
     "execution_count": 22,
     "metadata": {},
     "output_type": "execute_result"
    },
    {
     "data": {
      "image/png": "[encoded data removed]",
      "text/plain": [
       "<Figure size 432x288 with 2 Axes>"
      ]
     },
     "metadata": {
      "needs_background": "light"
     },
     "output_type": "display_data"
    }
   ],
   "source": [
    "df3 = df2.copy()\n",
    "df3['abs_lat'] = abs(df3['lat']) \n",
    "sns.heatmap(df3.corr(), cmap='viridis_r', vmin=-1, vmax=1)"
   ]
  },
  {
   "cell_type": "markdown",
   "metadata": {},
   "source": [
    "## 4. Linear Regression (10 points total counted in the next section)\n",
    "You found from basic data visualization that the three parameters ``mean_slope``, ``mean_thickness``, and ``area`` are correlated. It does make physical sense because a *steep* glaciers is likely to be in the high mountains regions, hanging on the mountain walls, and thus be constrained, and conversely, a flat glacier is either at its valley, ocean terminus or on ice sheets.\n",
    "\n",
    "### a) Simple linear regression (2 points)\n",
    "We will now perform a regression between the parameters (or their log!). Linear regressions are models that can be imported from scikit-learn. Log/exp functions in numpy as ``np.log()`` and ``np.exp()``.\n",
    "Remember that a linear regression is finding $a$ and $b$ knowing both $x$ and the data $y$ in $y = Ax +b$. We want to predict ice thickness from a crude estimate of the glacier area.\n",
    "\n",
    "__Tips__: \n",
    "a. make sure that the dimensions are correct and that there is no NaNs and zeros.\n",
    "b. Make sure to inport the scikit learn linear regression function and the error metrics."
   ]
  },
  {
   "cell_type": "code",
   "execution_count": 23,
   "metadata": {},
   "outputs": [
    {
     "data": {
      "text/html": [
       "<div>\n",
       "<style scoped>\n",
       "    .dataframe tbody tr th:only-of-type {\n",
       "        vertical-align: middle;\n",
       "    }\n",
       "\n",
       "    .dataframe tbody tr th {\n",
       "        vertical-align: top;\n",
       "    }\n",
       "\n",
       "    .dataframe thead th {\n",
       "        text-align: right;\n",
       "    }\n",
       "</style>\n",
       "<table border=\"1\" class=\"dataframe\">\n",
       "  <thead>\n",
       "    <tr style=\"text-align: right;\">\n",
       "      <th></th>\n",
       "      <th>lat</th>\n",
       "      <th>lon</th>\n",
       "      <th>area</th>\n",
       "      <th>mean_slope</th>\n",
       "      <th>mean_thickness</th>\n",
       "      <th>mean_thickness_uncertainty</th>\n",
       "      <th>max_thickness</th>\n",
       "      <th>max_thickness_uncertainty</th>\n",
       "      <th>number_points</th>\n",
       "      <th>number_profiles</th>\n",
       "      <th>length_profiles</th>\n",
       "    </tr>\n",
       "  </thead>\n",
       "  <tbody>\n",
       "    <tr>\n",
       "      <th>32</th>\n",
       "      <td>48.75000</td>\n",
       "      <td>-121.83000</td>\n",
       "      <td>2.9</td>\n",
       "      <td>0.0</td>\n",
       "      <td>58.0</td>\n",
       "      <td>NaN</td>\n",
       "      <td>107.0</td>\n",
       "      <td>NaN</td>\n",
       "      <td>64.0</td>\n",
       "      <td>NaN</td>\n",
       "      <td>NaN</td>\n",
       "    </tr>\n",
       "    <tr>\n",
       "      <th>33</th>\n",
       "      <td>58.38000</td>\n",
       "      <td>-134.36000</td>\n",
       "      <td>11.7</td>\n",
       "      <td>0.0</td>\n",
       "      <td>66.0</td>\n",
       "      <td>NaN</td>\n",
       "      <td>200.0</td>\n",
       "      <td>NaN</td>\n",
       "      <td>182.0</td>\n",
       "      <td>NaN</td>\n",
       "      <td>NaN</td>\n",
       "    </tr>\n",
       "    <tr>\n",
       "      <th>47</th>\n",
       "      <td>45.23645</td>\n",
       "      <td>80.78166</td>\n",
       "      <td>3.2</td>\n",
       "      <td>0.0</td>\n",
       "      <td>49.0</td>\n",
       "      <td>NaN</td>\n",
       "      <td>116.0</td>\n",
       "      <td>NaN</td>\n",
       "      <td>NaN</td>\n",
       "      <td>NaN</td>\n",
       "      <td>NaN</td>\n",
       "    </tr>\n",
       "    <tr>\n",
       "      <th>48</th>\n",
       "      <td>45.23513</td>\n",
       "      <td>80.80835</td>\n",
       "      <td>3.4</td>\n",
       "      <td>0.0</td>\n",
       "      <td>49.0</td>\n",
       "      <td>NaN</td>\n",
       "      <td>139.0</td>\n",
       "      <td>NaN</td>\n",
       "      <td>NaN</td>\n",
       "      <td>NaN</td>\n",
       "      <td>NaN</td>\n",
       "    </tr>\n",
       "    <tr>\n",
       "      <th>49</th>\n",
       "      <td>44.92845</td>\n",
       "      <td>79.13669</td>\n",
       "      <td>1.0</td>\n",
       "      <td>0.0</td>\n",
       "      <td>52.0</td>\n",
       "      <td>NaN</td>\n",
       "      <td>NaN</td>\n",
       "      <td>NaN</td>\n",
       "      <td>NaN</td>\n",
       "      <td>NaN</td>\n",
       "      <td>NaN</td>\n",
       "    </tr>\n",
       "  </tbody>\n",
       "</table>\n",
       "</div>"
      ],
      "text/plain": [
       "         lat        lon  area  mean_slope  mean_thickness  \\\n",
       "32  48.75000 -121.83000   2.9         0.0            58.0   \n",
       "33  58.38000 -134.36000  11.7         0.0            66.0   \n",
       "47  45.23645   80.78166   3.2         0.0            49.0   \n",
       "48  45.23513   80.80835   3.4         0.0            49.0   \n",
       "49  44.92845   79.13669   1.0         0.0            52.0   \n",
       "\n",
       "    mean_thickness_uncertainty  max_thickness  max_thickness_uncertainty  \\\n",
       "32                         NaN          107.0                        NaN   \n",
       "33                         NaN          200.0                        NaN   \n",
       "47                         NaN          116.0                        NaN   \n",
       "48                         NaN          139.0                        NaN   \n",
       "49                         NaN            NaN                        NaN   \n",
       "\n",
       "    number_points  number_profiles  length_profiles  \n",
       "32           64.0              NaN              NaN  \n",
       "33          182.0              NaN              NaN  \n",
       "47            NaN              NaN              NaN  \n",
       "48            NaN              NaN              NaN  \n",
       "49            NaN              NaN              NaN  "
      ]
     },
     "execution_count": 23,
     "metadata": {},
     "output_type": "execute_result"
    }
   ],
   "source": [
    "# solution\n",
    "from sklearn.linear_model import LinearRegression\n",
    "from sklearn.model_selection import train_test_split\n",
    "from sklearn.metrics import mean_squared_error, r2_score\n",
    "\n",
    "df4 = df2.dropna(subset=['area','mean_thickness', 'mean_slope'])\n",
    "df4.head()"
   ]
  },
  {
   "cell_type": "markdown",
   "metadata": {},
   "source": [
    "Make a plot of the data and the linear regression your performed"
   ]
  },
  {
   "cell_type": "code",
   "execution_count": 24,
   "metadata": {},
   "outputs": [
    {
     "data": {
      "text/html": [
       "<div>\n",
       "<style scoped>\n",
       "    .dataframe tbody tr th:only-of-type {\n",
       "        vertical-align: middle;\n",
       "    }\n",
       "\n",
       "    .dataframe tbody tr th {\n",
       "        vertical-align: top;\n",
       "    }\n",
       "\n",
       "    .dataframe thead th {\n",
       "        text-align: right;\n",
       "    }\n",
       "</style>\n",
       "<table border=\"1\" class=\"dataframe\">\n",
       "  <thead>\n",
       "    <tr style=\"text-align: right;\">\n",
       "      <th></th>\n",
       "      <th>lat</th>\n",
       "      <th>lon</th>\n",
       "      <th>area</th>\n",
       "      <th>mean_slope</th>\n",
       "      <th>mean_thickness</th>\n",
       "      <th>mean_thickness_uncertainty</th>\n",
       "      <th>max_thickness</th>\n",
       "      <th>max_thickness_uncertainty</th>\n",
       "      <th>number_points</th>\n",
       "      <th>number_profiles</th>\n",
       "      <th>length_profiles</th>\n",
       "      <th>log_area</th>\n",
       "      <th>log_mean_thickness</th>\n",
       "    </tr>\n",
       "  </thead>\n",
       "  <tbody>\n",
       "    <tr>\n",
       "      <th>32</th>\n",
       "      <td>48.75000</td>\n",
       "      <td>-121.83000</td>\n",
       "      <td>2.9</td>\n",
       "      <td>0.0</td>\n",
       "      <td>58.0</td>\n",
       "      <td>NaN</td>\n",
       "      <td>107.0</td>\n",
       "      <td>NaN</td>\n",
       "      <td>64.0</td>\n",
       "      <td>NaN</td>\n",
       "      <td>NaN</td>\n",
       "      <td>1.064711</td>\n",
       "      <td>4.060443</td>\n",
       "    </tr>\n",
       "    <tr>\n",
       "      <th>33</th>\n",
       "      <td>58.38000</td>\n",
       "      <td>-134.36000</td>\n",
       "      <td>11.7</td>\n",
       "      <td>0.0</td>\n",
       "      <td>66.0</td>\n",
       "      <td>NaN</td>\n",
       "      <td>200.0</td>\n",
       "      <td>NaN</td>\n",
       "      <td>182.0</td>\n",
       "      <td>NaN</td>\n",
       "      <td>NaN</td>\n",
       "      <td>2.459589</td>\n",
       "      <td>4.189655</td>\n",
       "    </tr>\n",
       "    <tr>\n",
       "      <th>47</th>\n",
       "      <td>45.23645</td>\n",
       "      <td>80.78166</td>\n",
       "      <td>3.2</td>\n",
       "      <td>0.0</td>\n",
       "      <td>49.0</td>\n",
       "      <td>NaN</td>\n",
       "      <td>116.0</td>\n",
       "      <td>NaN</td>\n",
       "      <td>NaN</td>\n",
       "      <td>NaN</td>\n",
       "      <td>NaN</td>\n",
       "      <td>1.163151</td>\n",
       "      <td>3.891820</td>\n",
       "    </tr>\n",
       "    <tr>\n",
       "      <th>48</th>\n",
       "      <td>45.23513</td>\n",
       "      <td>80.80835</td>\n",
       "      <td>3.4</td>\n",
       "      <td>0.0</td>\n",
       "      <td>49.0</td>\n",
       "      <td>NaN</td>\n",
       "      <td>139.0</td>\n",
       "      <td>NaN</td>\n",
       "      <td>NaN</td>\n",
       "      <td>NaN</td>\n",
       "      <td>NaN</td>\n",
       "      <td>1.223775</td>\n",
       "      <td>3.891820</td>\n",
       "    </tr>\n",
       "    <tr>\n",
       "      <th>49</th>\n",
       "      <td>44.92845</td>\n",
       "      <td>79.13669</td>\n",
       "      <td>1.0</td>\n",
       "      <td>0.0</td>\n",
       "      <td>52.0</td>\n",
       "      <td>NaN</td>\n",
       "      <td>NaN</td>\n",
       "      <td>NaN</td>\n",
       "      <td>NaN</td>\n",
       "      <td>NaN</td>\n",
       "      <td>NaN</td>\n",
       "      <td>0.000000</td>\n",
       "      <td>3.951244</td>\n",
       "    </tr>\n",
       "  </tbody>\n",
       "</table>\n",
       "</div>"
      ],
      "text/plain": [
       "         lat        lon  area  mean_slope  mean_thickness  \\\n",
       "32  48.75000 -121.83000   2.9         0.0            58.0   \n",
       "33  58.38000 -134.36000  11.7         0.0            66.0   \n",
       "47  45.23645   80.78166   3.2         0.0            49.0   \n",
       "48  45.23513   80.80835   3.4         0.0            49.0   \n",
       "49  44.92845   79.13669   1.0         0.0            52.0   \n",
       "\n",
       "    mean_thickness_uncertainty  max_thickness  max_thickness_uncertainty  \\\n",
       "32                         NaN          107.0                        NaN   \n",
       "33                         NaN          200.0                        NaN   \n",
       "47                         NaN          116.0                        NaN   \n",
       "48                         NaN          139.0                        NaN   \n",
       "49                         NaN            NaN                        NaN   \n",
       "\n",
       "    number_points  number_profiles  length_profiles  log_area  \\\n",
       "32           64.0              NaN              NaN  1.064711   \n",
       "33          182.0              NaN              NaN  2.459589   \n",
       "47            NaN              NaN              NaN  1.163151   \n",
       "48            NaN              NaN              NaN  1.223775   \n",
       "49            NaN              NaN              NaN  0.000000   \n",
       "\n",
       "    log_mean_thickness  \n",
       "32            4.060443  \n",
       "33            4.189655  \n",
       "47            3.891820  \n",
       "48            3.891820  \n",
       "49            3.951244  "
      ]
     },
     "execution_count": 24,
     "metadata": {},
     "output_type": "execute_result"
    }
   ],
   "source": [
    "df4['log_area'] = np.log(df4['area'])\n",
    "df4['log_mean_thickness'] = np.log(df4['mean_thickness'])\n",
    "df4.head()"
   ]
  },
  {
   "cell_type": "code",
   "execution_count": 25,
   "metadata": {},
   "outputs": [
    {
     "data": {
      "text/html": [
       "<div>\n",
       "<style scoped>\n",
       "    .dataframe tbody tr th:only-of-type {\n",
       "        vertical-align: middle;\n",
       "    }\n",
       "\n",
       "    .dataframe tbody tr th {\n",
       "        vertical-align: top;\n",
       "    }\n",
       "\n",
       "    .dataframe thead th {\n",
       "        text-align: right;\n",
       "    }\n",
       "</style>\n",
       "<table border=\"1\" class=\"dataframe\">\n",
       "  <thead>\n",
       "    <tr style=\"text-align: right;\">\n",
       "      <th></th>\n",
       "      <th>lat</th>\n",
       "      <th>lon</th>\n",
       "      <th>area</th>\n",
       "      <th>mean_slope</th>\n",
       "      <th>mean_thickness</th>\n",
       "      <th>mean_thickness_uncertainty</th>\n",
       "      <th>max_thickness</th>\n",
       "      <th>max_thickness_uncertainty</th>\n",
       "      <th>number_points</th>\n",
       "      <th>number_profiles</th>\n",
       "      <th>length_profiles</th>\n",
       "      <th>log_area</th>\n",
       "      <th>log_mean_thickness</th>\n",
       "    </tr>\n",
       "  </thead>\n",
       "  <tbody>\n",
       "    <tr>\n",
       "      <th>72</th>\n",
       "      <td>44.70490</td>\n",
       "      <td>79.71810</td>\n",
       "      <td>1.50000</td>\n",
       "      <td>1.0</td>\n",
       "      <td>31.0</td>\n",
       "      <td>NaN</td>\n",
       "      <td>NaN</td>\n",
       "      <td>NaN</td>\n",
       "      <td>NaN</td>\n",
       "      <td>NaN</td>\n",
       "      <td>NaN</td>\n",
       "      <td>0.405465</td>\n",
       "      <td>3.433987</td>\n",
       "    </tr>\n",
       "    <tr>\n",
       "      <th>255</th>\n",
       "      <td>30.85500</td>\n",
       "      <td>78.81800</td>\n",
       "      <td>9.70000</td>\n",
       "      <td>12.0</td>\n",
       "      <td>30.0</td>\n",
       "      <td>NaN</td>\n",
       "      <td>120.0</td>\n",
       "      <td>NaN</td>\n",
       "      <td>NaN</td>\n",
       "      <td>8.0</td>\n",
       "      <td>NaN</td>\n",
       "      <td>2.272126</td>\n",
       "      <td>3.401197</td>\n",
       "    </tr>\n",
       "    <tr>\n",
       "      <th>273</th>\n",
       "      <td>48.62495</td>\n",
       "      <td>-113.75707</td>\n",
       "      <td>1.00000</td>\n",
       "      <td>10.0</td>\n",
       "      <td>26.0</td>\n",
       "      <td>NaN</td>\n",
       "      <td>80.0</td>\n",
       "      <td>NaN</td>\n",
       "      <td>NaN</td>\n",
       "      <td>9.0</td>\n",
       "      <td>NaN</td>\n",
       "      <td>0.000000</td>\n",
       "      <td>3.258097</td>\n",
       "    </tr>\n",
       "    <tr>\n",
       "      <th>276</th>\n",
       "      <td>46.95950</td>\n",
       "      <td>9.38910</td>\n",
       "      <td>0.08068</td>\n",
       "      <td>22.0</td>\n",
       "      <td>15.0</td>\n",
       "      <td>5.0</td>\n",
       "      <td>36.0</td>\n",
       "      <td>5.0</td>\n",
       "      <td>5936.0</td>\n",
       "      <td>34.0</td>\n",
       "      <td>4.83</td>\n",
       "      <td>-2.517265</td>\n",
       "      <td>2.708050</td>\n",
       "    </tr>\n",
       "    <tr>\n",
       "      <th>384</th>\n",
       "      <td>47.41390</td>\n",
       "      <td>10.97200</td>\n",
       "      <td>0.30700</td>\n",
       "      <td>18.0</td>\n",
       "      <td>17.0</td>\n",
       "      <td>2.0</td>\n",
       "      <td>52.0</td>\n",
       "      <td>2.0</td>\n",
       "      <td>448.0</td>\n",
       "      <td>11.0</td>\n",
       "      <td>2.20</td>\n",
       "      <td>-1.180908</td>\n",
       "      <td>2.833213</td>\n",
       "    </tr>\n",
       "  </tbody>\n",
       "</table>\n",
       "</div>"
      ],
      "text/plain": [
       "          lat        lon     area  mean_slope  mean_thickness  \\\n",
       "72   44.70490   79.71810  1.50000         1.0            31.0   \n",
       "255  30.85500   78.81800  9.70000        12.0            30.0   \n",
       "273  48.62495 -113.75707  1.00000        10.0            26.0   \n",
       "276  46.95950    9.38910  0.08068        22.0            15.0   \n",
       "384  47.41390   10.97200  0.30700        18.0            17.0   \n",
       "\n",
       "     mean_thickness_uncertainty  max_thickness  max_thickness_uncertainty  \\\n",
       "72                          NaN            NaN                        NaN   \n",
       "255                         NaN          120.0                        NaN   \n",
       "273                         NaN           80.0                        NaN   \n",
       "276                         5.0           36.0                        5.0   \n",
       "384                         2.0           52.0                        2.0   \n",
       "\n",
       "     number_points  number_profiles  length_profiles  log_area  \\\n",
       "72             NaN              NaN              NaN  0.405465   \n",
       "255            NaN              8.0              NaN  2.272126   \n",
       "273            NaN              9.0              NaN  0.000000   \n",
       "276         5936.0             34.0             4.83 -2.517265   \n",
       "384          448.0             11.0             2.20 -1.180908   \n",
       "\n",
       "     log_mean_thickness  \n",
       "72             3.433987  \n",
       "255            3.401197  \n",
       "273            3.258097  \n",
       "276            2.708050  \n",
       "384            2.833213  "
      ]
     },
     "execution_count": 25,
     "metadata": {},
     "output_type": "execute_result"
    }
   ],
   "source": [
    "df5 = df4.copy()\n",
    "df5 = df5.loc[(df5['mean_slope']!=0)] # drop rows where slope==0\n",
    "df5.head()"
   ]
  },
  {
   "cell_type": "code",
   "execution_count": 26,
   "metadata": {},
   "outputs": [
    {
     "name": "stdout",
     "output_type": "stream",
     "text": [
      "(97,) (97, 1)\n",
      "64 64 33 33\n",
      "Coefficients: \n",
      " [1.71176564]\n",
      "Mean squared error: 0.62\n",
      "Coefficient of determination: 0.68\n"
     ]
    },
    {
     "data": {
      "text/plain": [
       "<matplotlib.legend.Legend at 0x21ebc7737c0>"
      ]
     },
     "execution_count": 26,
     "metadata": {},
     "output_type": "execute_result"
    },
    {
     "data": {
      "image/png": "[encoded data removed]",
      "text/plain": [
       "<Figure size 432x288 with 1 Axes>"
      ]
     },
     "metadata": {
      "needs_background": "light"
     },
     "output_type": "display_data"
    }
   ],
   "source": [
    "# solution\n",
    "# solution\n",
    "# Split the data into training/testing sets\n",
    "X_train, X_test, y_train, y_test = train_test_split(np.expand_dims(df4['log_mean_thickness'], axis=1),df4['log_area'], test_size=0.33, random_state=42)\n",
    "print(df4['log_mean_thickness'].shape, np.expand_dims(df4['log_mean_thickness'], axis=1).shape)\n",
    "print(len(X_train), len(y_train), len(X_test), len( y_test))\n",
    "\n",
    "# Create linear regression object\n",
    "regr = LinearRegression()\n",
    "\n",
    "# Train the model using the training sets\n",
    "regr.fit(X_train, y_train)\n",
    "\n",
    "# Make predictions using the testing set\n",
    "y_pred = regr.predict(X_test)\n",
    "\n",
    "# The coefficients\n",
    "print(\"Coefficients: \\n\", regr.coef_)\n",
    "# The mean squared error\n",
    "print(\"Mean squared error: %.2f\" % mean_squared_error(y_test, y_pred))\n",
    "# The coefficient of determination: 1 is perfect prediction\n",
    "print(\"Coefficient of determination: %.2f\" % r2_score(y_test, y_pred))\n",
    "\n",
    "# Plot outputs\n",
    "plt.scatter(X_train, y_train, color=\"red\", label='training', alpha=0.5)\n",
    "plt.scatter(X_test, y_test, color=\"green\", label='test', alpha=0.8)\n",
    "plt.scatter(X_test, y_pred, color=\"black\", label='pred', alpha=0.8)\n",
    "plt.plot(X_test, y_pred, color=\"red\", linewidth=3, label='linear reg.', alpha=0.5)\n",
    "plt.xlabel('Mean glacier thickness [log(m)]')\n",
    "plt.ylabel('Glacier area [log(km^2)]')\n",
    "plt.legend()"
   ]
  },
  {
   "cell_type": "markdown",
   "metadata": {},
   "source": [
    "**Briefly comment on the quality of your fit and a linear regression (1 point)**"
   ]
  },
  {
   "cell_type": "code",
   "execution_count": 27,
   "metadata": {},
   "outputs": [
    {
     "name": "stdout",
     "output_type": "stream",
     "text": [
      "(60,) (60, 1)\n",
      "40 40 20 20\n",
      "Coefficients: \n",
      " [-6.25619174]\n",
      "Mean squared error: 62.73\n",
      "Coefficient of determination: 0.41\n"
     ]
    },
    {
     "data": {
      "text/plain": [
       "<matplotlib.legend.Legend at 0x21ebc80b670>"
      ]
     },
     "execution_count": 27,
     "metadata": {},
     "output_type": "execute_result"
    },
    {
     "data": {
      "image/png": "[encoded data removed]",
      "text/plain": [
       "<Figure size 432x288 with 1 Axes>"
      ]
     },
     "metadata": {
      "needs_background": "light"
     },
     "output_type": "display_data"
    }
   ],
   "source": [
    "# solution\n",
    "# Split the data into training/testing sets\n",
    "X_train, X_test, y_train, y_test = train_test_split(np.expand_dims(df5['log_mean_thickness'], axis=1),df5['mean_slope'], test_size=0.33, random_state=42)\n",
    "print(df5['log_mean_thickness'].shape, np.expand_dims(df5['log_mean_thickness'], axis=1).shape)\n",
    "print(len(X_train), len(y_train), len(X_test), len( y_test))\n",
    "\n",
    "# Create linear regression object\n",
    "regr = LinearRegression()\n",
    "\n",
    "# Train the model using the training sets\n",
    "regr.fit(X_train, y_train)\n",
    "\n",
    "# Make predictions using the testing set\n",
    "y_pred = regr.predict(X_test)\n",
    "\n",
    "# The coefficients\n",
    "print(\"Coefficients: \\n\", regr.coef_)\n",
    "# The mean squared error\n",
    "print(\"Mean squared error: %.2f\" % mean_squared_error(y_test, y_pred))\n",
    "# The coefficient of determination: 1 is perfect prediction\n",
    "print(\"Coefficient of determination: %.2f\" % r2_score(y_test, y_pred))\n",
    "\n",
    "# Plot outputs\n",
    "plt.scatter(X_train, y_train, color=\"red\", label='training', alpha=0.5)\n",
    "plt.scatter(X_test, y_test, color=\"green\", label='test', alpha=0.8)\n",
    "plt.scatter(X_test, y_pred, color=\"black\", label='pred', alpha=0.8)\n",
    "plt.plot(X_test, y_pred, color=\"red\", linewidth=3, label='linear reg.', alpha=0.5)\n",
    "plt.xlabel('Mean glacier thickness [log(m)]')\n",
    "plt.ylabel('Mean glacier slope[°]')\n",
    "plt.legend()"
   ]
  },
  {
   "cell_type": "markdown",
   "metadata": {},
   "source": [
    "The fit looks pretty good, except that there are outliers on the extreme low and high values of mean area."
   ]
  },
  {
   "cell_type": "code",
   "execution_count": 28,
   "metadata": {},
   "outputs": [
    {
     "name": "stdout",
     "output_type": "stream",
     "text": [
      "(97,) (60, 1)\n",
      "40 40 20 20\n"
     ]
    }
   ],
   "source": [
    "print(df4['log_mean_thickness'].shape, np.expand_dims(df5['log_mean_thickness'], axis=1).shape)\n",
    "print(len(X_train), len(y_train), len(X_test), len( y_test))"
   ]
  },
  {
   "cell_type": "code",
   "execution_count": 29,
   "metadata": {},
   "outputs": [
    {
     "name": "stdout",
     "output_type": "stream",
     "text": [
      "40 40 20 20\n",
      "Coefficients: \n",
      " [-1.71593917 -2.88553514]\n",
      "Mean squared error: 52.52\n",
      "Coefficient of determination: 0.50\n"
     ]
    }
   ],
   "source": [
    "X = df5[['log_mean_thickness', 'log_area']]\n",
    "y = df5['mean_slope']\n",
    "\n",
    "# Split the data into training/testing sets\n",
    "X_train, X_test, y_train, y_test = train_test_split(X ,y, test_size=0.33, random_state=42)\n",
    "print(len(X_train), len(y_train), len(X_test), len( y_test))\n",
    "\n",
    "regr = LinearRegression()\n",
    "regr.fit(X, y)\n",
    "\n",
    "#predict the CO2 emission of a car where the weight is 2300kg, and the volume is 1300cm3:\n",
    "y_pred = regr.predict(X_test)\n",
    "\n",
    "# The coefficients\n",
    "print(\"Coefficients: \\n\", regr.coef_)\n",
    "# The mean squared error\n",
    "print(\"Mean squared error: %.2f\" % mean_squared_error(y_test, y_pred))\n",
    "# The coefficient of determination: 1 is perfect prediction\n",
    "print(\"Coefficient of determination: %.2f\" % r2_score(y_test, y_pred))"
   ]
  },
  {
   "cell_type": "code",
   "execution_count": 30,
   "metadata": {},
   "outputs": [
    {
     "data": {
      "text/html": [
       "<div>\n",
       "<style scoped>\n",
       "    .dataframe tbody tr th:only-of-type {\n",
       "        vertical-align: middle;\n",
       "    }\n",
       "\n",
       "    .dataframe tbody tr th {\n",
       "        vertical-align: top;\n",
       "    }\n",
       "\n",
       "    .dataframe thead th {\n",
       "        text-align: right;\n",
       "    }\n",
       "</style>\n",
       "<table border=\"1\" class=\"dataframe\">\n",
       "  <thead>\n",
       "    <tr style=\"text-align: right;\">\n",
       "      <th></th>\n",
       "      <th>lat</th>\n",
       "      <th>lon</th>\n",
       "      <th>area</th>\n",
       "      <th>mean_slope</th>\n",
       "      <th>mean_thickness</th>\n",
       "      <th>mean_thickness_uncertainty</th>\n",
       "      <th>max_thickness</th>\n",
       "      <th>max_thickness_uncertainty</th>\n",
       "      <th>number_points</th>\n",
       "      <th>number_profiles</th>\n",
       "      <th>length_profiles</th>\n",
       "      <th>log_area</th>\n",
       "      <th>log_mean_thickness</th>\n",
       "      <th>color</th>\n",
       "    </tr>\n",
       "  </thead>\n",
       "  <tbody>\n",
       "    <tr>\n",
       "      <th>72</th>\n",
       "      <td>44.70490</td>\n",
       "      <td>79.71810</td>\n",
       "      <td>1.50000</td>\n",
       "      <td>1.0</td>\n",
       "      <td>31.0</td>\n",
       "      <td>NaN</td>\n",
       "      <td>NaN</td>\n",
       "      <td>NaN</td>\n",
       "      <td>NaN</td>\n",
       "      <td>NaN</td>\n",
       "      <td>NaN</td>\n",
       "      <td>0.405465</td>\n",
       "      <td>3.433987</td>\n",
       "      <td>test</td>\n",
       "    </tr>\n",
       "    <tr>\n",
       "      <th>255</th>\n",
       "      <td>30.85500</td>\n",
       "      <td>78.81800</td>\n",
       "      <td>9.70000</td>\n",
       "      <td>12.0</td>\n",
       "      <td>30.0</td>\n",
       "      <td>NaN</td>\n",
       "      <td>120.0</td>\n",
       "      <td>NaN</td>\n",
       "      <td>NaN</td>\n",
       "      <td>8.0</td>\n",
       "      <td>NaN</td>\n",
       "      <td>2.272126</td>\n",
       "      <td>3.401197</td>\n",
       "      <td>training</td>\n",
       "    </tr>\n",
       "    <tr>\n",
       "      <th>273</th>\n",
       "      <td>48.62495</td>\n",
       "      <td>-113.75707</td>\n",
       "      <td>1.00000</td>\n",
       "      <td>10.0</td>\n",
       "      <td>26.0</td>\n",
       "      <td>NaN</td>\n",
       "      <td>80.0</td>\n",
       "      <td>NaN</td>\n",
       "      <td>NaN</td>\n",
       "      <td>9.0</td>\n",
       "      <td>NaN</td>\n",
       "      <td>0.000000</td>\n",
       "      <td>3.258097</td>\n",
       "      <td>training</td>\n",
       "    </tr>\n",
       "    <tr>\n",
       "      <th>276</th>\n",
       "      <td>46.95950</td>\n",
       "      <td>9.38910</td>\n",
       "      <td>0.08068</td>\n",
       "      <td>22.0</td>\n",
       "      <td>15.0</td>\n",
       "      <td>5.0</td>\n",
       "      <td>36.0</td>\n",
       "      <td>5.0</td>\n",
       "      <td>5936.0</td>\n",
       "      <td>34.0</td>\n",
       "      <td>4.83</td>\n",
       "      <td>-2.517265</td>\n",
       "      <td>2.708050</td>\n",
       "      <td>test</td>\n",
       "    </tr>\n",
       "    <tr>\n",
       "      <th>384</th>\n",
       "      <td>47.41390</td>\n",
       "      <td>10.97200</td>\n",
       "      <td>0.30700</td>\n",
       "      <td>18.0</td>\n",
       "      <td>17.0</td>\n",
       "      <td>2.0</td>\n",
       "      <td>52.0</td>\n",
       "      <td>2.0</td>\n",
       "      <td>448.0</td>\n",
       "      <td>11.0</td>\n",
       "      <td>2.20</td>\n",
       "      <td>-1.180908</td>\n",
       "      <td>2.833213</td>\n",
       "      <td>test</td>\n",
       "    </tr>\n",
       "  </tbody>\n",
       "</table>\n",
       "</div>"
      ],
      "text/plain": [
       "          lat        lon     area  mean_slope  mean_thickness  \\\n",
       "72   44.70490   79.71810  1.50000         1.0            31.0   \n",
       "255  30.85500   78.81800  9.70000        12.0            30.0   \n",
       "273  48.62495 -113.75707  1.00000        10.0            26.0   \n",
       "276  46.95950    9.38910  0.08068        22.0            15.0   \n",
       "384  47.41390   10.97200  0.30700        18.0            17.0   \n",
       "\n",
       "     mean_thickness_uncertainty  max_thickness  max_thickness_uncertainty  \\\n",
       "72                          NaN            NaN                        NaN   \n",
       "255                         NaN          120.0                        NaN   \n",
       "273                         NaN           80.0                        NaN   \n",
       "276                         5.0           36.0                        5.0   \n",
       "384                         2.0           52.0                        2.0   \n",
       "\n",
       "     number_points  number_profiles  length_profiles  log_area  \\\n",
       "72             NaN              NaN              NaN  0.405465   \n",
       "255            NaN              8.0              NaN  2.272126   \n",
       "273            NaN              9.0              NaN  0.000000   \n",
       "276         5936.0             34.0             4.83 -2.517265   \n",
       "384          448.0             11.0             2.20 -1.180908   \n",
       "\n",
       "     log_mean_thickness     color  \n",
       "72             3.433987      test  \n",
       "255            3.401197  training  \n",
       "273            3.258097  training  \n",
       "276            2.708050      test  \n",
       "384            2.833213      test  "
      ]
     },
     "execution_count": 30,
     "metadata": {},
     "output_type": "execute_result"
    }
   ],
   "source": [
    "df5['color'] = [None]*len(df5) # add an empty column to df\n",
    "for idx, row in df5.iterrows():\n",
    "    if idx in X_train.index:\n",
    "        df5.loc[idx,['color']] = 'training'\n",
    "    elif idx in X_test.index:\n",
    "        df5.loc[idx,['color']] = 'test'\n",
    "df5.head()"
   ]
  },
  {
   "cell_type": "code",
   "execution_count": 31,
   "metadata": {},
   "outputs": [
    {
     "data": {
      "text/html": [
       "<div>\n",
       "<style scoped>\n",
       "    .dataframe tbody tr th:only-of-type {\n",
       "        vertical-align: middle;\n",
       "    }\n",
       "\n",
       "    .dataframe tbody tr th {\n",
       "        vertical-align: top;\n",
       "    }\n",
       "\n",
       "    .dataframe thead th {\n",
       "        text-align: right;\n",
       "    }\n",
       "</style>\n",
       "<table border=\"1\" class=\"dataframe\">\n",
       "  <thead>\n",
       "    <tr style=\"text-align: right;\">\n",
       "      <th></th>\n",
       "      <th>Xtest_thick</th>\n",
       "      <th>Xtest_area</th>\n",
       "      <th>y_test</th>\n",
       "      <th>y_pred</th>\n",
       "    </tr>\n",
       "  </thead>\n",
       "  <tbody>\n",
       "    <tr>\n",
       "      <th>72</th>\n",
       "      <td>3.433987</td>\n",
       "      <td>0.405465</td>\n",
       "      <td>1.0</td>\n",
       "      <td>16.338231</td>\n",
       "    </tr>\n",
       "    <tr>\n",
       "      <th>385</th>\n",
       "      <td>1.609438</td>\n",
       "      <td>-2.476938</td>\n",
       "      <td>22.0</td>\n",
       "      <td>27.786323</td>\n",
       "    </tr>\n",
       "    <tr>\n",
       "      <th>585</th>\n",
       "      <td>4.304065</td>\n",
       "      <td>3.353057</td>\n",
       "      <td>3.0</td>\n",
       "      <td>6.339850</td>\n",
       "    </tr>\n",
       "    <tr>\n",
       "      <th>601</th>\n",
       "      <td>3.912023</td>\n",
       "      <td>1.047319</td>\n",
       "      <td>12.0</td>\n",
       "      <td>13.665858</td>\n",
       "    </tr>\n",
       "    <tr>\n",
       "      <th>525</th>\n",
       "      <td>2.079442</td>\n",
       "      <td>-3.634391</td>\n",
       "      <td>48.0</td>\n",
       "      <td>30.319696</td>\n",
       "    </tr>\n",
       "  </tbody>\n",
       "</table>\n",
       "</div>"
      ],
      "text/plain": [
       "     Xtest_thick  Xtest_area  y_test     y_pred\n",
       "72      3.433987    0.405465     1.0  16.338231\n",
       "385     1.609438   -2.476938    22.0  27.786323\n",
       "585     4.304065    3.353057     3.0   6.339850\n",
       "601     3.912023    1.047319    12.0  13.665858\n",
       "525     2.079442   -3.634391    48.0  30.319696"
      ]
     },
     "execution_count": 31,
     "metadata": {},
     "output_type": "execute_result"
    }
   ],
   "source": [
    "df6 = pd.DataFrame() # test data set\n",
    "df6['Xtest_thick'] = X_test['log_mean_thickness']\n",
    "df6['Xtest_area'] = X_test['log_area']\n",
    "df6['y_test'] = y_test # slope\n",
    "df6['y_pred'] = y_pred # slope\n",
    "df6.head()"
   ]
  },
  {
   "cell_type": "code",
   "execution_count": 32,
   "metadata": {},
   "outputs": [
    {
     "data": {
      "text/html": [
       "<div>\n",
       "<style scoped>\n",
       "    .dataframe tbody tr th:only-of-type {\n",
       "        vertical-align: middle;\n",
       "    }\n",
       "\n",
       "    .dataframe tbody tr th {\n",
       "        vertical-align: top;\n",
       "    }\n",
       "\n",
       "    .dataframe thead th {\n",
       "        text-align: right;\n",
       "    }\n",
       "</style>\n",
       "<table border=\"1\" class=\"dataframe\">\n",
       "  <thead>\n",
       "    <tr style=\"text-align: right;\">\n",
       "      <th></th>\n",
       "      <th>Xtrain_thick</th>\n",
       "      <th>Xtain_area</th>\n",
       "      <th>y_train</th>\n",
       "    </tr>\n",
       "  </thead>\n",
       "  <tbody>\n",
       "    <tr>\n",
       "      <th>598</th>\n",
       "      <td>3.891820</td>\n",
       "      <td>-0.510826</td>\n",
       "      <td>23.0</td>\n",
       "    </tr>\n",
       "    <tr>\n",
       "      <th>531</th>\n",
       "      <td>2.564949</td>\n",
       "      <td>-0.940020</td>\n",
       "      <td>20.0</td>\n",
       "    </tr>\n",
       "    <tr>\n",
       "      <th>583</th>\n",
       "      <td>4.574711</td>\n",
       "      <td>1.015231</td>\n",
       "      <td>13.0</td>\n",
       "    </tr>\n",
       "    <tr>\n",
       "      <th>745</th>\n",
       "      <td>3.295837</td>\n",
       "      <td>-0.994252</td>\n",
       "      <td>19.0</td>\n",
       "    </tr>\n",
       "    <tr>\n",
       "      <th>537</th>\n",
       "      <td>4.234107</td>\n",
       "      <td>1.171708</td>\n",
       "      <td>10.0</td>\n",
       "    </tr>\n",
       "  </tbody>\n",
       "</table>\n",
       "</div>"
      ],
      "text/plain": [
       "     Xtrain_thick  Xtain_area  y_train\n",
       "598      3.891820   -0.510826     23.0\n",
       "531      2.564949   -0.940020     20.0\n",
       "583      4.574711    1.015231     13.0\n",
       "745      3.295837   -0.994252     19.0\n",
       "537      4.234107    1.171708     10.0"
      ]
     },
     "execution_count": 32,
     "metadata": {},
     "output_type": "execute_result"
    }
   ],
   "source": [
    "df6t = pd.DataFrame() # trainings data set\n",
    "df6t['Xtrain_thick'] = X_train['log_mean_thickness']\n",
    "df6t['Xtain_area'] = X_train['log_area']\n",
    "df6t['y_train'] = y_train # slope\n",
    "df6t.head()"
   ]
  },
  {
   "cell_type": "code",
   "execution_count": 33,
   "metadata": {},
   "outputs": [
    {
     "data": {
      "application/vnd.plotly.v1+json": {
       "config": {
        "plotlyServerURL": "https://plot.ly"
       },
       "data": [
        {
         "marker": {
          "color": "black"
         },
         "mode": "markers",
         "name": "test",
         "opacity": 0.3,
         "type": "scatter3d",
         "x": [
          3.4339872044851463,
          1.6094379124341003,
          4.30406509320417,
          3.912023005428146,
          2.0794415416798357,
          4.219507705176107,
          4.997212273764115,
          4.060443010546419,
          4.174387269895637,
          4.174387269895637,
          2.772588722239781,
          3.713572066704308,
          4.204692619390966,
          2.70805020110221,
          4.04305126783455,
          3.258096538021482,
          1.791759469228055,
          2.4849066497880004,
          3.332204510175204,
          2.833213344056216
         ],
         "y": [
          1,
          22,
          3,
          12,
          48,
          9,
          6,
          25,
          21,
          6,
          24,
          21,
          13,
          22,
          10,
          17,
          22,
          26,
          20,
          18
         ],
         "z": [
          0.4054651081081644,
          -2.4769384801388235,
          3.3530570063342204,
          1.0473189942805592,
          -3.6343912688298667,
          1.1878434223960523,
          4.26689632742025,
          1.8046756944946014,
          0.6334502533018179,
          1.9076147219785229,
          -0.622129693324665,
          1.0873120137169476,
          1.1631508098056809,
          -2.517264565896126,
          1.3862943611198906,
          -1.0036476230924065,
          -2.2926347621408776,
          -1.5005835075220182,
          1.0296194171811581,
          -1.18090753139494
         ]
        },
        {
         "marker": {
          "color": "green"
         },
         "mode": "markers",
         "name": "pred",
         "opacity": 0.5,
         "type": "scatter3d",
         "x": [
          3.4339872044851463,
          1.6094379124341003,
          4.30406509320417,
          3.912023005428146,
          2.0794415416798357,
          4.219507705176107,
          4.997212273764115,
          4.060443010546419,
          4.174387269895637,
          4.174387269895637,
          2.772588722239781,
          3.713572066704308,
          4.204692619390966,
          2.70805020110221,
          4.04305126783455,
          3.258096538021482,
          1.791759469228055,
          2.4849066497880004,
          3.332204510175204,
          2.833213344056216
         ],
         "y": [
          16.338230542151926,
          27.786322980245295,
          6.339849809848776,
          13.665858243835368,
          30.31969604018494,
          12.732745028661373,
          2.513535939560633,
          11.225799170898764,
          14.409889922306448,
          10.733243572180534,
          20.438311013544517,
          13.890986719387667,
          12.829418215986161,
          26.017533462017067,
          12.462896383310149,
          20.70609252978956,
          26.941655424951374,
          23.466765300241736,
          14.711864261464545,
          21.94665593838299
         ],
         "z": [
          0.4054651081081644,
          -2.4769384801388235,
          3.3530570063342204,
          1.0473189942805592,
          -3.6343912688298667,
          1.1878434223960523,
          4.26689632742025,
          1.8046756944946014,
          0.6334502533018179,
          1.9076147219785229,
          -0.622129693324665,
          1.0873120137169476,
          1.1631508098056809,
          -2.517264565896126,
          1.3862943611198906,
          -1.0036476230924065,
          -2.2926347621408776,
          -1.5005835075220182,
          1.0296194171811581,
          -1.18090753139494
         ]
        },
        {
         "marker": {
          "color": "yellow"
         },
         "mode": "markers",
         "name": "train",
         "opacity": 0.3,
         "type": "scatter3d",
         "x": [
          3.8918202981106265,
          2.5649493574615367,
          4.574710978503383,
          3.295836866004329,
          4.23410650459726,
          3.8501476017100584,
          2.70805020110221,
          4.499809670330265,
          4.48863636973214,
          4.0943445622221,
          2.70805020110221,
          3.1354942159291497,
          3.2188758248682006,
          3.4657359027997265,
          3.091042453358316,
          5.337538079701318,
          4.442651256490317,
          3.828641396489095,
          3.784189633918261,
          4.852030263919617,
          3.9318256327243257,
          3.4011973816621555,
          2.9444389791664403,
          3.258096538021482,
          2.70805020110221,
          3.1354942159291497,
          4.442651256490317,
          2.772588722239781,
          3.367295829986474,
          3.091042453358316,
          3.367295829986474,
          2.9444389791664403,
          4.330733340286331,
          2.0794415416798357,
          1.3862943611198906,
          3.784189633918261,
          2.833213344056216,
          4.248495242049359,
          4.174387269895637,
          4.248495242049359
         ],
         "y": [
          23,
          20,
          13,
          19,
          10,
          20,
          27,
          14,
          13,
          12,
          30,
          15,
          16,
          13,
          26,
          5,
          9,
          20,
          20,
          7,
          16,
          12,
          17,
          10,
          20,
          17,
          3,
          22,
          10,
          21,
          15,
          15,
          14,
          27,
          33,
          18,
          22,
          13,
          9,
          16
         ],
         "z": [
          -0.5108256237659907,
          -0.9400200585733918,
          1.0152306797290584,
          -0.9942522733438669,
          1.1717078437386605,
          0.959350221334602,
          -1.9971613390661076,
          1.6789639750827108,
          2.5710369442939873,
          0.7419373447293773,
          -1.3451524177887153,
          -1.198985262814897,
          -0.4625594063565027,
          0.7419373447293773,
          -1.6554818509355071,
          2.4069451083182885,
          0.9555114450274363,
          0.5247285289349821,
          0.4637340162321402,
          2.151762203259462,
          0.8712933659434193,
          2.272125885509337,
          -0.9692169376835602,
          0,
          0.22034764641219184,
          1.1242800354166875,
          3.687878953780353,
          -1.5250967640003494,
          0.4409416410716422,
          -1.1721511920029801,
          -1.1983221328171216,
          -0.5404260935422814,
          1.5260563034950492,
          -2.839070463540614,
          -2.24431618487007,
          0.08617769624105241,
          -1.488548595158647,
          1.0647107369924282,
          2.3608540011180215,
          0
         ]
        }
       ],
       "layout": {
        "margin": {
         "b": 10,
         "l": 10,
         "r": 20,
         "t": 10
        },
        "scene": {
         "xaxis": {
          "title": {
           "text": "Mean glacier thickness [log(m)]"
          }
         },
         "yaxis": {
          "title": {
           "text": "Mean glacier slope [°]"
          }
         },
         "zaxis": {
          "title": {
           "text": "Mean glacier area [log(km^2)]"
          }
         }
        },
        "template": {
         "data": {
          "bar": [
           {
            "error_x": {
             "color": "#2a3f5f"
            },
            "error_y": {
             "color": "#2a3f5f"
            },
            "marker": {
             "line": {
              "color": "#E5ECF6",
              "width": 0.5
             },
             "pattern": {
              "fillmode": "overlay",
              "size": 10,
              "solidity": 0.2
             }
            },
            "type": "bar"
           }
          ],
          "barpolar": [
           {
            "marker": {
             "line": {
              "color": "#E5ECF6",
              "width": 0.5
             },
             "pattern": {
              "fillmode": "overlay",
              "size": 10,
              "solidity": 0.2
             }
            },
            "type": "barpolar"
           }
          ],
          "carpet": [
           {
            "aaxis": {
             "endlinecolor": "#2a3f5f",
             "gridcolor": "white",
             "linecolor": "white",
             "minorgridcolor": "white",
             "startlinecolor": "#2a3f5f"
            },
            "baxis": {
             "endlinecolor": "#2a3f5f",
             "gridcolor": "white",
             "linecolor": "white",
             "minorgridcolor": "white",
             "startlinecolor": "#2a3f5f"
            },
            "type": "carpet"
           }
          ],
          "choropleth": [
           {
            "colorbar": {
             "outlinewidth": 0,
             "ticks": ""
            },
            "type": "choropleth"
           }
          ],
          "contour": [
           {
            "colorbar": {
             "outlinewidth": 0,
             "ticks": ""
            },
            "colorscale": [
             [
              0,
              "#0d0887"
             ],
             [
              0.1111111111111111,
              "#46039f"
             ],
             [
              0.2222222222222222,
              "#7201a8"
             ],
             [
              0.3333333333333333,
              "#9c179e"
             ],
             [
              0.4444444444444444,
              "#bd3786"
             ],
             [
              0.5555555555555556,
              "#d8576b"
             ],
             [
              0.6666666666666666,
              "#ed7953"
             ],
             [
              0.7777777777777778,
              "#fb9f3a"
             ],
             [
              0.8888888888888888,
              "#fdca26"
             ],
             [
              1,
              "#f0f921"
             ]
            ],
            "type": "contour"
           }
          ],
          "contourcarpet": [
           {
            "colorbar": {
             "outlinewidth": 0,
             "ticks": ""
            },
            "type": "contourcarpet"
           }
          ],
          "heatmap": [
           {
            "colorbar": {
             "outlinewidth": 0,
             "ticks": ""
            },
            "colorscale": [
             [
              0,
              "#0d0887"
             ],
             [
              0.1111111111111111,
              "#46039f"
             ],
             [
              0.2222222222222222,
              "#7201a8"
             ],
             [
              0.3333333333333333,
              "#9c179e"
             ],
             [
              0.4444444444444444,
              "#bd3786"
             ],
             [
              0.5555555555555556,
              "#d8576b"
             ],
             [
              0.6666666666666666,
              "#ed7953"
             ],
             [
              0.7777777777777778,
              "#fb9f3a"
             ],
             [
              0.8888888888888888,
              "#fdca26"
             ],
             [
              1,
              "#f0f921"
             ]
            ],
            "type": "heatmap"
           }
          ],
          "heatmapgl": [
           {
            "colorbar": {
             "outlinewidth": 0,
             "ticks": ""
            },
            "colorscale": [
             [
              0,
              "#0d0887"
             ],
             [
              0.1111111111111111,
              "#46039f"
             ],
             [
              0.2222222222222222,
              "#7201a8"
             ],
             [
              0.3333333333333333,
              "#9c179e"
             ],
             [
              0.4444444444444444,
              "#bd3786"
             ],
             [
              0.5555555555555556,
              "#d8576b"
             ],
             [
              0.6666666666666666,
              "#ed7953"
             ],
             [
              0.7777777777777778,
              "#fb9f3a"
             ],
             [
              0.8888888888888888,
              "#fdca26"
             ],
             [
              1,
              "#f0f921"
             ]
            ],
            "type": "heatmapgl"
           }
          ],
          "histogram": [
           {
            "marker": {
             "pattern": {
              "fillmode": "overlay",
              "size": 10,
              "solidity": 0.2
             }
            },
            "type": "histogram"
           }
          ],
          "histogram2d": [
           {
            "colorbar": {
             "outlinewidth": 0,
             "ticks": ""
            },
            "colorscale": [
             [
              0,
              "#0d0887"
             ],
             [
              0.1111111111111111,
              "#46039f"
             ],
             [
              0.2222222222222222,
              "#7201a8"
             ],
             [
              0.3333333333333333,
              "#9c179e"
             ],
             [
              0.4444444444444444,
              "#bd3786"
             ],
             [
              0.5555555555555556,
              "#d8576b"
             ],
             [
              0.6666666666666666,
              "#ed7953"
             ],
             [
              0.7777777777777778,
              "#fb9f3a"
             ],
             [
              0.8888888888888888,
              "#fdca26"
             ],
             [
              1,
              "#f0f921"
             ]
            ],
            "type": "histogram2d"
           }
          ],
          "histogram2dcontour": [
           {
            "colorbar": {
             "outlinewidth": 0,
             "ticks": ""
            },
            "colorscale": [
             [
              0,
              "#0d0887"
             ],
             [
              0.1111111111111111,
              "#46039f"
             ],
             [
              0.2222222222222222,
              "#7201a8"
             ],
             [
              0.3333333333333333,
              "#9c179e"
             ],
             [
              0.4444444444444444,
              "#bd3786"
             ],
             [
              0.5555555555555556,
              "#d8576b"
             ],
             [
              0.6666666666666666,
              "#ed7953"
             ],
             [
              0.7777777777777778,
              "#fb9f3a"
             ],
             [
              0.8888888888888888,
              "#fdca26"
             ],
             [
              1,
              "#f0f921"
             ]
            ],
            "type": "histogram2dcontour"
           }
          ],
          "mesh3d": [
           {
            "colorbar": {
             "outlinewidth": 0,
             "ticks": ""
            },
            "type": "mesh3d"
           }
          ],
          "parcoords": [
           {
            "line": {
             "colorbar": {
              "outlinewidth": 0,
              "ticks": ""
             }
            },
            "type": "parcoords"
           }
          ],
          "pie": [
           {
            "automargin": true,
            "type": "pie"
           }
          ],
          "scatter": [
           {
            "marker": {
             "colorbar": {
              "outlinewidth": 0,
              "ticks": ""
             }
            },
            "type": "scatter"
           }
          ],
          "scatter3d": [
           {
            "line": {
             "colorbar": {
              "outlinewidth": 0,
              "ticks": ""
             }
            },
            "marker": {
             "colorbar": {
              "outlinewidth": 0,
              "ticks": ""
             }
            },
            "type": "scatter3d"
           }
          ],
          "scattercarpet": [
           {
            "marker": {
             "colorbar": {
              "outlinewidth": 0,
              "ticks": ""
             }
            },
            "type": "scattercarpet"
           }
          ],
          "scattergeo": [
           {
            "marker": {
             "colorbar": {
              "outlinewidth": 0,
              "ticks": ""
             }
            },
            "type": "scattergeo"
           }
          ],
          "scattergl": [
           {
            "marker": {
             "colorbar": {
              "outlinewidth": 0,
              "ticks": ""
             }
            },
            "type": "scattergl"
           }
          ],
          "scattermapbox": [
           {
            "marker": {
             "colorbar": {
              "outlinewidth": 0,
              "ticks": ""
             }
            },
            "type": "scattermapbox"
           }
          ],
          "scatterpolar": [
           {
            "marker": {
             "colorbar": {
              "outlinewidth": 0,
              "ticks": ""
             }
            },
            "type": "scatterpolar"
           }
          ],
          "scatterpolargl": [
           {
            "marker": {
             "colorbar": {
              "outlinewidth": 0,
              "ticks": ""
             }
            },
            "type": "scatterpolargl"
           }
          ],
          "scatterternary": [
           {
            "marker": {
             "colorbar": {
              "outlinewidth": 0,
              "ticks": ""
             }
            },
            "type": "scatterternary"
           }
          ],
          "surface": [
           {
            "colorbar": {
             "outlinewidth": 0,
             "ticks": ""
            },
            "colorscale": [
             [
              0,
              "#0d0887"
             ],
             [
              0.1111111111111111,
              "#46039f"
             ],
             [
              0.2222222222222222,
              "#7201a8"
             ],
             [
              0.3333333333333333,
              "#9c179e"
             ],
             [
              0.4444444444444444,
              "#bd3786"
             ],
             [
              0.5555555555555556,
              "#d8576b"
             ],
             [
              0.6666666666666666,
              "#ed7953"
             ],
             [
              0.7777777777777778,
              "#fb9f3a"
             ],
             [
              0.8888888888888888,
              "#fdca26"
             ],
             [
              1,
              "#f0f921"
             ]
            ],
            "type": "surface"
           }
          ],
          "table": [
           {
            "cells": {
             "fill": {
              "color": "#EBF0F8"
             },
             "line": {
              "color": "white"
             }
            },
            "header": {
             "fill": {
              "color": "#C8D4E3"
             },
             "line": {
              "color": "white"
             }
            },
            "type": "table"
           }
          ]
         },
         "layout": {
          "annotationdefaults": {
           "arrowcolor": "#2a3f5f",
           "arrowhead": 0,
           "arrowwidth": 1
          },
          "autotypenumbers": "strict",
          "coloraxis": {
           "colorbar": {
            "outlinewidth": 0,
            "ticks": ""
           }
          },
          "colorscale": {
           "diverging": [
            [
             0,
             "#8e0152"
            ],
            [
             0.1,
             "#c51b7d"
            ],
            [
             0.2,
             "#de77ae"
            ],
            [
             0.3,
             "#f1b6da"
            ],
            [
             0.4,
             "#fde0ef"
            ],
            [
             0.5,
             "#f7f7f7"
            ],
            [
             0.6,
             "#e6f5d0"
            ],
            [
             0.7,
             "#b8e186"
            ],
            [
             0.8,
             "#7fbc41"
            ],
            [
             0.9,
             "#4d9221"
            ],
            [
             1,
             "#276419"
            ]
           ],
           "sequential": [
            [
             0,
             "#0d0887"
            ],
            [
             0.1111111111111111,
             "#46039f"
            ],
            [
             0.2222222222222222,
             "#7201a8"
            ],
            [
             0.3333333333333333,
             "#9c179e"
            ],
            [
             0.4444444444444444,
             "#bd3786"
            ],
            [
             0.5555555555555556,
             "#d8576b"
            ],
            [
             0.6666666666666666,
             "#ed7953"
            ],
            [
             0.7777777777777778,
             "#fb9f3a"
            ],
            [
             0.8888888888888888,
             "#fdca26"
            ],
            [
             1,
             "#f0f921"
            ]
           ],
           "sequentialminus": [
            [
             0,
             "#0d0887"
            ],
            [
             0.1111111111111111,
             "#46039f"
            ],
            [
             0.2222222222222222,
             "#7201a8"
            ],
            [
             0.3333333333333333,
             "#9c179e"
            ],
            [
             0.4444444444444444,
             "#bd3786"
            ],
            [
             0.5555555555555556,
             "#d8576b"
            ],
            [
             0.6666666666666666,
             "#ed7953"
            ],
            [
             0.7777777777777778,
             "#fb9f3a"
            ],
            [
             0.8888888888888888,
             "#fdca26"
            ],
            [
             1,
             "#f0f921"
            ]
           ]
          },
          "colorway": [
           "#636efa",
           "#EF553B",
           "#00cc96",
           "#ab63fa",
           "#FFA15A",
           "#19d3f3",
           "#FF6692",
           "#B6E880",
           "#FF97FF",
           "#FECB52"
          ],
          "font": {
           "color": "#2a3f5f"
          },
          "geo": {
           "bgcolor": "white",
           "lakecolor": "white",
           "landcolor": "#E5ECF6",
           "showlakes": true,
           "showland": true,
           "subunitcolor": "white"
          },
          "hoverlabel": {
           "align": "left"
          },
          "hovermode": "closest",
          "mapbox": {
           "style": "light"
          },
          "paper_bgcolor": "white",
          "plot_bgcolor": "#E5ECF6",
          "polar": {
           "angularaxis": {
            "gridcolor": "white",
            "linecolor": "white",
            "ticks": ""
           },
           "bgcolor": "#E5ECF6",
           "radialaxis": {
            "gridcolor": "white",
            "linecolor": "white",
            "ticks": ""
           }
          },
          "scene": {
           "xaxis": {
            "backgroundcolor": "#E5ECF6",
            "gridcolor": "white",
            "gridwidth": 2,
            "linecolor": "white",
            "showbackground": true,
            "ticks": "",
            "zerolinecolor": "white"
           },
           "yaxis": {
            "backgroundcolor": "#E5ECF6",
            "gridcolor": "white",
            "gridwidth": 2,
            "linecolor": "white",
            "showbackground": true,
            "ticks": "",
            "zerolinecolor": "white"
           },
           "zaxis": {
            "backgroundcolor": "#E5ECF6",
            "gridcolor": "white",
            "gridwidth": 2,
            "linecolor": "white",
            "showbackground": true,
            "ticks": "",
            "zerolinecolor": "white"
           }
          },
          "shapedefaults": {
           "line": {
            "color": "#2a3f5f"
           }
          },
          "ternary": {
           "aaxis": {
            "gridcolor": "white",
            "linecolor": "white",
            "ticks": ""
           },
           "baxis": {
            "gridcolor": "white",
            "linecolor": "white",
            "ticks": ""
           },
           "bgcolor": "#E5ECF6",
           "caxis": {
            "gridcolor": "white",
            "linecolor": "white",
            "ticks": ""
           }
          },
          "title": {
           "x": 0.05
          },
          "xaxis": {
           "automargin": true,
           "gridcolor": "white",
           "linecolor": "white",
           "ticks": "",
           "title": {
            "standoff": 15
           },
           "zerolinecolor": "white",
           "zerolinewidth": 2
          },
          "yaxis": {
           "automargin": true,
           "gridcolor": "white",
           "linecolor": "white",
           "ticks": "",
           "title": {
            "standoff": 15
           },
           "zerolinecolor": "white",
           "zerolinewidth": 2
          }
         }
        },
        "width": 700
       }
      }
     },
     "metadata": {},
     "output_type": "display_data"
    }
   ],
   "source": [
    "# solution\n",
    "import plotly.graph_objects as go\n",
    "fig = go.Figure(data=[\n",
    "    go.Scatter3d(x=df6['Xtest_thick'], y=df6['y_test'], z=df6['Xtest_area'], mode='markers',\n",
    "                 marker=dict(color='black'), opacity=0.3, name='test'),\n",
    "    go.Scatter3d(x=df6['Xtest_thick'], y=df6['y_pred'], z=df6['Xtest_area'], mode='markers',\n",
    "             marker=dict(color='green'), opacity=0.5, name='pred'),\n",
    "    go.Scatter3d(x=df6t['Xtrain_thick'], y=df6t['y_train'], z=df6t['Xtain_area'], mode='markers',\n",
    "         marker=dict(color='yellow'), opacity=0.3, name='train')])\n",
    "\n",
    "    #go.Scatter3d(x=df10[\"Xtest_thick\"], y=df10[\"y_pred\"], z=df10[\"Xtest_area\"], mode='lines')])\n",
    "fig.update_layout(scene = dict(\n",
    "                    xaxis_title='Mean glacier thickness [log(m)]',\n",
    "                    yaxis_title='Mean glacier slope [°]',\n",
    "                    zaxis_title='Mean glacier area [log(km^2)]'),\n",
    "                    width=700,\n",
    "                    margin=dict(r=20, b=10, l=10, t=10))\n",
    "fig.show()"
   ]
  },
  {
   "cell_type": "markdown",
   "metadata": {},
   "source": [
    "### b) Leave One Out Cross Validation linear regression (1 point)\n",
    "\n",
    "\n",
    "Perform the LOCCV on the ``area`` and ``thickness`` values. Predict the ``thickness`` value knowing a ``area`` value. Use material seen in class. Make a plot of your fit."
   ]
  },
  {
   "cell_type": "code",
   "execution_count": 34,
   "metadata": {},
   "outputs": [],
   "source": [
    "from sklearn.model_selection import LeaveOneOut\n",
    "# solution\n",
    "loo = LeaveOneOut()"
   ]
  },
  {
   "cell_type": "code",
   "execution_count": 35,
   "metadata": {},
   "outputs": [
    {
     "data": {
      "text/html": [
       "<div>\n",
       "<style scoped>\n",
       "    .dataframe tbody tr th:only-of-type {\n",
       "        vertical-align: middle;\n",
       "    }\n",
       "\n",
       "    .dataframe tbody tr th {\n",
       "        vertical-align: top;\n",
       "    }\n",
       "\n",
       "    .dataframe thead th {\n",
       "        text-align: right;\n",
       "    }\n",
       "</style>\n",
       "<table border=\"1\" class=\"dataframe\">\n",
       "  <thead>\n",
       "    <tr style=\"text-align: right;\">\n",
       "      <th></th>\n",
       "      <th>index</th>\n",
       "      <th>lat</th>\n",
       "      <th>lon</th>\n",
       "      <th>area</th>\n",
       "      <th>mean_slope</th>\n",
       "      <th>mean_thickness</th>\n",
       "      <th>mean_thickness_uncertainty</th>\n",
       "      <th>max_thickness</th>\n",
       "      <th>max_thickness_uncertainty</th>\n",
       "      <th>number_points</th>\n",
       "      <th>number_profiles</th>\n",
       "      <th>length_profiles</th>\n",
       "      <th>log_area</th>\n",
       "      <th>log_mean_thickness</th>\n",
       "      <th>color</th>\n",
       "    </tr>\n",
       "  </thead>\n",
       "  <tbody>\n",
       "    <tr>\n",
       "      <th>0</th>\n",
       "      <td>72</td>\n",
       "      <td>44.70490</td>\n",
       "      <td>79.71810</td>\n",
       "      <td>1.50000</td>\n",
       "      <td>1.0</td>\n",
       "      <td>31.0</td>\n",
       "      <td>NaN</td>\n",
       "      <td>NaN</td>\n",
       "      <td>NaN</td>\n",
       "      <td>NaN</td>\n",
       "      <td>NaN</td>\n",
       "      <td>NaN</td>\n",
       "      <td>0.405465</td>\n",
       "      <td>3.433987</td>\n",
       "      <td>test</td>\n",
       "    </tr>\n",
       "    <tr>\n",
       "      <th>1</th>\n",
       "      <td>255</td>\n",
       "      <td>30.85500</td>\n",
       "      <td>78.81800</td>\n",
       "      <td>9.70000</td>\n",
       "      <td>12.0</td>\n",
       "      <td>30.0</td>\n",
       "      <td>NaN</td>\n",
       "      <td>120.0</td>\n",
       "      <td>NaN</td>\n",
       "      <td>NaN</td>\n",
       "      <td>8.0</td>\n",
       "      <td>NaN</td>\n",
       "      <td>2.272126</td>\n",
       "      <td>3.401197</td>\n",
       "      <td>training</td>\n",
       "    </tr>\n",
       "    <tr>\n",
       "      <th>2</th>\n",
       "      <td>273</td>\n",
       "      <td>48.62495</td>\n",
       "      <td>-113.75707</td>\n",
       "      <td>1.00000</td>\n",
       "      <td>10.0</td>\n",
       "      <td>26.0</td>\n",
       "      <td>NaN</td>\n",
       "      <td>80.0</td>\n",
       "      <td>NaN</td>\n",
       "      <td>NaN</td>\n",
       "      <td>9.0</td>\n",
       "      <td>NaN</td>\n",
       "      <td>0.000000</td>\n",
       "      <td>3.258097</td>\n",
       "      <td>training</td>\n",
       "    </tr>\n",
       "    <tr>\n",
       "      <th>3</th>\n",
       "      <td>276</td>\n",
       "      <td>46.95950</td>\n",
       "      <td>9.38910</td>\n",
       "      <td>0.08068</td>\n",
       "      <td>22.0</td>\n",
       "      <td>15.0</td>\n",
       "      <td>5.0</td>\n",
       "      <td>36.0</td>\n",
       "      <td>5.0</td>\n",
       "      <td>5936.0</td>\n",
       "      <td>34.0</td>\n",
       "      <td>4.83</td>\n",
       "      <td>-2.517265</td>\n",
       "      <td>2.708050</td>\n",
       "      <td>test</td>\n",
       "    </tr>\n",
       "    <tr>\n",
       "      <th>4</th>\n",
       "      <td>384</td>\n",
       "      <td>47.41390</td>\n",
       "      <td>10.97200</td>\n",
       "      <td>0.30700</td>\n",
       "      <td>18.0</td>\n",
       "      <td>17.0</td>\n",
       "      <td>2.0</td>\n",
       "      <td>52.0</td>\n",
       "      <td>2.0</td>\n",
       "      <td>448.0</td>\n",
       "      <td>11.0</td>\n",
       "      <td>2.20</td>\n",
       "      <td>-1.180908</td>\n",
       "      <td>2.833213</td>\n",
       "      <td>test</td>\n",
       "    </tr>\n",
       "  </tbody>\n",
       "</table>\n",
       "</div>"
      ],
      "text/plain": [
       "   index       lat        lon     area  mean_slope  mean_thickness  \\\n",
       "0     72  44.70490   79.71810  1.50000         1.0            31.0   \n",
       "1    255  30.85500   78.81800  9.70000        12.0            30.0   \n",
       "2    273  48.62495 -113.75707  1.00000        10.0            26.0   \n",
       "3    276  46.95950    9.38910  0.08068        22.0            15.0   \n",
       "4    384  47.41390   10.97200  0.30700        18.0            17.0   \n",
       "\n",
       "   mean_thickness_uncertainty  max_thickness  max_thickness_uncertainty  \\\n",
       "0                         NaN            NaN                        NaN   \n",
       "1                         NaN          120.0                        NaN   \n",
       "2                         NaN           80.0                        NaN   \n",
       "3                         5.0           36.0                        5.0   \n",
       "4                         2.0           52.0                        2.0   \n",
       "\n",
       "   number_points  number_profiles  length_profiles  log_area  \\\n",
       "0            NaN              NaN              NaN  0.405465   \n",
       "1            NaN              8.0              NaN  2.272126   \n",
       "2            NaN              9.0              NaN  0.000000   \n",
       "3         5936.0             34.0             4.83 -2.517265   \n",
       "4          448.0             11.0             2.20 -1.180908   \n",
       "\n",
       "   log_mean_thickness     color  \n",
       "0            3.433987      test  \n",
       "1            3.401197  training  \n",
       "2            3.258097  training  \n",
       "3            2.708050      test  \n",
       "4            2.833213      test  "
      ]
     },
     "execution_count": 35,
     "metadata": {},
     "output_type": "execute_result"
    }
   ],
   "source": [
    "df7 = df5.copy()\n",
    "df7 = df7.reset_index()\n",
    "df7.head()"
   ]
  },
  {
   "cell_type": "code",
   "execution_count": 36,
   "metadata": {},
   "outputs": [],
   "source": [
    "X = np.expand_dims(df7['area'], axis=1)\n",
    "y = df7['mean_thickness']"
   ]
  },
  {
   "cell_type": "code",
   "execution_count": 37,
   "metadata": {},
   "outputs": [],
   "source": [
    "for train_indexes, test_indexes in loo.split(X):\n",
    "    X_train = X[train_indexes]\n",
    "    y_train = y[train_indexes]\n",
    "    X_test = X[test_indexes]\n",
    "    y_test = y[test_indexes]\n",
    "    regr.fit(X_train, y_train)\n",
    "    y_pred = regr.predict(X_test)"
   ]
  },
  {
   "cell_type": "code",
   "execution_count": 38,
   "metadata": {},
   "outputs": [
    {
     "data": {
      "text/plain": [
       "<matplotlib.legend.Legend at 0x21ebc8af550>"
      ]
     },
     "execution_count": 38,
     "metadata": {},
     "output_type": "execute_result"
    },
    {
     "data": {
      "image/png": "[encoded data removed]",
      "text/plain": [
       "<Figure size 432x288 with 1 Axes>"
      ]
     },
     "metadata": {
      "needs_background": "light"
     },
     "output_type": "display_data"
    }
   ],
   "source": [
    "# lot prediction and test\n",
    "plt.scatter(X_train[:,0], y_train, color='blue', label='training')\n",
    "plt.scatter(X_test[:,0], y_test, color='black', label='test')\n",
    "plt.scatter(X_test[:,0], y_pred, color='red', label='predict')\n",
    "plt.xscale('log')\n",
    "plt.yscale('log')\n",
    "plt.xlabel('Mean glacier area [°]')\n",
    "plt.ylabel('Mean glacier thickness [m]')\n",
    "plt.legend()"
   ]
  },
  {
   "cell_type": "markdown",
   "metadata": {},
   "source": [
    "### c) Bootstrapping (1 point)\n",
    "\n",
    "Perform the same analysis but using a bootstrapping technique. Output the mean and standard deviation of the slope. An illustration with a histogram  may help."
   ]
  },
  {
   "cell_type": "code",
   "execution_count": 47,
   "metadata": {},
   "outputs": [
    {
     "name": "stdout",
     "output_type": "stream",
     "text": [
      "40 40 20 20\n",
      "Length training data set: 40 \n",
      "Length unique indeces training data set: 24\n",
      "y_predict mean:   18.65\n",
      "y_predict std:   3.31\n"
     ]
    }
   ],
   "source": [
    "from sklearn.utils import resample\n",
    "from sklearn.metrics import accuracy_score\n",
    "from scipy.stats import linregress\n",
    "# solution\n",
    "X = df5[['area']] # np.expand_dims(X, axis=1)\n",
    "y = df5['mean_slope']\n",
    "\n",
    "# Split the data into training/testing sets\n",
    "X_train, X_test, y_train, y_test = train_test_split(X,y, test_size=0.33, random_state=42)\n",
    "print(len(X_train), len(y_train), len(X_test), len( y_test))\n",
    "\n",
    "# bootstrap predictions\n",
    "accuracy = []\n",
    "mean_l = []\n",
    "std_l = []\n",
    "\n",
    "X_bs_l = []\n",
    "y_bs_l = []\n",
    "y_hat_l =[]\n",
    "y_10_l = []\n",
    "\n",
    "k=100\n",
    "df_10 = pd.DataFrame() # create df\n",
    "df_10['area'] = [10]*k # add column to df filled with 10 (because we want to predict slope for area = 10)\n",
    "\n",
    "for i in range(k):\n",
    "    # resample the trainings data set\n",
    "    X_bs, y_bs = resample(X_train, y_train, replace=True)\n",
    "    # Train the model using the training sets\n",
    "    regr.fit(X_bs, y_bs)\n",
    "    # Predictions\n",
    "    y_hat = regr.predict(X_bs) # predict for actual test data set\n",
    "#    y_hat = regr.predict(X_test) # predict for actual test data set\n",
    "    y_10 = regr.predict(df_10)[0] # predict slope for area 10km^2\n",
    "    \n",
    "    # append the model output to lists\n",
    "    X_bs_l.append(X_bs)\n",
    "    y_bs_l.append(y_bs)\n",
    "    y_hat_l.append(y_hat)\n",
    "    y_10_l.append(y_10)\n",
    "\n",
    "    # evaluate model\n",
    "    score = accuracy_score(np.array(y_bs), np.around(y_hat))\n",
    "    accuracy.append(score)\n",
    " \n",
    "    # The coefficients\n",
    "    mean = round(np.nanmean(y_hat),2)\n",
    "    std = round(np.std(y_hat),2)\n",
    "    mean_l.append(mean)\n",
    "    std_l.append(std)\n",
    "\n",
    "print('Length training data set: {} \\nLength unique indeces training data set: {}'.format(len(X_bs.index),len(np.unique(X_bs.index))))\n",
    "\n",
    "print('y_predict mean:  ', mean)\n",
    "print('y_predict std:  ',std)\n"
   ]
  },
  {
   "cell_type": "code",
   "execution_count": 48,
   "metadata": {},
   "outputs": [
    {
     "data": {
      "text/plain": [
       "(array([ 0.,  3.,  2., 14., 21.,  0.,  0.,  0.,  0.,  0.]),\n",
       " array([ 0,  5, 10, 15, 20, 25, 30, 35, 40, 45, 50]),\n",
       " <BarContainer object of 10 artists>)"
      ]
     },
     "execution_count": 48,
     "metadata": {},
     "output_type": "execute_result"
    },
    {
     "data": {
      "image/png": "[encoded data removed]",
      "text/plain": [
       "<Figure size 432x288 with 1 Axes>"
      ]
     },
     "metadata": {
      "needs_background": "light"
     },
     "output_type": "display_data"
    }
   ],
   "source": [
    "binwidth=5\n",
    "plt.hist(y_test, label='measured slope',bins=range(int(0), int(50) + binwidth, binwidth))\n",
    "plt.hist(y_hat, label='predicted slope',bins=range(int(0), int(50) + binwidth, binwidth), alpha=0.8)"
   ]
  },
  {
   "cell_type": "code",
   "execution_count": 49,
   "metadata": {},
   "outputs": [
    {
     "data": {
      "text/plain": [
       "Text(0, 0.5, 'Number of bootstrapping')"
      ]
     },
     "execution_count": 49,
     "metadata": {},
     "output_type": "execute_result"
    },
    {
     "data": {
      "image/png": "[encoded data removed]",
      "text/plain": [
       "<Figure size 432x288 with 1 Axes>"
      ]
     },
     "metadata": {
      "needs_background": "light"
     },
     "output_type": "display_data"
    }
   ],
   "source": [
    "# plot the mean of predicted slope for bootstrapping (k=100)\n",
    "plt.hist(mean_l)\n",
    "plt.xlabel('Mean glacier slope in [°]')\n",
    "plt.ylabel('Number of bootstrapping')\n"
   ]
  },
  {
   "cell_type": "code",
   "execution_count": 50,
   "metadata": {},
   "outputs": [
    {
     "data": {
      "text/plain": [
       "Text(0, 0.5, 'Number of bootstrapping')"
      ]
     },
     "execution_count": 50,
     "metadata": {},
     "output_type": "execute_result"
    },
    {
     "data": {
      "image/png": "[encoded data removed]",
      "text/plain": [
       "<Figure size 432x288 with 1 Axes>"
      ]
     },
     "metadata": {
      "needs_background": "light"
     },
     "output_type": "display_data"
    }
   ],
   "source": [
    "# plot the standard deviation for bootstrapping (k=100)\n",
    "plt.hist(std_l)\n",
    "plt.xlabel('std')\n",
    "plt.ylabel('Number of bootstrapping')"
   ]
  },
  {
   "cell_type": "code",
   "execution_count": 51,
   "metadata": {},
   "outputs": [
    {
     "data": {
      "image/png": "[encoded data removed]",
      "text/plain": [
       "<Figure size 432x288 with 1 Axes>"
      ]
     },
     "metadata": {
      "needs_background": "light"
     },
     "output_type": "display_data"
    }
   ],
   "source": [
    "binwidth=5\n",
    "plt.hist(y_test, label='measured slope',bins=range(int(0), int(50) + binwidth, binwidth))\n",
    "plt.hist(y_hat, label='predicted slope',bins=range(int(0), int(50) + binwidth, binwidth), alpha=0.8)\n",
    "plt.legend()\n",
    "plt.xlabel('mean slope in °')\n",
    "plt.ylabel('number of elements')\n",
    "plt.text(35,10,'mean: '+str(round(np.nanmean(mean_l),2)))\n",
    "plt.text(35,7,'STD: '+str(round(np.std(std_l),2)))\n",
    "plt.show()"
   ]
  },
  {
   "cell_type": "code",
   "execution_count": 52,
   "metadata": {},
   "outputs": [
    {
     "data": {
      "text/plain": [
       "<matplotlib.legend.Legend at 0x21ebe390f70>"
      ]
     },
     "execution_count": 52,
     "metadata": {},
     "output_type": "execute_result"
    },
    {
     "data": {
      "image/png": "[encoded data removed]",
      "text/plain": [
       "<Figure size 432x288 with 1 Axes>"
      ]
     },
     "metadata": {
      "needs_background": "light"
     },
     "output_type": "display_data"
    }
   ],
   "source": [
    "# plot first 5 training sets and precictions plus the test data\n",
    "for i in range(5): # plot only the first 5 training sets\n",
    "    color='C{}'.format(i)\n",
    "    plt.plot(X_bs_l[i].area, y_bs_l[i], 'o', color=color, alpha=0.25) # bootstraped training data set\n",
    "    plt.plot(X_bs_l[i].area, y_hat_l[i], 'x',color=color) # bootstraped predicted\n",
    "\n",
    "plt.scatter(X_test, y_test, marker='*', color='black', label='training') # test data set  \n",
    "plt.plot(np.nan, color='black', marker='o', linestyle='', label='test')\n",
    "plt.plot(np.nan, color='black', marker='x', linestyle='', label='predict')\n",
    "plt.ylim(1,50)\n",
    "\n",
    "plt.xscale('log')\n",
    "plt.yscale('log')\n",
    "plt.xlabel('Mean glacier area [m^2]')\n",
    "plt.ylabel('Mean glacier slope [°]')\n",
    "plt.legend(loc='lower left')"
   ]
  },
  {
   "cell_type": "markdown",
   "metadata": {},
   "source": [
    "### d) Predict the thickness of a glacier (2 points)\n",
    "\n",
    "Let assume that you measure a glacier of area 10 km$^2$. Can you use your bootstrap regression framework to provide a distribution of possible values of the ice thickness ? Output the mean and standard deviation of the predicted ice thickness."
   ]
  },
  {
   "cell_type": "code",
   "execution_count": 53,
   "metadata": {},
   "outputs": [
    {
     "data": {
      "text/html": [
       "<div>\n",
       "<style scoped>\n",
       "    .dataframe tbody tr th:only-of-type {\n",
       "        vertical-align: middle;\n",
       "    }\n",
       "\n",
       "    .dataframe tbody tr th {\n",
       "        vertical-align: top;\n",
       "    }\n",
       "\n",
       "    .dataframe thead th {\n",
       "        text-align: right;\n",
       "    }\n",
       "</style>\n",
       "<table border=\"1\" class=\"dataframe\">\n",
       "  <thead>\n",
       "    <tr style=\"text-align: right;\">\n",
       "      <th></th>\n",
       "      <th>area</th>\n",
       "      <th>pred</th>\n",
       "    </tr>\n",
       "  </thead>\n",
       "  <tbody>\n",
       "    <tr>\n",
       "      <th>0</th>\n",
       "      <td>10</td>\n",
       "      <td>6.851512</td>\n",
       "    </tr>\n",
       "    <tr>\n",
       "      <th>1</th>\n",
       "      <td>10</td>\n",
       "      <td>10.307057</td>\n",
       "    </tr>\n",
       "    <tr>\n",
       "      <th>2</th>\n",
       "      <td>10</td>\n",
       "      <td>12.715015</td>\n",
       "    </tr>\n",
       "    <tr>\n",
       "      <th>3</th>\n",
       "      <td>10</td>\n",
       "      <td>6.082989</td>\n",
       "    </tr>\n",
       "    <tr>\n",
       "      <th>4</th>\n",
       "      <td>10</td>\n",
       "      <td>12.793053</td>\n",
       "    </tr>\n",
       "  </tbody>\n",
       "</table>\n",
       "</div>"
      ],
      "text/plain": [
       "   area       pred\n",
       "0    10   6.851512\n",
       "1    10  10.307057\n",
       "2    10  12.715015\n",
       "3    10   6.082989\n",
       "4    10  12.793053"
      ]
     },
     "execution_count": 53,
     "metadata": {},
     "output_type": "execute_result"
    }
   ],
   "source": [
    "# solution\n",
    "df_10['pred'] = y_10_l # add the predictions to df\n",
    "df_10.head()\n"
   ]
  },
  {
   "cell_type": "code",
   "execution_count": 54,
   "metadata": {},
   "outputs": [
    {
     "data": {
      "text/plain": [
       "Text(0, 0.5, 'number of elements')"
      ]
     },
     "execution_count": 54,
     "metadata": {},
     "output_type": "execute_result"
    },
    {
     "data": {
      "image/png": "[encoded data removed]",
      "text/plain": [
       "<Figure size 432x288 with 1 Axes>"
      ]
     },
     "metadata": {
      "needs_background": "light"
     },
     "output_type": "display_data"
    }
   ],
   "source": [
    "# plot prediction for glacier area = 10 km^2 as histogram\n",
    "plt.hist(df_10['pred'])\n",
    "plt.xlabel('mean slope in °')\n",
    "plt.ylabel('number of elements')"
   ]
  },
  {
   "cell_type": "code",
   "execution_count": 55,
   "metadata": {},
   "outputs": [],
   "source": [
    "k=100"
   ]
  }
 ],
 "metadata": {
  "kernelspec": {
   "display_name": "Python 3.9.12 ('base')",
   "language": "python",
   "name": "python3"
  },
  "language_info": {
   "codemirror_mode": {
    "name": "ipython",
    "version": 3
   },
   "file_extension": ".py",
   "mimetype": "text/x-python",
   "name": "python",
   "nbconvert_exporter": "python",
   "pygments_lexer": "ipython3",
   "version": "3.9.12"
  },
  "orig_nbformat": 4,
  "vscode": {
   "interpreter": {
    "hash": "82a221401b88aaf6e5f57ee7bedcbd75c4114103ebfad44d5c146cffcdea6559"
   }
  }
 },
 "nbformat": 4,
 "nbformat_minor": 2
}
