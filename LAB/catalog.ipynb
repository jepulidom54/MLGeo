{
 "cells": [
  {
   "cell_type": "code",
   "execution_count": 64,
   "metadata": {},
   "outputs": [],
   "source": [
    "import numpy as np\n",
    "import pandas as pd\n",
    "import io\n",
    "import requests\n",
    "import time\n",
    "from datetime import datetime, timedelta\n",
    "import matplotlib.pyplot as plt\n",
    "\n",
    "\n",
    "import plotly.express as px\n",
    "import plotly.io as pio\n",
    "pio.renderers.default = 'vscode' # writes as standalone html, \n",
    "# pio.renderers.default = 'iframe' # writes files as standalone html, \n",
    "# pio.renderers.default = 'png' # writes files as standalone html, \n",
    "# try notebook, jupyterlab, png, vscode, iframe"
   ]
  },
  {
   "cell_type": "code",
   "execution_count": 65,
   "metadata": {},
   "outputs": [],
   "source": [
    "quake = pd.read_csv(\"SOLUCIONES HIPOCENTRALES.csv\")"
   ]
  },
  {
   "cell_type": "code",
   "execution_count": 66,
   "metadata": {},
   "outputs": [
    {
     "data": {
      "text/html": [
       "<div>\n",
       "<style scoped>\n",
       "    .dataframe tbody tr th:only-of-type {\n",
       "        vertical-align: middle;\n",
       "    }\n",
       "\n",
       "    .dataframe tbody tr th {\n",
       "        vertical-align: top;\n",
       "    }\n",
       "\n",
       "    .dataframe thead th {\n",
       "        text-align: right;\n",
       "    }\n",
       "</style>\n",
       "<table border=\"1\" class=\"dataframe\">\n",
       "  <thead>\n",
       "    <tr style=\"text-align: right;\">\n",
       "      <th></th>\n",
       "      <th>date</th>\n",
       "      <th>HH/MM/SS</th>\n",
       "      <th>latitude</th>\n",
       "      <th>longitude</th>\n",
       "      <th>depth</th>\n",
       "      <th>rms</th>\n",
       "      <th>mc</th>\n",
       "      <th>vp/vs</th>\n",
       "    </tr>\n",
       "  </thead>\n",
       "  <tbody>\n",
       "    <tr>\n",
       "      <th>0</th>\n",
       "      <td>1/28/2015</td>\n",
       "      <td>8:46 PM</td>\n",
       "      <td>5.534</td>\n",
       "      <td>-82.590</td>\n",
       "      <td>5.4</td>\n",
       "      <td>0.1</td>\n",
       "      <td>3.9</td>\n",
       "      <td>1.73</td>\n",
       "    </tr>\n",
       "    <tr>\n",
       "      <th>1</th>\n",
       "      <td>1/28/2015</td>\n",
       "      <td>9:25 PM</td>\n",
       "      <td>8.279</td>\n",
       "      <td>-82.858</td>\n",
       "      <td>0.6</td>\n",
       "      <td>0.5</td>\n",
       "      <td>4.6</td>\n",
       "      <td>1.73</td>\n",
       "    </tr>\n",
       "    <tr>\n",
       "      <th>2</th>\n",
       "      <td>1/29/2015</td>\n",
       "      <td>1:01 PM</td>\n",
       "      <td>6.005</td>\n",
       "      <td>-82.134</td>\n",
       "      <td>15.0</td>\n",
       "      <td>0.4</td>\n",
       "      <td>4.0</td>\n",
       "      <td>1.78</td>\n",
       "    </tr>\n",
       "    <tr>\n",
       "      <th>3</th>\n",
       "      <td>1/30/2015</td>\n",
       "      <td>8:34 AM</td>\n",
       "      <td>4.990</td>\n",
       "      <td>-77.913</td>\n",
       "      <td>5.1</td>\n",
       "      <td>0.4</td>\n",
       "      <td>5.6</td>\n",
       "      <td>1.73</td>\n",
       "    </tr>\n",
       "    <tr>\n",
       "      <th>4</th>\n",
       "      <td>1/30/2015</td>\n",
       "      <td>6:24 PM</td>\n",
       "      <td>4.450</td>\n",
       "      <td>-82.595</td>\n",
       "      <td>5.0</td>\n",
       "      <td>0.3</td>\n",
       "      <td>4.1</td>\n",
       "      <td>1.71</td>\n",
       "    </tr>\n",
       "  </tbody>\n",
       "</table>\n",
       "</div>"
      ],
      "text/plain": [
       "        date HH/MM/SS  latitude  longitude  depth  rms   mc  vp/vs\n",
       "0  1/28/2015  8:46 PM     5.534    -82.590    5.4  0.1  3.9   1.73\n",
       "1  1/28/2015  9:25 PM     8.279    -82.858    0.6  0.5  4.6   1.73\n",
       "2  1/29/2015  1:01 PM     6.005    -82.134   15.0  0.4  4.0   1.78\n",
       "3  1/30/2015  8:34 AM     4.990    -77.913    5.1  0.4  5.6   1.73\n",
       "4  1/30/2015  6:24 PM     4.450    -82.595    5.0  0.3  4.1   1.71"
      ]
     },
     "execution_count": 66,
     "metadata": {},
     "output_type": "execute_result"
    }
   ],
   "source": [
    "# enter answer here\n",
    "quake.head()"
   ]
  },
  {
   "cell_type": "code",
   "execution_count": 67,
   "metadata": {},
   "outputs": [
    {
     "name": "stdout",
     "output_type": "stream",
     "text": [
      "0       5.4\n",
      "1       0.6\n",
      "2      15.0\n",
      "3       5.1\n",
      "4       5.0\n",
      "       ... \n",
      "148     5.8\n",
      "149    17.5\n",
      "150     4.9\n",
      "151    19.9\n",
      "152    10.5\n",
      "Name: depth, Length: 153, dtype: float64\n",
      "0       5.4\n",
      "1       0.6\n",
      "2      15.0\n",
      "3       5.1\n",
      "4       5.0\n",
      "       ... \n",
      "148     5.8\n",
      "149    17.5\n",
      "150     4.9\n",
      "151    19.9\n",
      "152    10.5\n",
      "Name: depth, Length: 153, dtype: float64\n"
     ]
    }
   ],
   "source": [
    "print(quake.depth)\n",
    "print(quake['depth'])"
   ]
  },
  {
   "cell_type": "code",
   "execution_count": 68,
   "metadata": {},
   "outputs": [
    {
     "data": {
      "text/html": [
       "<div>\n",
       "<style scoped>\n",
       "    .dataframe tbody tr th:only-of-type {\n",
       "        vertical-align: middle;\n",
       "    }\n",
       "\n",
       "    .dataframe tbody tr th {\n",
       "        vertical-align: top;\n",
       "    }\n",
       "\n",
       "    .dataframe thead th {\n",
       "        text-align: right;\n",
       "    }\n",
       "</style>\n",
       "<table border=\"1\" class=\"dataframe\">\n",
       "  <thead>\n",
       "    <tr style=\"text-align: right;\">\n",
       "      <th></th>\n",
       "      <th>latitude</th>\n",
       "      <th>longitude</th>\n",
       "      <th>depth</th>\n",
       "      <th>rms</th>\n",
       "      <th>mc</th>\n",
       "      <th>vp/vs</th>\n",
       "    </tr>\n",
       "  </thead>\n",
       "  <tbody>\n",
       "    <tr>\n",
       "      <th>count</th>\n",
       "      <td>153.000000</td>\n",
       "      <td>153.000000</td>\n",
       "      <td>153.000000</td>\n",
       "      <td>153.000000</td>\n",
       "      <td>153.000000</td>\n",
       "      <td>153.000000</td>\n",
       "    </tr>\n",
       "    <tr>\n",
       "      <th>mean</th>\n",
       "      <td>5.930732</td>\n",
       "      <td>-82.083170</td>\n",
       "      <td>6.536601</td>\n",
       "      <td>0.520261</td>\n",
       "      <td>4.794771</td>\n",
       "      <td>1.725948</td>\n",
       "    </tr>\n",
       "    <tr>\n",
       "      <th>std</th>\n",
       "      <td>1.926500</td>\n",
       "      <td>2.187832</td>\n",
       "      <td>4.863326</td>\n",
       "      <td>0.218053</td>\n",
       "      <td>0.649067</td>\n",
       "      <td>0.015620</td>\n",
       "    </tr>\n",
       "    <tr>\n",
       "      <th>min</th>\n",
       "      <td>-1.089000</td>\n",
       "      <td>-88.764000</td>\n",
       "      <td>0.000000</td>\n",
       "      <td>0.000000</td>\n",
       "      <td>3.400000</td>\n",
       "      <td>1.680000</td>\n",
       "    </tr>\n",
       "    <tr>\n",
       "      <th>25%</th>\n",
       "      <td>4.999000</td>\n",
       "      <td>-82.946000</td>\n",
       "      <td>3.700000</td>\n",
       "      <td>0.400000</td>\n",
       "      <td>4.300000</td>\n",
       "      <td>1.720000</td>\n",
       "    </tr>\n",
       "    <tr>\n",
       "      <th>50%</th>\n",
       "      <td>5.326000</td>\n",
       "      <td>-82.815000</td>\n",
       "      <td>5.000000</td>\n",
       "      <td>0.500000</td>\n",
       "      <td>4.600000</td>\n",
       "      <td>1.730000</td>\n",
       "    </tr>\n",
       "    <tr>\n",
       "      <th>75%</th>\n",
       "      <td>7.052000</td>\n",
       "      <td>-81.643000</td>\n",
       "      <td>9.300000</td>\n",
       "      <td>0.700000</td>\n",
       "      <td>5.200000</td>\n",
       "      <td>1.730000</td>\n",
       "    </tr>\n",
       "    <tr>\n",
       "      <th>max</th>\n",
       "      <td>12.099000</td>\n",
       "      <td>-73.223000</td>\n",
       "      <td>22.100000</td>\n",
       "      <td>1.000000</td>\n",
       "      <td>6.900000</td>\n",
       "      <td>1.780000</td>\n",
       "    </tr>\n",
       "  </tbody>\n",
       "</table>\n",
       "</div>"
      ],
      "text/plain": [
       "         latitude   longitude       depth         rms          mc       vp/vs\n",
       "count  153.000000  153.000000  153.000000  153.000000  153.000000  153.000000\n",
       "mean     5.930732  -82.083170    6.536601    0.520261    4.794771    1.725948\n",
       "std      1.926500    2.187832    4.863326    0.218053    0.649067    0.015620\n",
       "min     -1.089000  -88.764000    0.000000    0.000000    3.400000    1.680000\n",
       "25%      4.999000  -82.946000    3.700000    0.400000    4.300000    1.720000\n",
       "50%      5.326000  -82.815000    5.000000    0.500000    4.600000    1.730000\n",
       "75%      7.052000  -81.643000    9.300000    0.700000    5.200000    1.730000\n",
       "max     12.099000  -73.223000   22.100000    1.000000    6.900000    1.780000"
      ]
     },
     "execution_count": 68,
     "metadata": {},
     "output_type": "execute_result"
    }
   ],
   "source": [
    "quake.describe()"
   ]
  },
  {
   "cell_type": "code",
   "execution_count": 69,
   "metadata": {},
   "outputs": [
    {
     "name": "stdout",
     "output_type": "stream",
     "text": [
      "6.536601307189542\n",
      "5.0\n"
     ]
    }
   ],
   "source": [
    "# answer it here\n",
    "print(quake.depth.mean())\n",
    "print(quake.depth.median())"
   ]
  },
  {
   "cell_type": "code",
   "execution_count": 70,
   "metadata": {},
   "outputs": [],
   "source": [
    "# this function converts a value in meters to a value in kilometers\n",
    "km2m = 1000 # this is defined as a global variable\n",
    "def kilometers2meters(x):\n",
    "    return x*km2m\n"
   ]
  },
  {
   "cell_type": "code",
   "execution_count": 71,
   "metadata": {},
   "outputs": [],
   "source": [
    "def meters2kilometers2(x):\n",
    "    m2km2=1000\n",
    "    return x/m2km2\n",
    "# m2km2 is a local variable and cannot be called outside of the function. Prove it next by inquiring its value in the next cell.\n",
    "m2km2=1000"
   ]
  },
  {
   "cell_type": "code",
   "execution_count": 72,
   "metadata": {},
   "outputs": [
    {
     "data": {
      "image/png": "[encoded data removed]",
      "text/plain": [
       "<Figure size 640x480 with 1 Axes>"
      ]
     },
     "metadata": {},
     "output_type": "display_data"
    }
   ],
   "source": [
    "# answer here\n",
    "plt.hist(quake.depth,100)\n",
    "plt.grid(True)\n",
    "plt.xlabel('Quake depth (km)')\n",
    "plt.show()"
   ]
  },
  {
   "cell_type": "code",
   "execution_count": 73,
   "metadata": {},
   "outputs": [
    {
     "data": {
      "application/vnd.plotly.v1+json": {
       "config": {
        "plotlyServerURL": "https://plot.ly"
       },
       "data": [
        {
         "alignmentgroup": "True",
         "bingroup": "x",
         "hovertemplate": "depth=%{x}<br>count=%{y}<extra></extra>",
         "legendgroup": "",
         "marker": {
          "color": "#636efa",
          "pattern": {
           "shape": ""
          }
         },
         "name": "",
         "nbinsx": 50,
         "offsetgroup": "",
         "orientation": "v",
         "showlegend": false,
         "type": "histogram",
         "x": [
          5.4,
          0.6,
          15,
          5.1,
          5,
          5.7,
          0.1,
          9.2,
          0.1,
          0.1,
          11,
          4.6,
          10.5,
          9.3,
          3.8,
          9.2,
          8.2,
          4.2,
          7.2,
          11.7,
          8.6,
          4.3,
          11.9,
          3.4,
          5,
          7.3,
          5,
          4.4,
          0.1,
          3.1,
          0.4,
          10.7,
          10.4,
          18.3,
          3.7,
          5,
          8.3,
          9.3,
          4.1,
          20.5,
          4,
          4.3,
          4.1,
          4.4,
          5,
          12.9,
          10.2,
          13.1,
          2.8,
          1.3,
          11.2,
          9.9,
          0.1,
          4.2,
          5,
          8.2,
          7.5,
          7.3,
          5.2,
          3.2,
          4.9,
          4.5,
          12.2,
          12.6,
          8.9,
          0,
          0.2,
          5,
          3.7,
          4.7,
          5,
          4,
          18,
          3.6,
          2.4,
          10.7,
          4.3,
          15,
          0.9,
          0.3,
          0.1,
          5,
          11.2,
          4.6,
          3.9,
          7.1,
          7.2,
          0.1,
          13.3,
          2.3,
          0.1,
          11,
          5.9,
          4.2,
          4,
          5,
          6.1,
          13,
          3.5,
          0.1,
          4.9,
          0.4,
          8.2,
          5.1,
          5.2,
          8,
          0.1,
          7.8,
          4.7,
          4.3,
          8.2,
          22.1,
          3.3,
          0.1,
          3.8,
          11.1,
          4.6,
          10.3,
          13.2,
          5,
          18.8,
          11.9,
          10,
          20.9,
          15,
          9.1,
          0.1,
          6.6,
          1.1,
          7.6,
          4.9,
          7.7,
          3.2,
          11.1,
          6.6,
          1,
          2.4,
          6,
          1.6,
          0.4,
          4.8,
          8.6,
          4.1,
          7.7,
          3.4,
          0.1,
          10.4,
          3.7,
          5.8,
          17.5,
          4.9,
          19.9,
          10.5
         ],
         "xaxis": "x",
         "yaxis": "y"
        }
       ],
       "layout": {
        "barmode": "relative",
        "height": 400,
        "legend": {
         "tracegroupgap": 0
        },
        "margin": {
         "t": 60
        },
        "template": {
         "data": {
          "bar": [
           {
            "error_x": {
             "color": "#2a3f5f"
            },
            "error_y": {
             "color": "#2a3f5f"
            },
            "marker": {
             "line": {
              "color": "#E5ECF6",
              "width": 0.5
             },
             "pattern": {
              "fillmode": "overlay",
              "size": 10,
              "solidity": 0.2
             }
            },
            "type": "bar"
           }
          ],
          "barpolar": [
           {
            "marker": {
             "line": {
              "color": "#E5ECF6",
              "width": 0.5
             },
             "pattern": {
              "fillmode": "overlay",
              "size": 10,
              "solidity": 0.2
             }
            },
            "type": "barpolar"
           }
          ],
          "carpet": [
           {
            "aaxis": {
             "endlinecolor": "#2a3f5f",
             "gridcolor": "white",
             "linecolor": "white",
             "minorgridcolor": "white",
             "startlinecolor": "#2a3f5f"
            },
            "baxis": {
             "endlinecolor": "#2a3f5f",
             "gridcolor": "white",
             "linecolor": "white",
             "minorgridcolor": "white",
             "startlinecolor": "#2a3f5f"
            },
            "type": "carpet"
           }
          ],
          "choropleth": [
           {
            "colorbar": {
             "outlinewidth": 0,
             "ticks": ""
            },
            "type": "choropleth"
           }
          ],
          "contour": [
           {
            "colorbar": {
             "outlinewidth": 0,
             "ticks": ""
            },
            "colorscale": [
             [
              0,
              "#0d0887"
             ],
             [
              0.1111111111111111,
              "#46039f"
             ],
             [
              0.2222222222222222,
              "#7201a8"
             ],
             [
              0.3333333333333333,
              "#9c179e"
             ],
             [
              0.4444444444444444,
              "#bd3786"
             ],
             [
              0.5555555555555556,
              "#d8576b"
             ],
             [
              0.6666666666666666,
              "#ed7953"
             ],
             [
              0.7777777777777778,
              "#fb9f3a"
             ],
             [
              0.8888888888888888,
              "#fdca26"
             ],
             [
              1,
              "#f0f921"
             ]
            ],
            "type": "contour"
           }
          ],
          "contourcarpet": [
           {
            "colorbar": {
             "outlinewidth": 0,
             "ticks": ""
            },
            "type": "contourcarpet"
           }
          ],
          "heatmap": [
           {
            "colorbar": {
             "outlinewidth": 0,
             "ticks": ""
            },
            "colorscale": [
             [
              0,
              "#0d0887"
             ],
             [
              0.1111111111111111,
              "#46039f"
             ],
             [
              0.2222222222222222,
              "#7201a8"
             ],
             [
              0.3333333333333333,
              "#9c179e"
             ],
             [
              0.4444444444444444,
              "#bd3786"
             ],
             [
              0.5555555555555556,
              "#d8576b"
             ],
             [
              0.6666666666666666,
              "#ed7953"
             ],
             [
              0.7777777777777778,
              "#fb9f3a"
             ],
             [
              0.8888888888888888,
              "#fdca26"
             ],
             [
              1,
              "#f0f921"
             ]
            ],
            "type": "heatmap"
           }
          ],
          "heatmapgl": [
           {
            "colorbar": {
             "outlinewidth": 0,
             "ticks": ""
            },
            "colorscale": [
             [
              0,
              "#0d0887"
             ],
             [
              0.1111111111111111,
              "#46039f"
             ],
             [
              0.2222222222222222,
              "#7201a8"
             ],
             [
              0.3333333333333333,
              "#9c179e"
             ],
             [
              0.4444444444444444,
              "#bd3786"
             ],
             [
              0.5555555555555556,
              "#d8576b"
             ],
             [
              0.6666666666666666,
              "#ed7953"
             ],
             [
              0.7777777777777778,
              "#fb9f3a"
             ],
             [
              0.8888888888888888,
              "#fdca26"
             ],
             [
              1,
              "#f0f921"
             ]
            ],
            "type": "heatmapgl"
           }
          ],
          "histogram": [
           {
            "marker": {
             "pattern": {
              "fillmode": "overlay",
              "size": 10,
              "solidity": 0.2
             }
            },
            "type": "histogram"
           }
          ],
          "histogram2d": [
           {
            "colorbar": {
             "outlinewidth": 0,
             "ticks": ""
            },
            "colorscale": [
             [
              0,
              "#0d0887"
             ],
             [
              0.1111111111111111,
              "#46039f"
             ],
             [
              0.2222222222222222,
              "#7201a8"
             ],
             [
              0.3333333333333333,
              "#9c179e"
             ],
             [
              0.4444444444444444,
              "#bd3786"
             ],
             [
              0.5555555555555556,
              "#d8576b"
             ],
             [
              0.6666666666666666,
              "#ed7953"
             ],
             [
              0.7777777777777778,
              "#fb9f3a"
             ],
             [
              0.8888888888888888,
              "#fdca26"
             ],
             [
              1,
              "#f0f921"
             ]
            ],
            "type": "histogram2d"
           }
          ],
          "histogram2dcontour": [
           {
            "colorbar": {
             "outlinewidth": 0,
             "ticks": ""
            },
            "colorscale": [
             [
              0,
              "#0d0887"
             ],
             [
              0.1111111111111111,
              "#46039f"
             ],
             [
              0.2222222222222222,
              "#7201a8"
             ],
             [
              0.3333333333333333,
              "#9c179e"
             ],
             [
              0.4444444444444444,
              "#bd3786"
             ],
             [
              0.5555555555555556,
              "#d8576b"
             ],
             [
              0.6666666666666666,
              "#ed7953"
             ],
             [
              0.7777777777777778,
              "#fb9f3a"
             ],
             [
              0.8888888888888888,
              "#fdca26"
             ],
             [
              1,
              "#f0f921"
             ]
            ],
            "type": "histogram2dcontour"
           }
          ],
          "mesh3d": [
           {
            "colorbar": {
             "outlinewidth": 0,
             "ticks": ""
            },
            "type": "mesh3d"
           }
          ],
          "parcoords": [
           {
            "line": {
             "colorbar": {
              "outlinewidth": 0,
              "ticks": ""
             }
            },
            "type": "parcoords"
           }
          ],
          "pie": [
           {
            "automargin": true,
            "type": "pie"
           }
          ],
          "scatter": [
           {
            "fillpattern": {
             "fillmode": "overlay",
             "size": 10,
             "solidity": 0.2
            },
            "type": "scatter"
           }
          ],
          "scatter3d": [
           {
            "line": {
             "colorbar": {
              "outlinewidth": 0,
              "ticks": ""
             }
            },
            "marker": {
             "colorbar": {
              "outlinewidth": 0,
              "ticks": ""
             }
            },
            "type": "scatter3d"
           }
          ],
          "scattercarpet": [
           {
            "marker": {
             "colorbar": {
              "outlinewidth": 0,
              "ticks": ""
             }
            },
            "type": "scattercarpet"
           }
          ],
          "scattergeo": [
           {
            "marker": {
             "colorbar": {
              "outlinewidth": 0,
              "ticks": ""
             }
            },
            "type": "scattergeo"
           }
          ],
          "scattergl": [
           {
            "marker": {
             "colorbar": {
              "outlinewidth": 0,
              "ticks": ""
             }
            },
            "type": "scattergl"
           }
          ],
          "scattermapbox": [
           {
            "marker": {
             "colorbar": {
              "outlinewidth": 0,
              "ticks": ""
             }
            },
            "type": "scattermapbox"
           }
          ],
          "scatterpolar": [
           {
            "marker": {
             "colorbar": {
              "outlinewidth": 0,
              "ticks": ""
             }
            },
            "type": "scatterpolar"
           }
          ],
          "scatterpolargl": [
           {
            "marker": {
             "colorbar": {
              "outlinewidth": 0,
              "ticks": ""
             }
            },
            "type": "scatterpolargl"
           }
          ],
          "scatterternary": [
           {
            "marker": {
             "colorbar": {
              "outlinewidth": 0,
              "ticks": ""
             }
            },
            "type": "scatterternary"
           }
          ],
          "surface": [
           {
            "colorbar": {
             "outlinewidth": 0,
             "ticks": ""
            },
            "colorscale": [
             [
              0,
              "#0d0887"
             ],
             [
              0.1111111111111111,
              "#46039f"
             ],
             [
              0.2222222222222222,
              "#7201a8"
             ],
             [
              0.3333333333333333,
              "#9c179e"
             ],
             [
              0.4444444444444444,
              "#bd3786"
             ],
             [
              0.5555555555555556,
              "#d8576b"
             ],
             [
              0.6666666666666666,
              "#ed7953"
             ],
             [
              0.7777777777777778,
              "#fb9f3a"
             ],
             [
              0.8888888888888888,
              "#fdca26"
             ],
             [
              1,
              "#f0f921"
             ]
            ],
            "type": "surface"
           }
          ],
          "table": [
           {
            "cells": {
             "fill": {
              "color": "#EBF0F8"
             },
             "line": {
              "color": "white"
             }
            },
            "header": {
             "fill": {
              "color": "#C8D4E3"
             },
             "line": {
              "color": "white"
             }
            },
            "type": "table"
           }
          ]
         },
         "layout": {
          "annotationdefaults": {
           "arrowcolor": "#2a3f5f",
           "arrowhead": 0,
           "arrowwidth": 1
          },
          "autotypenumbers": "strict",
          "coloraxis": {
           "colorbar": {
            "outlinewidth": 0,
            "ticks": ""
           }
          },
          "colorscale": {
           "diverging": [
            [
             0,
             "#8e0152"
            ],
            [
             0.1,
             "#c51b7d"
            ],
            [
             0.2,
             "#de77ae"
            ],
            [
             0.3,
             "#f1b6da"
            ],
            [
             0.4,
             "#fde0ef"
            ],
            [
             0.5,
             "#f7f7f7"
            ],
            [
             0.6,
             "#e6f5d0"
            ],
            [
             0.7,
             "#b8e186"
            ],
            [
             0.8,
             "#7fbc41"
            ],
            [
             0.9,
             "#4d9221"
            ],
            [
             1,
             "#276419"
            ]
           ],
           "sequential": [
            [
             0,
             "#0d0887"
            ],
            [
             0.1111111111111111,
             "#46039f"
            ],
            [
             0.2222222222222222,
             "#7201a8"
            ],
            [
             0.3333333333333333,
             "#9c179e"
            ],
            [
             0.4444444444444444,
             "#bd3786"
            ],
            [
             0.5555555555555556,
             "#d8576b"
            ],
            [
             0.6666666666666666,
             "#ed7953"
            ],
            [
             0.7777777777777778,
             "#fb9f3a"
            ],
            [
             0.8888888888888888,
             "#fdca26"
            ],
            [
             1,
             "#f0f921"
            ]
           ],
           "sequentialminus": [
            [
             0,
             "#0d0887"
            ],
            [
             0.1111111111111111,
             "#46039f"
            ],
            [
             0.2222222222222222,
             "#7201a8"
            ],
            [
             0.3333333333333333,
             "#9c179e"
            ],
            [
             0.4444444444444444,
             "#bd3786"
            ],
            [
             0.5555555555555556,
             "#d8576b"
            ],
            [
             0.6666666666666666,
             "#ed7953"
            ],
            [
             0.7777777777777778,
             "#fb9f3a"
            ],
            [
             0.8888888888888888,
             "#fdca26"
            ],
            [
             1,
             "#f0f921"
            ]
           ]
          },
          "colorway": [
           "#636efa",
           "#EF553B",
           "#00cc96",
           "#ab63fa",
           "#FFA15A",
           "#19d3f3",
           "#FF6692",
           "#B6E880",
           "#FF97FF",
           "#FECB52"
          ],
          "font": {
           "color": "#2a3f5f"
          },
          "geo": {
           "bgcolor": "white",
           "lakecolor": "white",
           "landcolor": "#E5ECF6",
           "showlakes": true,
           "showland": true,
           "subunitcolor": "white"
          },
          "hoverlabel": {
           "align": "left"
          },
          "hovermode": "closest",
          "mapbox": {
           "style": "light"
          },
          "paper_bgcolor": "white",
          "plot_bgcolor": "#E5ECF6",
          "polar": {
           "angularaxis": {
            "gridcolor": "white",
            "linecolor": "white",
            "ticks": ""
           },
           "bgcolor": "#E5ECF6",
           "radialaxis": {
            "gridcolor": "white",
            "linecolor": "white",
            "ticks": ""
           }
          },
          "scene": {
           "xaxis": {
            "backgroundcolor": "#E5ECF6",
            "gridcolor": "white",
            "gridwidth": 2,
            "linecolor": "white",
            "showbackground": true,
            "ticks": "",
            "zerolinecolor": "white"
           },
           "yaxis": {
            "backgroundcolor": "#E5ECF6",
            "gridcolor": "white",
            "gridwidth": 2,
            "linecolor": "white",
            "showbackground": true,
            "ticks": "",
            "zerolinecolor": "white"
           },
           "zaxis": {
            "backgroundcolor": "#E5ECF6",
            "gridcolor": "white",
            "gridwidth": 2,
            "linecolor": "white",
            "showbackground": true,
            "ticks": "",
            "zerolinecolor": "white"
           }
          },
          "shapedefaults": {
           "line": {
            "color": "#2a3f5f"
           }
          },
          "ternary": {
           "aaxis": {
            "gridcolor": "white",
            "linecolor": "white",
            "ticks": ""
           },
           "baxis": {
            "gridcolor": "white",
            "linecolor": "white",
            "ticks": ""
           },
           "bgcolor": "#E5ECF6",
           "caxis": {
            "gridcolor": "white",
            "linecolor": "white",
            "ticks": ""
           }
          },
          "title": {
           "x": 0.05
          },
          "xaxis": {
           "automargin": true,
           "gridcolor": "white",
           "linecolor": "white",
           "ticks": "",
           "title": {
            "standoff": 15
           },
           "zerolinecolor": "white",
           "zerolinewidth": 2
          },
          "yaxis": {
           "automargin": true,
           "gridcolor": "white",
           "linecolor": "white",
           "ticks": "",
           "title": {
            "standoff": 15
           },
           "zerolinecolor": "white",
           "zerolinewidth": 2
          }
         }
        },
        "width": 600,
        "xaxis": {
         "anchor": "y",
         "domain": [
          0,
          1
         ],
         "title": {
          "text": "depth"
         }
        },
        "yaxis": {
         "anchor": "x",
         "domain": [
          0,
          1
         ],
         "title": {
          "text": "count"
         }
        }
       }
      }
     },
     "metadata": {},
     "output_type": "display_data"
    }
   ],
   "source": [
    "fig = px.histogram(quake,   #specify what dataframe to use\n",
    "             x=\"depth\",  #specify the variable for the histogram \n",
    "             nbins=50,       #number of bins for the histogram \n",
    "             height=400,     #dimensions of the figure\n",
    "             width=600);\n",
    "fig.show()"
   ]
  },
  {
   "cell_type": "code",
   "execution_count": 74,
   "metadata": {},
   "outputs": [],
   "source": [
    "quake['marker_size'] =np.fix(np.exp(quake['mc'])) # add marker size as exp(mag)\n",
    "quake['magnitude bin'] = 0.5*np.fix(2*quake['mc']) # add marker size as exp(mag)"
   ]
  },
  {
   "cell_type": "code",
   "execution_count": 79,
   "metadata": {},
   "outputs": [
    {
     "data": {
      "application/vnd.plotly.v1+json": {
       "config": {
        "plotlyServerURL": "https://plot.ly"
       },
       "data": [
        {
         "customdata": [
          [
           "1/28/2015",
           3.9,
           5.4
          ],
          [
           "1/28/2015",
           4.6,
           0.6
          ],
          [
           "1/29/2015",
           4,
           15
          ],
          [
           "1/30/2015",
           5.6,
           5.1
          ],
          [
           "1/30/2015",
           4.1,
           5
          ],
          [
           "1/30/2015",
           5.3,
           5.7
          ],
          [
           "1/30/2015",
           3.5,
           0.1
          ],
          [
           "1/31/2015",
           5.5,
           9.2
          ],
          [
           "1/31/2015",
           5.2,
           0.1
          ],
          [
           "1/31/2015",
           5.4,
           0.1
          ],
          [
           "1/31/2015",
           5.3,
           11
          ],
          [
           "1/31/2015",
           4.2,
           4.6
          ],
          [
           "1/31/2015",
           4.9,
           10.5
          ],
          [
           "1/31/2015",
           4.4,
           9.3
          ],
          [
           "2/1/2015",
           5.2,
           3.8
          ],
          [
           "2/1/2015",
           5.5,
           9.2
          ],
          [
           "2/1/2015",
           4.1,
           8.2
          ],
          [
           "2/1/2015",
           4.3,
           4.2
          ],
          [
           "2/1/2015",
           4.7,
           7.2
          ],
          [
           "2/1/2015",
           4.3,
           11.7
          ],
          [
           "2/2/2015",
           5.4,
           8.6
          ],
          [
           "2/2/2015",
           4.9,
           4.3
          ],
          [
           "2/2/2015",
           3.4,
           11.9
          ],
          [
           "2/2/2015",
           5.2,
           3.4
          ],
          [
           "2/2/2015",
           4.9,
           5
          ],
          [
           "2/2/2015",
           4.4,
           7.3
          ],
          [
           "2/3/2015",
           5,
           5
          ],
          [
           "2/3/2015",
           4.5,
           4.4
          ],
          [
           "2/3/2015",
           4,
           0.1
          ],
          [
           "2/4/2015",
           4.2,
           3.1
          ],
          [
           "2/4/2015",
           4.6,
           0.4
          ],
          [
           "2/4/2015",
           5.3,
           10.7
          ],
          [
           "2/4/2015",
           5.2,
           10.4
          ],
          [
           "2/4/2015",
           4.4,
           18.3
          ],
          [
           "2/4/2015",
           4.5,
           3.7
          ],
          [
           "2/4/2015",
           4.3,
           5
          ],
          [
           "2/5/2015",
           4,
           8.3
          ],
          [
           "2/5/2015",
           5.9,
           9.3
          ],
          [
           "2/5/2015",
           4.3,
           4.1
          ],
          [
           "2/5/2015",
           4.1,
           20.5
          ],
          [
           "2/5/2015",
           4.4,
           4
          ],
          [
           "2/5/2015",
           4.1,
           4.3
          ],
          [
           "2/5/2015",
           4.5,
           4.1
          ],
          [
           "2/5/2015",
           5.3,
           4.4
          ],
          [
           "2/5/2015",
           4.5,
           5
          ],
          [
           "2/6/2015",
           6.2,
           12.9
          ],
          [
           "2/6/2015",
           5.6,
           10.2
          ],
          [
           "2/6/2015",
           6.2,
           13.1
          ],
          [
           "2/6/2015",
           4.3,
           2.8
          ],
          [
           "2/6/2015",
           4,
           1.3
          ],
          [
           "2/6/2015",
           4.1,
           11.2
          ],
          [
           "2/6/2015",
           5.6,
           9.9
          ],
          [
           "2/7/2015",
           5.3,
           0.1
          ],
          [
           "2/7/2015",
           4.1,
           4.2
          ],
          [
           "2/7/2015",
           4.7,
           5
          ],
          [
           "2/7/2015",
           4.6,
           8.2
          ],
          [
           "2/7/2015",
           5.1,
           7.5
          ],
          [
           "2/8/2015",
           4.4,
           7.3
          ],
          [
           "2/8/2015",
           4.9,
           5.2
          ],
          [
           "2/8/2015",
           5.1,
           3.2
          ],
          [
           "2/8/2015",
           4.5,
           4.9
          ],
          [
           "2/8/2015",
           4.3,
           4.5
          ],
          [
           "2/10/2015",
           5.7,
           12.2
          ],
          [
           "2/10/2015",
           6.5,
           12.6
          ],
          [
           "2/10/2015",
           4.6,
           8.9
          ],
          [
           "2/11/2015",
           5.1,
           0
          ],
          [
           "2/11/2015",
           5.9,
           0.2
          ],
          [
           "2/11/2015",
           4.2,
           5
          ],
          [
           "2/11/2015",
           3.9,
           3.7
          ],
          [
           "2/11/2015",
           4.4,
           4.7
          ],
          [
           "2/11/2015",
           4.1,
           5
          ],
          [
           "2/11/2015",
           5,
           4
          ],
          [
           "2/12/2015",
           4.2,
           18
          ],
          [
           "2/12/2015",
           4.4,
           3.6
          ],
          [
           "2/12/2015",
           5,
           2.4
          ],
          [
           "2/12/2015",
           3.9,
           10.7
          ],
          [
           "2/12/2015",
           4.6,
           4.3
          ],
          [
           "2/13/2015",
           5.3,
           15
          ],
          [
           "2/13/2015",
           4.9,
           0.9
          ],
          [
           "2/13/2015",
           5.1,
           0.3
          ],
          [
           "2/13/2015",
           4.7,
           0.1
          ],
          [
           "2/14/2015",
           5,
           5
          ],
          [
           "2/14/2015",
           5.2,
           11.2
          ],
          [
           "2/14/2015",
           4.1,
           4.6
          ],
          [
           "2/14/2015",
           4.5,
           3.9
          ],
          [
           "2/14/2015",
           4.5,
           7.1
          ],
          [
           "2/14/2015",
           4.4,
           7.2
          ],
          [
           "2/15/2015",
           5.6,
           0.1
          ],
          [
           "2/15/2015",
           5.4,
           13.3
          ],
          [
           "2/15/2015",
           4.8,
           2.3
          ],
          [
           "2/15/2015",
           4.9,
           0.1
          ],
          [
           "2/15/2015",
           6.2,
           11
          ],
          [
           "2/16/2015",
           4.9,
           5.9
          ],
          [
           "2/16/2015",
           4.6,
           4.2
          ],
          [
           "2/16/2015",
           4.6,
           4
          ],
          [
           "2/16/2015",
           4.2,
           5
          ],
          [
           "2/16/2015",
           4.3,
           6.1
          ],
          [
           "2/17/2015",
           5.4,
           13
          ],
          [
           "2/17/2015",
           4.6,
           3.5
          ],
          [
           "2/17/2015",
           4.4,
           0.1
          ],
          [
           "2/18/2015",
           4.6,
           4.9
          ],
          [
           "2/18/2015",
           5.3,
           0.4
          ],
          [
           "2/18/2015",
           4.5,
           8.2
          ],
          [
           "2/18/2015",
           4.8,
           5.1
          ],
          [
           "2/18/2015",
           5,
           5.2
          ],
          [
           "2/18/2015",
           6.1,
           8
          ],
          [
           "2/19/2015",
           5.3,
           0.1
          ],
          [
           "2/19/2015",
           4.3,
           7.8
          ],
          [
           "2/20/2015",
           4.7,
           4.7
          ],
          [
           "2/20/2015",
           5,
           4.3
          ],
          [
           "2/20/2015",
           5.4,
           8.2
          ],
          [
           "2/20/2015",
           4.5,
           22.1
          ],
          [
           "2/21/2015",
           4.9,
           3.3
          ],
          [
           "2/21/2015",
           6.9,
           0.1
          ],
          [
           "2/21/2015",
           4.1,
           3.8
          ],
          [
           "2/21/2015",
           4,
           11.1
          ],
          [
           "2/21/2015",
           5.7,
           4.6
          ],
          [
           "2/21/2015",
           6.8,
           10.3
          ],
          [
           "2/22/2015",
           6.1,
           13.2
          ],
          [
           "2/22/2015",
           4.4,
           5
          ],
          [
           "2/23/2015",
           5.6,
           18.8
          ],
          [
           "2/23/2015",
           5.6,
           11.9
          ],
          [
           "2/23/2015",
           6.4,
           10
          ],
          [
           "2/23/2015",
           4.2,
           20.9
          ],
          [
           "2/23/2015",
           4.4,
           15
          ],
          [
           "2/23/2015",
           4.4,
           9.1
          ],
          [
           "2/24/2015",
           4.5,
           0.1
          ],
          [
           "2/24/2015",
           4.4,
           6.6
          ],
          [
           "2/24/2015",
           4.3,
           1.1
          ],
          [
           "2/25/2015",
           4.7,
           7.6
          ],
          [
           "2/25/2015",
           4.5,
           4.9
          ],
          [
           "2/25/2015",
           4.5,
           7.7
          ],
          [
           "2/25/2015",
           4.7,
           3.2
          ],
          [
           "2/26/2015",
           5.3,
           11.1
          ],
          [
           "2/26/2015",
           4.3,
           6.6
          ],
          [
           "2/26/2015",
           5.1,
           1
          ],
          [
           "2/27/2015",
           4.7,
           2.4
          ],
          [
           "2/28/2015",
           4.4,
           6
          ],
          [
           "2/28/2015",
           4.8,
           1.6
          ],
          [
           "2/28/2015",
           6,
           0.4
          ],
          [
           "2/28/2015",
           4.1,
           4.8
          ],
          [
           "2/28/2015",
           4.1,
           8.6
          ],
          [
           "2/28/2015",
           4.3,
           4.1
          ],
          [
           "2/28/2015",
           4.8,
           7.7
          ],
          [
           "2/28/2015",
           4.4,
           3.4
          ],
          [
           "2/28/2015",
           4.9,
           0.1
          ],
          [
           "3/1/2015",
           5.3,
           10.4
          ],
          [
           "3/1/2015",
           4.1,
           3.7
          ],
          [
           "3/1/2015",
           5.1,
           5.8
          ],
          [
           "3/1/2015",
           4.8,
           17.5
          ],
          [
           "3/2/2015",
           4.1,
           4.9
          ],
          [
           "3/2/2015",
           4.5,
           19.9
          ],
          [
           "3/2/2015",
           4.5,
           10.5
          ]
         ],
         "geo": "geo",
         "hovertemplate": "<b>%{hovertext}</b><br><br>marker_size=%{marker.size}<br>latitude=%{lat}<br>longitude=%{lon}<br>date=%{customdata[0]}<br>mc=%{marker.color}<br>depth=%{customdata[2]}<extra></extra>",
         "hovertext": [
          0.1,
          0.5,
          0.4,
          0.4,
          0.3,
          0.4,
          0.9,
          1,
          0.4,
          0.3,
          0.5,
          0.5,
          0.3,
          0.6,
          0.5,
          0.8,
          1,
          1,
          0.6,
          0.1,
          0.7,
          0.6,
          0.1,
          0.4,
          0.5,
          0.6,
          1,
          0.4,
          0.2,
          0.6,
          0.6,
          0.4,
          0.7,
          0.4,
          0.4,
          0.3,
          0.6,
          0.7,
          0.7,
          0.9,
          0.8,
          0.3,
          0.6,
          0.4,
          0.4,
          0.5,
          0.3,
          0.8,
          0.7,
          0.5,
          0,
          0.5,
          0.5,
          0.7,
          0.7,
          0.5,
          0.4,
          0.7,
          0.4,
          0.4,
          0.6,
          0.6,
          0.3,
          0.3,
          0.5,
          0.6,
          0.9,
          0.4,
          0.6,
          0.4,
          0.2,
          0.6,
          0.1,
          0.9,
          0.4,
          0.8,
          0.5,
          0.5,
          0.6,
          0.5,
          0.6,
          0.4,
          0.7,
          0.3,
          0.7,
          0.4,
          0.8,
          0.7,
          0.1,
          0.6,
          0.5,
          0.3,
          0.5,
          0.6,
          0.5,
          0.6,
          0.3,
          0.7,
          0.3,
          0.8,
          0.6,
          0.7,
          0.7,
          0.5,
          0.3,
          0.7,
          0.8,
          0.2,
          0.7,
          0.5,
          0.7,
          0.6,
          0.9,
          0.3,
          0.7,
          0.5,
          0.8,
          0.8,
          0.4,
          0.6,
          0.5,
          0.5,
          0.8,
          0.6,
          0.4,
          0.6,
          0.3,
          0.2,
          0.2,
          0.4,
          0.1,
          0.5,
          0.6,
          0.3,
          0.9,
          0.3,
          0.8,
          0.3,
          0.5,
          0.9,
          0.4,
          0.3,
          0.4,
          0.2,
          0.8,
          0.6,
          0.2,
          0.4,
          0.9,
          0.4,
          0.4,
          0.2,
          0.5
         ],
         "lat": [
          5.534,
          8.279,
          6.005,
          4.99,
          4.45,
          4.588,
          9.517,
          5.011,
          5.085,
          4.984,
          5.405,
          6.008,
          4.206,
          5.272,
          5.091,
          5.041,
          4.258,
          5.057,
          8.184,
          8.888,
          2.761,
          5.345,
          8.932,
          7.746,
          5.088,
          5.319,
          8.138,
          4.654,
          8.767,
          5.072,
          7.189,
          2.373,
          2.384,
          5.188,
          6.166,
          4.957,
          5.427,
          5.288,
          5.038,
          5.548,
          5.063,
          5.244,
          5.024,
          5.089,
          5.344,
          9.682,
          5.131,
          9.473,
          5.974,
          5.326,
          8.974,
          12.099,
          5.609,
          5.173,
          5.021,
          6.789,
          6.814,
          5.321,
          8.28,
          5.848,
          5.164,
          5.73,
          2.873,
          -1.089,
          5.081,
          3.785,
          8.156,
          4.515,
          4.724,
          4.928,
          5.357,
          5.899,
          5.09,
          5.373,
          7.502,
          5.777,
          4.827,
          7.052,
          7.496,
          7.983,
          8.373,
          7.405,
          7.466,
          4.368,
          5.064,
          6.023,
          4.963,
          5.666,
          7.599,
          6.9,
          7.12,
          9.188,
          4.059,
          5.027,
          4.684,
          6.046,
          6.07,
          2.936,
          4.274,
          10.122,
          5.205,
          8.076,
          5.61,
          4.255,
          4.531,
          10.122,
          3.334,
          5.799,
          4.791,
          5.995,
          9.55,
          9.705,
          5.429,
          5.007,
          5.106,
          9.442,
          9.478,
          11.703,
          3.183,
          5.071,
          6.104,
          5.007,
          9.325,
          4.846,
          5.724,
          8.537,
          8.053,
          5.272,
          5.103,
          6.615,
          4.86,
          6.77,
          5.62,
          2.567,
          5.186,
          6.759,
          7.103,
          5.475,
          5.503,
          3.852,
          4.99,
          4.753,
          4.695,
          5.25,
          5.738,
          7.775,
          2.647,
          4.999,
          5.222,
          8.458,
          5.045,
          4.858,
          5.212
         ],
         "legendgroup": "",
         "lon": [
          -82.59,
          -82.858,
          -82.134,
          -77.913,
          -82.595,
          -82.799,
          -82.914,
          -77.95,
          -76.506,
          -77.873,
          -82.568,
          -82.639,
          -82.675,
          -82.899,
          -82.87,
          -77.978,
          -82.398,
          -82.759,
          -83.063,
          -84.707,
          -79.67,
          -82.92,
          -83.4,
          -80.315,
          -82.859,
          -82.933,
          -79.875,
          -82.848,
          -85.008,
          -81.44,
          -80.38,
          -79.818,
          -80.128,
          -82.785,
          -82.947,
          -82.966,
          -82.249,
          -82.521,
          -82.793,
          -82.807,
          -82.815,
          -82.836,
          -82.858,
          -82.879,
          -83.019,
          -77.335,
          -78.006,
          -78.616,
          -82.819,
          -83.065,
          -84.665,
          -88.512,
          -77.943,
          -82.863,
          -82.959,
          -83.359,
          -83.453,
          -83.11,
          -83.41,
          -82.824,
          -82.855,
          -82.941,
          -78.385,
          -81.054,
          -82.866,
          -78.617,
          -80.886,
          -81.625,
          -81.847,
          -82.823,
          -82.924,
          -82.984,
          -82.86,
          -81.643,
          -82.063,
          -82.767,
          -82.836,
          -73.223,
          -82.048,
          -82.411,
          -83.028,
          -80.468,
          -82.017,
          -82.746,
          -82.832,
          -82.902,
          -82.922,
          -77.994,
          -81.154,
          -82.765,
          -84.071,
          -84.934,
          -82.745,
          -82.867,
          -83.046,
          -83.069,
          -83.092,
          -79.331,
          -81.337,
          -82.463,
          -82.83,
          -80.239,
          -82.547,
          -82.672,
          -83.055,
          -85.686,
          -79.057,
          -82.946,
          -82.98,
          -82.765,
          -85.333,
          -85.766,
          -83.29,
          -75.698,
          -81.948,
          -84.091,
          -85.247,
          -88.764,
          -77.845,
          -82.874,
          -83,
          -77.556,
          -78.506,
          -82.843,
          -82.906,
          -84.903,
          -82.756,
          -82.832,
          -82.872,
          -81.824,
          -82.889,
          -83.285,
          -83.381,
          -79.596,
          -82.819,
          -83.019,
          -82.696,
          -82.74,
          -79.56,
          -76.485,
          -82.645,
          -82.653,
          -82.714,
          -82.829,
          -82.866,
          -83.236,
          -79.531,
          -81.622,
          -82.799,
          -82.907,
          -82.603,
          -82.864,
          -83.218
         ],
         "marker": {
          "color": [
           3.9,
           4.6,
           4,
           5.6,
           4.1,
           5.3,
           3.5,
           5.5,
           5.2,
           5.4,
           5.3,
           4.2,
           4.9,
           4.4,
           5.2,
           5.5,
           4.1,
           4.3,
           4.7,
           4.3,
           5.4,
           4.9,
           3.4,
           5.2,
           4.9,
           4.4,
           5,
           4.5,
           4,
           4.2,
           4.6,
           5.3,
           5.2,
           4.4,
           4.5,
           4.3,
           4,
           5.9,
           4.3,
           4.1,
           4.4,
           4.1,
           4.5,
           5.3,
           4.5,
           6.2,
           5.6,
           6.2,
           4.3,
           4,
           4.1,
           5.6,
           5.3,
           4.1,
           4.7,
           4.6,
           5.1,
           4.4,
           4.9,
           5.1,
           4.5,
           4.3,
           5.7,
           6.5,
           4.6,
           5.1,
           5.9,
           4.2,
           3.9,
           4.4,
           4.1,
           5,
           4.2,
           4.4,
           5,
           3.9,
           4.6,
           5.3,
           4.9,
           5.1,
           4.7,
           5,
           5.2,
           4.1,
           4.5,
           4.5,
           4.4,
           5.6,
           5.4,
           4.8,
           4.9,
           6.2,
           4.9,
           4.6,
           4.6,
           4.2,
           4.3,
           5.4,
           4.6,
           4.4,
           4.6,
           5.3,
           4.5,
           4.8,
           5,
           6.1,
           5.3,
           4.3,
           4.7,
           5,
           5.4,
           4.5,
           4.9,
           6.9,
           4.1,
           4,
           5.7,
           6.8,
           6.1,
           4.4,
           5.6,
           5.6,
           6.4,
           4.2,
           4.4,
           4.4,
           4.5,
           4.4,
           4.3,
           4.7,
           4.5,
           4.5,
           4.7,
           5.3,
           4.3,
           5.1,
           4.7,
           4.4,
           4.8,
           6,
           4.1,
           4.1,
           4.3,
           4.8,
           4.4,
           4.9,
           5.3,
           4.1,
           5.1,
           4.8,
           4.1,
           4.5,
           4.5
          ],
          "coloraxis": "coloraxis",
          "size": [
           49,
           99,
           54,
           270,
           60,
           200,
           33,
           244,
           181,
           221,
           200,
           66,
           134,
           81,
           181,
           244,
           60,
           73,
           109,
           73,
           221,
           134,
           29,
           181,
           134,
           81,
           148,
           90,
           54,
           66,
           99,
           200,
           181,
           81,
           90,
           73,
           54,
           365,
           73,
           60,
           81,
           60,
           90,
           200,
           90,
           492,
           270,
           492,
           73,
           54,
           60,
           270,
           200,
           60,
           109,
           99,
           164,
           81,
           134,
           164,
           90,
           73,
           298,
           665,
           99,
           164,
           365,
           66,
           49,
           81,
           60,
           148,
           66,
           81,
           148,
           49,
           99,
           200,
           134,
           164,
           109,
           148,
           181,
           60,
           90,
           90,
           81,
           270,
           221,
           121,
           134,
           492,
           134,
           99,
           99,
           66,
           73,
           221,
           99,
           81,
           99,
           200,
           90,
           121,
           148,
           445,
           200,
           73,
           109,
           148,
           221,
           90,
           134,
           992,
           60,
           54,
           298,
           897,
           445,
           81,
           270,
           270,
           601,
           66,
           81,
           81,
           90,
           81,
           73,
           109,
           90,
           90,
           109,
           200,
           73,
           164,
           109,
           81,
           121,
           403,
           60,
           60,
           73,
           121,
           81,
           134,
           200,
           60,
           164,
           121,
           60,
           90,
           90
          ],
          "sizemode": "area",
          "sizeref": 2.48,
          "symbol": "circle"
         },
         "mode": "markers",
         "name": "",
         "showlegend": false,
         "type": "scattergeo"
        }
       ],
       "layout": {
        "coloraxis": {
         "cmax": 9,
         "cmin": 6,
         "colorbar": {
          "title": {
           "text": "mc"
          }
         },
         "colorscale": [
          [
           0,
           "#0d0887"
          ],
          [
           0.1111111111111111,
           "#46039f"
          ],
          [
           0.2222222222222222,
           "#7201a8"
          ],
          [
           0.3333333333333333,
           "#9c179e"
          ],
          [
           0.4444444444444444,
           "#bd3786"
          ],
          [
           0.5555555555555556,
           "#d8576b"
          ],
          [
           0.6666666666666666,
           "#ed7953"
          ],
          [
           0.7777777777777778,
           "#fb9f3a"
          ],
          [
           0.8888888888888888,
           "#fdca26"
          ],
          [
           1,
           "#f0f921"
          ]
         ]
        },
        "geo": {
         "center": {},
         "domain": {
          "x": [
           0,
           1
          ],
          "y": [
           0,
           1
          ]
         },
         "projection": {
          "type": "orthographic"
         },
         "resolution": 110,
         "showcountries": true
        },
        "height": 600,
        "legend": {
         "itemsizing": "constant",
         "tracegroupgap": 0
        },
        "margin": {
         "t": 60
        },
        "template": {
         "data": {
          "bar": [
           {
            "error_x": {
             "color": "#2a3f5f"
            },
            "error_y": {
             "color": "#2a3f5f"
            },
            "marker": {
             "line": {
              "color": "#E5ECF6",
              "width": 0.5
             },
             "pattern": {
              "fillmode": "overlay",
              "size": 10,
              "solidity": 0.2
             }
            },
            "type": "bar"
           }
          ],
          "barpolar": [
           {
            "marker": {
             "line": {
              "color": "#E5ECF6",
              "width": 0.5
             },
             "pattern": {
              "fillmode": "overlay",
              "size": 10,
              "solidity": 0.2
             }
            },
            "type": "barpolar"
           }
          ],
          "carpet": [
           {
            "aaxis": {
             "endlinecolor": "#2a3f5f",
             "gridcolor": "white",
             "linecolor": "white",
             "minorgridcolor": "white",
             "startlinecolor": "#2a3f5f"
            },
            "baxis": {
             "endlinecolor": "#2a3f5f",
             "gridcolor": "white",
             "linecolor": "white",
             "minorgridcolor": "white",
             "startlinecolor": "#2a3f5f"
            },
            "type": "carpet"
           }
          ],
          "choropleth": [
           {
            "colorbar": {
             "outlinewidth": 0,
             "ticks": ""
            },
            "type": "choropleth"
           }
          ],
          "contour": [
           {
            "colorbar": {
             "outlinewidth": 0,
             "ticks": ""
            },
            "colorscale": [
             [
              0,
              "#0d0887"
             ],
             [
              0.1111111111111111,
              "#46039f"
             ],
             [
              0.2222222222222222,
              "#7201a8"
             ],
             [
              0.3333333333333333,
              "#9c179e"
             ],
             [
              0.4444444444444444,
              "#bd3786"
             ],
             [
              0.5555555555555556,
              "#d8576b"
             ],
             [
              0.6666666666666666,
              "#ed7953"
             ],
             [
              0.7777777777777778,
              "#fb9f3a"
             ],
             [
              0.8888888888888888,
              "#fdca26"
             ],
             [
              1,
              "#f0f921"
             ]
            ],
            "type": "contour"
           }
          ],
          "contourcarpet": [
           {
            "colorbar": {
             "outlinewidth": 0,
             "ticks": ""
            },
            "type": "contourcarpet"
           }
          ],
          "heatmap": [
           {
            "colorbar": {
             "outlinewidth": 0,
             "ticks": ""
            },
            "colorscale": [
             [
              0,
              "#0d0887"
             ],
             [
              0.1111111111111111,
              "#46039f"
             ],
             [
              0.2222222222222222,
              "#7201a8"
             ],
             [
              0.3333333333333333,
              "#9c179e"
             ],
             [
              0.4444444444444444,
              "#bd3786"
             ],
             [
              0.5555555555555556,
              "#d8576b"
             ],
             [
              0.6666666666666666,
              "#ed7953"
             ],
             [
              0.7777777777777778,
              "#fb9f3a"
             ],
             [
              0.8888888888888888,
              "#fdca26"
             ],
             [
              1,
              "#f0f921"
             ]
            ],
            "type": "heatmap"
           }
          ],
          "heatmapgl": [
           {
            "colorbar": {
             "outlinewidth": 0,
             "ticks": ""
            },
            "colorscale": [
             [
              0,
              "#0d0887"
             ],
             [
              0.1111111111111111,
              "#46039f"
             ],
             [
              0.2222222222222222,
              "#7201a8"
             ],
             [
              0.3333333333333333,
              "#9c179e"
             ],
             [
              0.4444444444444444,
              "#bd3786"
             ],
             [
              0.5555555555555556,
              "#d8576b"
             ],
             [
              0.6666666666666666,
              "#ed7953"
             ],
             [
              0.7777777777777778,
              "#fb9f3a"
             ],
             [
              0.8888888888888888,
              "#fdca26"
             ],
             [
              1,
              "#f0f921"
             ]
            ],
            "type": "heatmapgl"
           }
          ],
          "histogram": [
           {
            "marker": {
             "pattern": {
              "fillmode": "overlay",
              "size": 10,
              "solidity": 0.2
             }
            },
            "type": "histogram"
           }
          ],
          "histogram2d": [
           {
            "colorbar": {
             "outlinewidth": 0,
             "ticks": ""
            },
            "colorscale": [
             [
              0,
              "#0d0887"
             ],
             [
              0.1111111111111111,
              "#46039f"
             ],
             [
              0.2222222222222222,
              "#7201a8"
             ],
             [
              0.3333333333333333,
              "#9c179e"
             ],
             [
              0.4444444444444444,
              "#bd3786"
             ],
             [
              0.5555555555555556,
              "#d8576b"
             ],
             [
              0.6666666666666666,
              "#ed7953"
             ],
             [
              0.7777777777777778,
              "#fb9f3a"
             ],
             [
              0.8888888888888888,
              "#fdca26"
             ],
             [
              1,
              "#f0f921"
             ]
            ],
            "type": "histogram2d"
           }
          ],
          "histogram2dcontour": [
           {
            "colorbar": {
             "outlinewidth": 0,
             "ticks": ""
            },
            "colorscale": [
             [
              0,
              "#0d0887"
             ],
             [
              0.1111111111111111,
              "#46039f"
             ],
             [
              0.2222222222222222,
              "#7201a8"
             ],
             [
              0.3333333333333333,
              "#9c179e"
             ],
             [
              0.4444444444444444,
              "#bd3786"
             ],
             [
              0.5555555555555556,
              "#d8576b"
             ],
             [
              0.6666666666666666,
              "#ed7953"
             ],
             [
              0.7777777777777778,
              "#fb9f3a"
             ],
             [
              0.8888888888888888,
              "#fdca26"
             ],
             [
              1,
              "#f0f921"
             ]
            ],
            "type": "histogram2dcontour"
           }
          ],
          "mesh3d": [
           {
            "colorbar": {
             "outlinewidth": 0,
             "ticks": ""
            },
            "type": "mesh3d"
           }
          ],
          "parcoords": [
           {
            "line": {
             "colorbar": {
              "outlinewidth": 0,
              "ticks": ""
             }
            },
            "type": "parcoords"
           }
          ],
          "pie": [
           {
            "automargin": true,
            "type": "pie"
           }
          ],
          "scatter": [
           {
            "fillpattern": {
             "fillmode": "overlay",
             "size": 10,
             "solidity": 0.2
            },
            "type": "scatter"
           }
          ],
          "scatter3d": [
           {
            "line": {
             "colorbar": {
              "outlinewidth": 0,
              "ticks": ""
             }
            },
            "marker": {
             "colorbar": {
              "outlinewidth": 0,
              "ticks": ""
             }
            },
            "type": "scatter3d"
           }
          ],
          "scattercarpet": [
           {
            "marker": {
             "colorbar": {
              "outlinewidth": 0,
              "ticks": ""
             }
            },
            "type": "scattercarpet"
           }
          ],
          "scattergeo": [
           {
            "marker": {
             "colorbar": {
              "outlinewidth": 0,
              "ticks": ""
             }
            },
            "type": "scattergeo"
           }
          ],
          "scattergl": [
           {
            "marker": {
             "colorbar": {
              "outlinewidth": 0,
              "ticks": ""
             }
            },
            "type": "scattergl"
           }
          ],
          "scattermapbox": [
           {
            "marker": {
             "colorbar": {
              "outlinewidth": 0,
              "ticks": ""
             }
            },
            "type": "scattermapbox"
           }
          ],
          "scatterpolar": [
           {
            "marker": {
             "colorbar": {
              "outlinewidth": 0,
              "ticks": ""
             }
            },
            "type": "scatterpolar"
           }
          ],
          "scatterpolargl": [
           {
            "marker": {
             "colorbar": {
              "outlinewidth": 0,
              "ticks": ""
             }
            },
            "type": "scatterpolargl"
           }
          ],
          "scatterternary": [
           {
            "marker": {
             "colorbar": {
              "outlinewidth": 0,
              "ticks": ""
             }
            },
            "type": "scatterternary"
           }
          ],
          "surface": [
           {
            "colorbar": {
             "outlinewidth": 0,
             "ticks": ""
            },
            "colorscale": [
             [
              0,
              "#0d0887"
             ],
             [
              0.1111111111111111,
              "#46039f"
             ],
             [
              0.2222222222222222,
              "#7201a8"
             ],
             [
              0.3333333333333333,
              "#9c179e"
             ],
             [
              0.4444444444444444,
              "#bd3786"
             ],
             [
              0.5555555555555556,
              "#d8576b"
             ],
             [
              0.6666666666666666,
              "#ed7953"
             ],
             [
              0.7777777777777778,
              "#fb9f3a"
             ],
             [
              0.8888888888888888,
              "#fdca26"
             ],
             [
              1,
              "#f0f921"
             ]
            ],
            "type": "surface"
           }
          ],
          "table": [
           {
            "cells": {
             "fill": {
              "color": "#EBF0F8"
             },
             "line": {
              "color": "white"
             }
            },
            "header": {
             "fill": {
              "color": "#C8D4E3"
             },
             "line": {
              "color": "white"
             }
            },
            "type": "table"
           }
          ]
         },
         "layout": {
          "annotationdefaults": {
           "arrowcolor": "#2a3f5f",
           "arrowhead": 0,
           "arrowwidth": 1
          },
          "autotypenumbers": "strict",
          "coloraxis": {
           "colorbar": {
            "outlinewidth": 0,
            "ticks": ""
           }
          },
          "colorscale": {
           "diverging": [
            [
             0,
             "#8e0152"
            ],
            [
             0.1,
             "#c51b7d"
            ],
            [
             0.2,
             "#de77ae"
            ],
            [
             0.3,
             "#f1b6da"
            ],
            [
             0.4,
             "#fde0ef"
            ],
            [
             0.5,
             "#f7f7f7"
            ],
            [
             0.6,
             "#e6f5d0"
            ],
            [
             0.7,
             "#b8e186"
            ],
            [
             0.8,
             "#7fbc41"
            ],
            [
             0.9,
             "#4d9221"
            ],
            [
             1,
             "#276419"
            ]
           ],
           "sequential": [
            [
             0,
             "#0d0887"
            ],
            [
             0.1111111111111111,
             "#46039f"
            ],
            [
             0.2222222222222222,
             "#7201a8"
            ],
            [
             0.3333333333333333,
             "#9c179e"
            ],
            [
             0.4444444444444444,
             "#bd3786"
            ],
            [
             0.5555555555555556,
             "#d8576b"
            ],
            [
             0.6666666666666666,
             "#ed7953"
            ],
            [
             0.7777777777777778,
             "#fb9f3a"
            ],
            [
             0.8888888888888888,
             "#fdca26"
            ],
            [
             1,
             "#f0f921"
            ]
           ],
           "sequentialminus": [
            [
             0,
             "#0d0887"
            ],
            [
             0.1111111111111111,
             "#46039f"
            ],
            [
             0.2222222222222222,
             "#7201a8"
            ],
            [
             0.3333333333333333,
             "#9c179e"
            ],
            [
             0.4444444444444444,
             "#bd3786"
            ],
            [
             0.5555555555555556,
             "#d8576b"
            ],
            [
             0.6666666666666666,
             "#ed7953"
            ],
            [
             0.7777777777777778,
             "#fb9f3a"
            ],
            [
             0.8888888888888888,
             "#fdca26"
            ],
            [
             1,
             "#f0f921"
            ]
           ]
          },
          "colorway": [
           "#636efa",
           "#EF553B",
           "#00cc96",
           "#ab63fa",
           "#FFA15A",
           "#19d3f3",
           "#FF6692",
           "#B6E880",
           "#FF97FF",
           "#FECB52"
          ],
          "font": {
           "color": "#2a3f5f"
          },
          "geo": {
           "bgcolor": "white",
           "lakecolor": "white",
           "landcolor": "#E5ECF6",
           "showlakes": true,
           "showland": true,
           "subunitcolor": "white"
          },
          "hoverlabel": {
           "align": "left"
          },
          "hovermode": "closest",
          "mapbox": {
           "style": "light"
          },
          "paper_bgcolor": "white",
          "plot_bgcolor": "#E5ECF6",
          "polar": {
           "angularaxis": {
            "gridcolor": "white",
            "linecolor": "white",
            "ticks": ""
           },
           "bgcolor": "#E5ECF6",
           "radialaxis": {
            "gridcolor": "white",
            "linecolor": "white",
            "ticks": ""
           }
          },
          "scene": {
           "xaxis": {
            "backgroundcolor": "#E5ECF6",
            "gridcolor": "white",
            "gridwidth": 2,
            "linecolor": "white",
            "showbackground": true,
            "ticks": "",
            "zerolinecolor": "white"
           },
           "yaxis": {
            "backgroundcolor": "#E5ECF6",
            "gridcolor": "white",
            "gridwidth": 2,
            "linecolor": "white",
            "showbackground": true,
            "ticks": "",
            "zerolinecolor": "white"
           },
           "zaxis": {
            "backgroundcolor": "#E5ECF6",
            "gridcolor": "white",
            "gridwidth": 2,
            "linecolor": "white",
            "showbackground": true,
            "ticks": "",
            "zerolinecolor": "white"
           }
          },
          "shapedefaults": {
           "line": {
            "color": "#2a3f5f"
           }
          },
          "ternary": {
           "aaxis": {
            "gridcolor": "white",
            "linecolor": "white",
            "ticks": ""
           },
           "baxis": {
            "gridcolor": "white",
            "linecolor": "white",
            "ticks": ""
           },
           "bgcolor": "#E5ECF6",
           "caxis": {
            "gridcolor": "white",
            "linecolor": "white",
            "ticks": ""
           }
          },
          "title": {
           "x": 0.05
          },
          "xaxis": {
           "automargin": true,
           "gridcolor": "white",
           "linecolor": "white",
           "ticks": "",
           "title": {
            "standoff": 15
           },
           "zerolinecolor": "white",
           "zerolinewidth": 2
          },
          "yaxis": {
           "automargin": true,
           "gridcolor": "white",
           "linecolor": "white",
           "ticks": "",
           "title": {
            "standoff": 15
           },
           "zerolinecolor": "white",
           "zerolinewidth": 2
          }
         }
        },
        "width": 600
       }
      }
     },
     "metadata": {},
     "output_type": "display_data"
    }
   ],
   "source": [
    "fig = px.scatter_geo(quake,\n",
    "                     lat='latitude',lon='longitude', \n",
    "                     range_color=(6,9),\n",
    "                     height=600, width=600,\n",
    "                     size='marker_size', color='mc',\n",
    "                     hover_name=\"rms\",\n",
    "                     hover_data=['date','mc','depth']);\n",
    "fig.update_geos(resolution=110, showcountries=True)\n",
    "fig.update_geos(resolution=110, showcountries=True,projection_type=\"orthographic\")"
   ]
  },
  {
   "cell_type": "code",
   "execution_count": 80,
   "metadata": {},
   "outputs": [
    {
     "data": {
      "text/html": [
       "<div>\n",
       "<style scoped>\n",
       "    .dataframe tbody tr th:only-of-type {\n",
       "        vertical-align: middle;\n",
       "    }\n",
       "\n",
       "    .dataframe tbody tr th {\n",
       "        vertical-align: top;\n",
       "    }\n",
       "\n",
       "    .dataframe thead th {\n",
       "        text-align: right;\n",
       "    }\n",
       "</style>\n",
       "<table border=\"1\" class=\"dataframe\">\n",
       "  <thead>\n",
       "    <tr style=\"text-align: right;\">\n",
       "      <th></th>\n",
       "      <th>date</th>\n",
       "      <th>HH/MM/SS</th>\n",
       "      <th>latitude</th>\n",
       "      <th>longitude</th>\n",
       "      <th>depth</th>\n",
       "      <th>rms</th>\n",
       "      <th>mc</th>\n",
       "      <th>vp/vs</th>\n",
       "      <th>marker_size</th>\n",
       "      <th>magnitude bin</th>\n",
       "    </tr>\n",
       "  </thead>\n",
       "  <tbody>\n",
       "    <tr>\n",
       "      <th>22</th>\n",
       "      <td>2/2/2015</td>\n",
       "      <td>8:53 AM</td>\n",
       "      <td>8.932</td>\n",
       "      <td>-83.400</td>\n",
       "      <td>11.9</td>\n",
       "      <td>0.1</td>\n",
       "      <td>3.4</td>\n",
       "      <td>1.73</td>\n",
       "      <td>29.0</td>\n",
       "      <td>3.0</td>\n",
       "    </tr>\n",
       "    <tr>\n",
       "      <th>6</th>\n",
       "      <td>1/30/2015</td>\n",
       "      <td>12:20 PM</td>\n",
       "      <td>9.517</td>\n",
       "      <td>-82.914</td>\n",
       "      <td>0.1</td>\n",
       "      <td>0.9</td>\n",
       "      <td>3.5</td>\n",
       "      <td>1.73</td>\n",
       "      <td>33.0</td>\n",
       "      <td>3.5</td>\n",
       "    </tr>\n",
       "    <tr>\n",
       "      <th>0</th>\n",
       "      <td>1/28/2015</td>\n",
       "      <td>8:46 PM</td>\n",
       "      <td>5.534</td>\n",
       "      <td>-82.590</td>\n",
       "      <td>5.4</td>\n",
       "      <td>0.1</td>\n",
       "      <td>3.9</td>\n",
       "      <td>1.73</td>\n",
       "      <td>49.0</td>\n",
       "      <td>3.5</td>\n",
       "    </tr>\n",
       "    <tr>\n",
       "      <th>68</th>\n",
       "      <td>2/11/2015</td>\n",
       "      <td>5:04 PM</td>\n",
       "      <td>4.724</td>\n",
       "      <td>-81.847</td>\n",
       "      <td>3.7</td>\n",
       "      <td>0.6</td>\n",
       "      <td>3.9</td>\n",
       "      <td>1.69</td>\n",
       "      <td>49.0</td>\n",
       "      <td>3.5</td>\n",
       "    </tr>\n",
       "    <tr>\n",
       "      <th>75</th>\n",
       "      <td>2/12/2015</td>\n",
       "      <td>1:40 PM</td>\n",
       "      <td>5.777</td>\n",
       "      <td>-82.767</td>\n",
       "      <td>10.7</td>\n",
       "      <td>0.8</td>\n",
       "      <td>3.9</td>\n",
       "      <td>1.74</td>\n",
       "      <td>49.0</td>\n",
       "      <td>3.5</td>\n",
       "    </tr>\n",
       "  </tbody>\n",
       "</table>\n",
       "</div>"
      ],
      "text/plain": [
       "         date  HH/MM/SS  latitude  longitude  depth  rms   mc  vp/vs  \\\n",
       "22   2/2/2015   8:53 AM     8.932    -83.400   11.9  0.1  3.4   1.73   \n",
       "6   1/30/2015  12:20 PM     9.517    -82.914    0.1  0.9  3.5   1.73   \n",
       "0   1/28/2015   8:46 PM     5.534    -82.590    5.4  0.1  3.9   1.73   \n",
       "68  2/11/2015   5:04 PM     4.724    -81.847    3.7  0.6  3.9   1.69   \n",
       "75  2/12/2015   1:40 PM     5.777    -82.767   10.7  0.8  3.9   1.74   \n",
       "\n",
       "    marker_size  magnitude bin  \n",
       "22         29.0            3.0  \n",
       "6          33.0            3.5  \n",
       "0          49.0            3.5  \n",
       "68         49.0            3.5  \n",
       "75         49.0            3.5  "
      ]
     },
     "execution_count": 80,
     "metadata": {},
     "output_type": "execute_result"
    }
   ],
   "source": [
    "quakes2plot=quake.sort_values(by='mc')\n",
    "\n",
    "quakes2plot.head()"
   ]
  },
  {
   "cell_type": "code",
   "execution_count": 81,
   "metadata": {},
   "outputs": [
    {
     "data": {
      "application/vnd.plotly.v1+json": {
       "config": {
        "plotlyServerURL": "https://plot.ly"
       },
       "data": [
        {
         "customdata": [
          [
           "2/2/2015",
           3.4,
           11.9
          ],
          [
           "1/30/2015",
           3.5,
           0.1
          ],
          [
           "1/28/2015",
           3.9,
           5.4
          ],
          [
           "2/11/2015",
           3.9,
           3.7
          ],
          [
           "2/12/2015",
           3.9,
           10.7
          ],
          [
           "1/29/2015",
           4,
           15
          ],
          [
           "2/6/2015",
           4,
           1.3
          ],
          [
           "2/5/2015",
           4,
           8.3
          ],
          [
           "2/21/2015",
           4,
           11.1
          ],
          [
           "2/3/2015",
           4,
           0.1
          ],
          [
           "2/11/2015",
           4.1,
           5
          ],
          [
           "2/7/2015",
           4.1,
           4.2
          ],
          [
           "2/14/2015",
           4.1,
           4.6
          ],
          [
           "2/6/2015",
           4.1,
           11.2
          ],
          [
           "2/5/2015",
           4.1,
           4.3
          ],
          [
           "2/5/2015",
           4.1,
           20.5
          ],
          [
           "2/21/2015",
           4.1,
           3.8
          ],
          [
           "3/2/2015",
           4.1,
           4.9
          ],
          [
           "3/1/2015",
           4.1,
           3.7
          ],
          [
           "1/30/2015",
           4.1,
           5
          ],
          [
           "2/28/2015",
           4.1,
           8.6
          ],
          [
           "2/28/2015",
           4.1,
           4.8
          ],
          [
           "2/1/2015",
           4.1,
           8.2
          ],
          [
           "1/31/2015",
           4.2,
           4.6
          ],
          [
           "2/12/2015",
           4.2,
           18
          ],
          [
           "2/16/2015",
           4.2,
           5
          ],
          [
           "2/4/2015",
           4.2,
           3.1
          ],
          [
           "2/11/2015",
           4.2,
           5
          ],
          [
           "2/23/2015",
           4.2,
           20.9
          ],
          [
           "2/1/2015",
           4.3,
           4.2
          ],
          [
           "2/16/2015",
           4.3,
           6.1
          ],
          [
           "2/28/2015",
           4.3,
           4.1
          ],
          [
           "2/5/2015",
           4.3,
           4.1
          ],
          [
           "2/4/2015",
           4.3,
           5
          ],
          [
           "2/26/2015",
           4.3,
           6.6
          ],
          [
           "2/1/2015",
           4.3,
           11.7
          ],
          [
           "2/8/2015",
           4.3,
           4.5
          ],
          [
           "2/24/2015",
           4.3,
           1.1
          ],
          [
           "2/19/2015",
           4.3,
           7.8
          ],
          [
           "2/6/2015",
           4.3,
           2.8
          ],
          [
           "2/23/2015",
           4.4,
           9.1
          ],
          [
           "2/8/2015",
           4.4,
           7.3
          ],
          [
           "2/11/2015",
           4.4,
           4.7
          ],
          [
           "2/24/2015",
           4.4,
           6.6
          ],
          [
           "2/12/2015",
           4.4,
           3.6
          ],
          [
           "2/28/2015",
           4.4,
           3.4
          ],
          [
           "2/14/2015",
           4.4,
           7.2
          ],
          [
           "2/22/2015",
           4.4,
           5
          ],
          [
           "2/23/2015",
           4.4,
           15
          ],
          [
           "2/17/2015",
           4.4,
           0.1
          ],
          [
           "2/28/2015",
           4.4,
           6
          ],
          [
           "2/5/2015",
           4.4,
           4
          ],
          [
           "2/2/2015",
           4.4,
           7.3
          ],
          [
           "2/4/2015",
           4.4,
           18.3
          ],
          [
           "1/31/2015",
           4.4,
           9.3
          ],
          [
           "2/14/2015",
           4.5,
           3.9
          ],
          [
           "2/25/2015",
           4.5,
           4.9
          ],
          [
           "3/2/2015",
           4.5,
           19.9
          ],
          [
           "2/24/2015",
           4.5,
           0.1
          ],
          [
           "2/18/2015",
           4.5,
           8.2
          ],
          [
           "2/20/2015",
           4.5,
           22.1
          ],
          [
           "2/14/2015",
           4.5,
           7.1
          ],
          [
           "2/25/2015",
           4.5,
           7.7
          ],
          [
           "3/2/2015",
           4.5,
           10.5
          ],
          [
           "2/3/2015",
           4.5,
           4.4
          ],
          [
           "2/8/2015",
           4.5,
           4.9
          ],
          [
           "2/4/2015",
           4.5,
           3.7
          ],
          [
           "2/5/2015",
           4.5,
           4.1
          ],
          [
           "2/5/2015",
           4.5,
           5
          ],
          [
           "2/10/2015",
           4.6,
           8.9
          ],
          [
           "1/28/2015",
           4.6,
           0.6
          ],
          [
           "2/4/2015",
           4.6,
           0.4
          ],
          [
           "2/18/2015",
           4.6,
           4.9
          ],
          [
           "2/17/2015",
           4.6,
           3.5
          ],
          [
           "2/16/2015",
           4.6,
           4
          ],
          [
           "2/16/2015",
           4.6,
           4.2
          ],
          [
           "2/12/2015",
           4.6,
           4.3
          ],
          [
           "2/7/2015",
           4.6,
           8.2
          ],
          [
           "2/20/2015",
           4.7,
           4.7
          ],
          [
           "2/13/2015",
           4.7,
           0.1
          ],
          [
           "2/1/2015",
           4.7,
           7.2
          ],
          [
           "2/25/2015",
           4.7,
           7.6
          ],
          [
           "2/25/2015",
           4.7,
           3.2
          ],
          [
           "2/7/2015",
           4.7,
           5
          ],
          [
           "2/27/2015",
           4.7,
           2.4
          ],
          [
           "2/28/2015",
           4.8,
           1.6
          ],
          [
           "2/18/2015",
           4.8,
           5.1
          ],
          [
           "3/1/2015",
           4.8,
           17.5
          ],
          [
           "2/15/2015",
           4.8,
           2.3
          ],
          [
           "2/28/2015",
           4.8,
           7.7
          ],
          [
           "2/2/2015",
           4.9,
           5
          ],
          [
           "2/16/2015",
           4.9,
           5.9
          ],
          [
           "1/31/2015",
           4.9,
           10.5
          ],
          [
           "2/28/2015",
           4.9,
           0.1
          ],
          [
           "2/21/2015",
           4.9,
           3.3
          ],
          [
           "2/2/2015",
           4.9,
           4.3
          ],
          [
           "2/13/2015",
           4.9,
           0.9
          ],
          [
           "2/15/2015",
           4.9,
           0.1
          ],
          [
           "2/8/2015",
           4.9,
           5.2
          ],
          [
           "2/18/2015",
           5,
           5.2
          ],
          [
           "2/20/2015",
           5,
           4.3
          ],
          [
           "2/3/2015",
           5,
           5
          ],
          [
           "2/11/2015",
           5,
           4
          ],
          [
           "2/12/2015",
           5,
           2.4
          ],
          [
           "2/14/2015",
           5,
           5
          ],
          [
           "2/13/2015",
           5.1,
           0.3
          ],
          [
           "2/11/2015",
           5.1,
           0
          ],
          [
           "3/1/2015",
           5.1,
           5.8
          ],
          [
           "2/26/2015",
           5.1,
           1
          ],
          [
           "2/8/2015",
           5.1,
           3.2
          ],
          [
           "2/7/2015",
           5.1,
           7.5
          ],
          [
           "2/4/2015",
           5.2,
           10.4
          ],
          [
           "2/1/2015",
           5.2,
           3.8
          ],
          [
           "2/14/2015",
           5.2,
           11.2
          ],
          [
           "1/31/2015",
           5.2,
           0.1
          ],
          [
           "2/2/2015",
           5.2,
           3.4
          ],
          [
           "2/26/2015",
           5.3,
           11.1
          ],
          [
           "3/1/2015",
           5.3,
           10.4
          ],
          [
           "1/31/2015",
           5.3,
           11
          ],
          [
           "1/30/2015",
           5.3,
           5.7
          ],
          [
           "2/13/2015",
           5.3,
           15
          ],
          [
           "2/4/2015",
           5.3,
           10.7
          ],
          [
           "2/7/2015",
           5.3,
           0.1
          ],
          [
           "2/5/2015",
           5.3,
           4.4
          ],
          [
           "2/19/2015",
           5.3,
           0.1
          ],
          [
           "2/18/2015",
           5.3,
           0.4
          ],
          [
           "2/15/2015",
           5.4,
           13.3
          ],
          [
           "2/2/2015",
           5.4,
           8.6
          ],
          [
           "2/20/2015",
           5.4,
           8.2
          ],
          [
           "1/31/2015",
           5.4,
           0.1
          ],
          [
           "2/17/2015",
           5.4,
           13
          ],
          [
           "1/31/2015",
           5.5,
           9.2
          ],
          [
           "2/1/2015",
           5.5,
           9.2
          ],
          [
           "2/6/2015",
           5.6,
           9.9
          ],
          [
           "2/6/2015",
           5.6,
           10.2
          ],
          [
           "1/30/2015",
           5.6,
           5.1
          ],
          [
           "2/15/2015",
           5.6,
           0.1
          ],
          [
           "2/23/2015",
           5.6,
           11.9
          ],
          [
           "2/23/2015",
           5.6,
           18.8
          ],
          [
           "2/10/2015",
           5.7,
           12.2
          ],
          [
           "2/21/2015",
           5.7,
           4.6
          ],
          [
           "2/11/2015",
           5.9,
           0.2
          ],
          [
           "2/5/2015",
           5.9,
           9.3
          ],
          [
           "2/28/2015",
           6,
           0.4
          ],
          [
           "2/18/2015",
           6.1,
           8
          ],
          [
           "2/22/2015",
           6.1,
           13.2
          ],
          [
           "2/15/2015",
           6.2,
           11
          ],
          [
           "2/6/2015",
           6.2,
           12.9
          ],
          [
           "2/6/2015",
           6.2,
           13.1
          ],
          [
           "2/23/2015",
           6.4,
           10
          ],
          [
           "2/10/2015",
           6.5,
           12.6
          ],
          [
           "2/21/2015",
           6.8,
           10.3
          ],
          [
           "2/21/2015",
           6.9,
           0.1
          ]
         ],
         "geo": "geo",
         "hovertemplate": "<b>%{hovertext}</b><br><br>marker_size=%{marker.size}<br>latitude=%{lat}<br>longitude=%{lon}<br>date=%{customdata[0]}<br>mc=%{marker.color}<br>depth=%{customdata[2]}<extra></extra>",
         "hovertext": [
          "2/2/2015",
          "1/30/2015",
          "1/28/2015",
          "2/11/2015",
          "2/12/2015",
          "1/29/2015",
          "2/6/2015",
          "2/5/2015",
          "2/21/2015",
          "2/3/2015",
          "2/11/2015",
          "2/7/2015",
          "2/14/2015",
          "2/6/2015",
          "2/5/2015",
          "2/5/2015",
          "2/21/2015",
          "3/2/2015",
          "3/1/2015",
          "1/30/2015",
          "2/28/2015",
          "2/28/2015",
          "2/1/2015",
          "1/31/2015",
          "2/12/2015",
          "2/16/2015",
          "2/4/2015",
          "2/11/2015",
          "2/23/2015",
          "2/1/2015",
          "2/16/2015",
          "2/28/2015",
          "2/5/2015",
          "2/4/2015",
          "2/26/2015",
          "2/1/2015",
          "2/8/2015",
          "2/24/2015",
          "2/19/2015",
          "2/6/2015",
          "2/23/2015",
          "2/8/2015",
          "2/11/2015",
          "2/24/2015",
          "2/12/2015",
          "2/28/2015",
          "2/14/2015",
          "2/22/2015",
          "2/23/2015",
          "2/17/2015",
          "2/28/2015",
          "2/5/2015",
          "2/2/2015",
          "2/4/2015",
          "1/31/2015",
          "2/14/2015",
          "2/25/2015",
          "3/2/2015",
          "2/24/2015",
          "2/18/2015",
          "2/20/2015",
          "2/14/2015",
          "2/25/2015",
          "3/2/2015",
          "2/3/2015",
          "2/8/2015",
          "2/4/2015",
          "2/5/2015",
          "2/5/2015",
          "2/10/2015",
          "1/28/2015",
          "2/4/2015",
          "2/18/2015",
          "2/17/2015",
          "2/16/2015",
          "2/16/2015",
          "2/12/2015",
          "2/7/2015",
          "2/20/2015",
          "2/13/2015",
          "2/1/2015",
          "2/25/2015",
          "2/25/2015",
          "2/7/2015",
          "2/27/2015",
          "2/28/2015",
          "2/18/2015",
          "3/1/2015",
          "2/15/2015",
          "2/28/2015",
          "2/2/2015",
          "2/16/2015",
          "1/31/2015",
          "2/28/2015",
          "2/21/2015",
          "2/2/2015",
          "2/13/2015",
          "2/15/2015",
          "2/8/2015",
          "2/18/2015",
          "2/20/2015",
          "2/3/2015",
          "2/11/2015",
          "2/12/2015",
          "2/14/2015",
          "2/13/2015",
          "2/11/2015",
          "3/1/2015",
          "2/26/2015",
          "2/8/2015",
          "2/7/2015",
          "2/4/2015",
          "2/1/2015",
          "2/14/2015",
          "1/31/2015",
          "2/2/2015",
          "2/26/2015",
          "3/1/2015",
          "1/31/2015",
          "1/30/2015",
          "2/13/2015",
          "2/4/2015",
          "2/7/2015",
          "2/5/2015",
          "2/19/2015",
          "2/18/2015",
          "2/15/2015",
          "2/2/2015",
          "2/20/2015",
          "1/31/2015",
          "2/17/2015",
          "1/31/2015",
          "2/1/2015",
          "2/6/2015",
          "2/6/2015",
          "1/30/2015",
          "2/15/2015",
          "2/23/2015",
          "2/23/2015",
          "2/10/2015",
          "2/21/2015",
          "2/11/2015",
          "2/5/2015",
          "2/28/2015",
          "2/18/2015",
          "2/22/2015",
          "2/15/2015",
          "2/6/2015",
          "2/6/2015",
          "2/23/2015",
          "2/10/2015",
          "2/21/2015",
          "2/21/2015"
         ],
         "lat": [
          8.932,
          9.517,
          5.534,
          4.724,
          5.777,
          6.005,
          5.326,
          5.427,
          9.442,
          8.767,
          5.357,
          5.173,
          4.368,
          8.974,
          5.244,
          5.548,
          5.106,
          5.045,
          4.999,
          4.45,
          4.753,
          4.99,
          4.258,
          6.008,
          5.09,
          6.046,
          5.072,
          4.515,
          4.846,
          5.057,
          6.07,
          4.695,
          5.038,
          4.957,
          5.186,
          8.888,
          5.73,
          5.103,
          5.799,
          5.974,
          8.537,
          5.321,
          4.928,
          5.272,
          5.373,
          5.738,
          4.963,
          5.071,
          5.724,
          10.122,
          5.475,
          5.063,
          5.319,
          5.188,
          5.272,
          5.064,
          4.86,
          4.858,
          8.053,
          5.61,
          9.705,
          6.023,
          6.77,
          5.212,
          4.654,
          5.164,
          6.166,
          5.024,
          5.344,
          5.081,
          8.279,
          7.189,
          5.205,
          4.274,
          4.684,
          5.027,
          4.827,
          6.789,
          4.791,
          8.373,
          8.184,
          6.615,
          5.62,
          5.021,
          7.103,
          5.503,
          4.255,
          8.458,
          6.9,
          5.25,
          5.088,
          4.059,
          4.206,
          7.775,
          5.429,
          5.345,
          7.496,
          7.12,
          8.28,
          4.531,
          5.995,
          8.138,
          5.899,
          7.502,
          7.405,
          7.983,
          3.785,
          5.222,
          6.759,
          5.848,
          6.814,
          2.384,
          5.091,
          7.466,
          5.085,
          7.746,
          2.567,
          2.647,
          5.405,
          4.588,
          7.052,
          2.373,
          5.609,
          5.089,
          3.334,
          8.076,
          7.599,
          2.761,
          9.55,
          4.984,
          2.936,
          5.011,
          5.041,
          12.099,
          5.131,
          4.99,
          5.666,
          5.007,
          6.104,
          2.873,
          9.478,
          8.156,
          5.288,
          3.852,
          10.122,
          3.183,
          9.188,
          9.682,
          9.473,
          9.325,
          -1.089,
          11.703,
          5.007
         ],
         "legendgroup": "",
         "lon": [
          -83.4,
          -82.914,
          -82.59,
          -81.847,
          -82.767,
          -82.134,
          -83.065,
          -82.249,
          -84.091,
          -85.008,
          -82.924,
          -82.863,
          -82.746,
          -84.665,
          -82.836,
          -82.807,
          -81.948,
          -82.603,
          -81.622,
          -82.595,
          -82.653,
          -82.645,
          -82.398,
          -82.639,
          -82.86,
          -83.069,
          -81.44,
          -81.625,
          -82.843,
          -82.759,
          -83.092,
          -82.714,
          -82.793,
          -82.966,
          -82.819,
          -84.707,
          -82.941,
          -82.872,
          -82.946,
          -82.819,
          -84.903,
          -83.11,
          -82.823,
          -82.832,
          -81.643,
          -82.866,
          -82.922,
          -82.874,
          -82.906,
          -82.463,
          -82.74,
          -82.815,
          -82.933,
          -82.785,
          -82.899,
          -82.832,
          -82.889,
          -82.864,
          -82.756,
          -82.547,
          -85.766,
          -82.902,
          -83.285,
          -83.218,
          -82.848,
          -82.855,
          -82.947,
          -82.858,
          -83.019,
          -82.866,
          -82.858,
          -80.38,
          -82.83,
          -81.337,
          -83.046,
          -82.867,
          -82.836,
          -83.359,
          -82.98,
          -83.028,
          -83.063,
          -81.824,
          -83.381,
          -82.959,
          -82.696,
          -79.56,
          -82.672,
          -82.907,
          -82.765,
          -82.829,
          -82.859,
          -82.745,
          -82.675,
          -83.236,
          -83.29,
          -82.92,
          -82.048,
          -84.071,
          -83.41,
          -83.055,
          -82.765,
          -79.875,
          -82.984,
          -82.063,
          -80.468,
          -82.411,
          -78.617,
          -82.799,
          -83.019,
          -82.824,
          -83.453,
          -80.128,
          -82.87,
          -82.017,
          -76.506,
          -80.315,
          -79.596,
          -79.531,
          -82.568,
          -82.799,
          -73.223,
          -79.818,
          -77.943,
          -82.879,
          -79.057,
          -80.239,
          -81.154,
          -79.67,
          -85.333,
          -77.873,
          -79.331,
          -77.95,
          -77.978,
          -88.512,
          -78.006,
          -77.913,
          -77.994,
          -77.556,
          -83,
          -78.385,
          -85.247,
          -80.886,
          -82.521,
          -76.485,
          -85.686,
          -77.845,
          -84.934,
          -77.335,
          -78.616,
          -78.506,
          -81.054,
          -88.764,
          -75.698
         ],
         "marker": {
          "color": [
           3.4,
           3.5,
           3.9,
           3.9,
           3.9,
           4,
           4,
           4,
           4,
           4,
           4.1,
           4.1,
           4.1,
           4.1,
           4.1,
           4.1,
           4.1,
           4.1,
           4.1,
           4.1,
           4.1,
           4.1,
           4.1,
           4.2,
           4.2,
           4.2,
           4.2,
           4.2,
           4.2,
           4.3,
           4.3,
           4.3,
           4.3,
           4.3,
           4.3,
           4.3,
           4.3,
           4.3,
           4.3,
           4.3,
           4.4,
           4.4,
           4.4,
           4.4,
           4.4,
           4.4,
           4.4,
           4.4,
           4.4,
           4.4,
           4.4,
           4.4,
           4.4,
           4.4,
           4.4,
           4.5,
           4.5,
           4.5,
           4.5,
           4.5,
           4.5,
           4.5,
           4.5,
           4.5,
           4.5,
           4.5,
           4.5,
           4.5,
           4.5,
           4.6,
           4.6,
           4.6,
           4.6,
           4.6,
           4.6,
           4.6,
           4.6,
           4.6,
           4.7,
           4.7,
           4.7,
           4.7,
           4.7,
           4.7,
           4.7,
           4.8,
           4.8,
           4.8,
           4.8,
           4.8,
           4.9,
           4.9,
           4.9,
           4.9,
           4.9,
           4.9,
           4.9,
           4.9,
           4.9,
           5,
           5,
           5,
           5,
           5,
           5,
           5.1,
           5.1,
           5.1,
           5.1,
           5.1,
           5.1,
           5.2,
           5.2,
           5.2,
           5.2,
           5.2,
           5.3,
           5.3,
           5.3,
           5.3,
           5.3,
           5.3,
           5.3,
           5.3,
           5.3,
           5.3,
           5.4,
           5.4,
           5.4,
           5.4,
           5.4,
           5.5,
           5.5,
           5.6,
           5.6,
           5.6,
           5.6,
           5.6,
           5.6,
           5.7,
           5.7,
           5.9,
           5.9,
           6,
           6.1,
           6.1,
           6.2,
           6.2,
           6.2,
           6.4,
           6.5,
           6.8,
           6.9
          ],
          "coloraxis": "coloraxis",
          "size": [
           29,
           33,
           49,
           49,
           49,
           54,
           54,
           54,
           54,
           54,
           60,
           60,
           60,
           60,
           60,
           60,
           60,
           60,
           60,
           60,
           60,
           60,
           60,
           66,
           66,
           66,
           66,
           66,
           66,
           73,
           73,
           73,
           73,
           73,
           73,
           73,
           73,
           73,
           73,
           73,
           81,
           81,
           81,
           81,
           81,
           81,
           81,
           81,
           81,
           81,
           81,
           81,
           81,
           81,
           81,
           90,
           90,
           90,
           90,
           90,
           90,
           90,
           90,
           90,
           90,
           90,
           90,
           90,
           90,
           99,
           99,
           99,
           99,
           99,
           99,
           99,
           99,
           99,
           109,
           109,
           109,
           109,
           109,
           109,
           109,
           121,
           121,
           121,
           121,
           121,
           134,
           134,
           134,
           134,
           134,
           134,
           134,
           134,
           134,
           148,
           148,
           148,
           148,
           148,
           148,
           164,
           164,
           164,
           164,
           164,
           164,
           181,
           181,
           181,
           181,
           181,
           200,
           200,
           200,
           200,
           200,
           200,
           200,
           200,
           200,
           200,
           221,
           221,
           221,
           221,
           221,
           244,
           244,
           270,
           270,
           270,
           270,
           270,
           270,
           298,
           298,
           365,
           365,
           403,
           445,
           445,
           492,
           492,
           492,
           601,
           665,
           897,
           992
          ],
          "sizemode": "area",
          "sizeref": 2.48,
          "symbol": "circle"
         },
         "mode": "markers",
         "name": "",
         "showlegend": false,
         "type": "scattergeo"
        }
       ],
       "layout": {
        "coloraxis": {
         "cmax": 9,
         "cmin": 6,
         "colorbar": {
          "title": {
           "text": "mc"
          }
         },
         "colorscale": [
          [
           0,
           "#0d0887"
          ],
          [
           0.1111111111111111,
           "#46039f"
          ],
          [
           0.2222222222222222,
           "#7201a8"
          ],
          [
           0.3333333333333333,
           "#9c179e"
          ],
          [
           0.4444444444444444,
           "#bd3786"
          ],
          [
           0.5555555555555556,
           "#d8576b"
          ],
          [
           0.6666666666666666,
           "#ed7953"
          ],
          [
           0.7777777777777778,
           "#fb9f3a"
          ],
          [
           0.8888888888888888,
           "#fdca26"
          ],
          [
           1,
           "#f0f921"
          ]
         ]
        },
        "geo": {
         "center": {},
         "domain": {
          "x": [
           0,
           1
          ],
          "y": [
           0,
           1
          ]
         },
         "resolution": 110,
         "showcountries": true
        },
        "height": 600,
        "legend": {
         "itemsizing": "constant",
         "tracegroupgap": 0
        },
        "margin": {
         "t": 60
        },
        "template": {
         "data": {
          "bar": [
           {
            "error_x": {
             "color": "#2a3f5f"
            },
            "error_y": {
             "color": "#2a3f5f"
            },
            "marker": {
             "line": {
              "color": "#E5ECF6",
              "width": 0.5
             },
             "pattern": {
              "fillmode": "overlay",
              "size": 10,
              "solidity": 0.2
             }
            },
            "type": "bar"
           }
          ],
          "barpolar": [
           {
            "marker": {
             "line": {
              "color": "#E5ECF6",
              "width": 0.5
             },
             "pattern": {
              "fillmode": "overlay",
              "size": 10,
              "solidity": 0.2
             }
            },
            "type": "barpolar"
           }
          ],
          "carpet": [
           {
            "aaxis": {
             "endlinecolor": "#2a3f5f",
             "gridcolor": "white",
             "linecolor": "white",
             "minorgridcolor": "white",
             "startlinecolor": "#2a3f5f"
            },
            "baxis": {
             "endlinecolor": "#2a3f5f",
             "gridcolor": "white",
             "linecolor": "white",
             "minorgridcolor": "white",
             "startlinecolor": "#2a3f5f"
            },
            "type": "carpet"
           }
          ],
          "choropleth": [
           {
            "colorbar": {
             "outlinewidth": 0,
             "ticks": ""
            },
            "type": "choropleth"
           }
          ],
          "contour": [
           {
            "colorbar": {
             "outlinewidth": 0,
             "ticks": ""
            },
            "colorscale": [
             [
              0,
              "#0d0887"
             ],
             [
              0.1111111111111111,
              "#46039f"
             ],
             [
              0.2222222222222222,
              "#7201a8"
             ],
             [
              0.3333333333333333,
              "#9c179e"
             ],
             [
              0.4444444444444444,
              "#bd3786"
             ],
             [
              0.5555555555555556,
              "#d8576b"
             ],
             [
              0.6666666666666666,
              "#ed7953"
             ],
             [
              0.7777777777777778,
              "#fb9f3a"
             ],
             [
              0.8888888888888888,
              "#fdca26"
             ],
             [
              1,
              "#f0f921"
             ]
            ],
            "type": "contour"
           }
          ],
          "contourcarpet": [
           {
            "colorbar": {
             "outlinewidth": 0,
             "ticks": ""
            },
            "type": "contourcarpet"
           }
          ],
          "heatmap": [
           {
            "colorbar": {
             "outlinewidth": 0,
             "ticks": ""
            },
            "colorscale": [
             [
              0,
              "#0d0887"
             ],
             [
              0.1111111111111111,
              "#46039f"
             ],
             [
              0.2222222222222222,
              "#7201a8"
             ],
             [
              0.3333333333333333,
              "#9c179e"
             ],
             [
              0.4444444444444444,
              "#bd3786"
             ],
             [
              0.5555555555555556,
              "#d8576b"
             ],
             [
              0.6666666666666666,
              "#ed7953"
             ],
             [
              0.7777777777777778,
              "#fb9f3a"
             ],
             [
              0.8888888888888888,
              "#fdca26"
             ],
             [
              1,
              "#f0f921"
             ]
            ],
            "type": "heatmap"
           }
          ],
          "heatmapgl": [
           {
            "colorbar": {
             "outlinewidth": 0,
             "ticks": ""
            },
            "colorscale": [
             [
              0,
              "#0d0887"
             ],
             [
              0.1111111111111111,
              "#46039f"
             ],
             [
              0.2222222222222222,
              "#7201a8"
             ],
             [
              0.3333333333333333,
              "#9c179e"
             ],
             [
              0.4444444444444444,
              "#bd3786"
             ],
             [
              0.5555555555555556,
              "#d8576b"
             ],
             [
              0.6666666666666666,
              "#ed7953"
             ],
             [
              0.7777777777777778,
              "#fb9f3a"
             ],
             [
              0.8888888888888888,
              "#fdca26"
             ],
             [
              1,
              "#f0f921"
             ]
            ],
            "type": "heatmapgl"
           }
          ],
          "histogram": [
           {
            "marker": {
             "pattern": {
              "fillmode": "overlay",
              "size": 10,
              "solidity": 0.2
             }
            },
            "type": "histogram"
           }
          ],
          "histogram2d": [
           {
            "colorbar": {
             "outlinewidth": 0,
             "ticks": ""
            },
            "colorscale": [
             [
              0,
              "#0d0887"
             ],
             [
              0.1111111111111111,
              "#46039f"
             ],
             [
              0.2222222222222222,
              "#7201a8"
             ],
             [
              0.3333333333333333,
              "#9c179e"
             ],
             [
              0.4444444444444444,
              "#bd3786"
             ],
             [
              0.5555555555555556,
              "#d8576b"
             ],
             [
              0.6666666666666666,
              "#ed7953"
             ],
             [
              0.7777777777777778,
              "#fb9f3a"
             ],
             [
              0.8888888888888888,
              "#fdca26"
             ],
             [
              1,
              "#f0f921"
             ]
            ],
            "type": "histogram2d"
           }
          ],
          "histogram2dcontour": [
           {
            "colorbar": {
             "outlinewidth": 0,
             "ticks": ""
            },
            "colorscale": [
             [
              0,
              "#0d0887"
             ],
             [
              0.1111111111111111,
              "#46039f"
             ],
             [
              0.2222222222222222,
              "#7201a8"
             ],
             [
              0.3333333333333333,
              "#9c179e"
             ],
             [
              0.4444444444444444,
              "#bd3786"
             ],
             [
              0.5555555555555556,
              "#d8576b"
             ],
             [
              0.6666666666666666,
              "#ed7953"
             ],
             [
              0.7777777777777778,
              "#fb9f3a"
             ],
             [
              0.8888888888888888,
              "#fdca26"
             ],
             [
              1,
              "#f0f921"
             ]
            ],
            "type": "histogram2dcontour"
           }
          ],
          "mesh3d": [
           {
            "colorbar": {
             "outlinewidth": 0,
             "ticks": ""
            },
            "type": "mesh3d"
           }
          ],
          "parcoords": [
           {
            "line": {
             "colorbar": {
              "outlinewidth": 0,
              "ticks": ""
             }
            },
            "type": "parcoords"
           }
          ],
          "pie": [
           {
            "automargin": true,
            "type": "pie"
           }
          ],
          "scatter": [
           {
            "fillpattern": {
             "fillmode": "overlay",
             "size": 10,
             "solidity": 0.2
            },
            "type": "scatter"
           }
          ],
          "scatter3d": [
           {
            "line": {
             "colorbar": {
              "outlinewidth": 0,
              "ticks": ""
             }
            },
            "marker": {
             "colorbar": {
              "outlinewidth": 0,
              "ticks": ""
             }
            },
            "type": "scatter3d"
           }
          ],
          "scattercarpet": [
           {
            "marker": {
             "colorbar": {
              "outlinewidth": 0,
              "ticks": ""
             }
            },
            "type": "scattercarpet"
           }
          ],
          "scattergeo": [
           {
            "marker": {
             "colorbar": {
              "outlinewidth": 0,
              "ticks": ""
             }
            },
            "type": "scattergeo"
           }
          ],
          "scattergl": [
           {
            "marker": {
             "colorbar": {
              "outlinewidth": 0,
              "ticks": ""
             }
            },
            "type": "scattergl"
           }
          ],
          "scattermapbox": [
           {
            "marker": {
             "colorbar": {
              "outlinewidth": 0,
              "ticks": ""
             }
            },
            "type": "scattermapbox"
           }
          ],
          "scatterpolar": [
           {
            "marker": {
             "colorbar": {
              "outlinewidth": 0,
              "ticks": ""
             }
            },
            "type": "scatterpolar"
           }
          ],
          "scatterpolargl": [
           {
            "marker": {
             "colorbar": {
              "outlinewidth": 0,
              "ticks": ""
             }
            },
            "type": "scatterpolargl"
           }
          ],
          "scatterternary": [
           {
            "marker": {
             "colorbar": {
              "outlinewidth": 0,
              "ticks": ""
             }
            },
            "type": "scatterternary"
           }
          ],
          "surface": [
           {
            "colorbar": {
             "outlinewidth": 0,
             "ticks": ""
            },
            "colorscale": [
             [
              0,
              "#0d0887"
             ],
             [
              0.1111111111111111,
              "#46039f"
             ],
             [
              0.2222222222222222,
              "#7201a8"
             ],
             [
              0.3333333333333333,
              "#9c179e"
             ],
             [
              0.4444444444444444,
              "#bd3786"
             ],
             [
              0.5555555555555556,
              "#d8576b"
             ],
             [
              0.6666666666666666,
              "#ed7953"
             ],
             [
              0.7777777777777778,
              "#fb9f3a"
             ],
             [
              0.8888888888888888,
              "#fdca26"
             ],
             [
              1,
              "#f0f921"
             ]
            ],
            "type": "surface"
           }
          ],
          "table": [
           {
            "cells": {
             "fill": {
              "color": "#EBF0F8"
             },
             "line": {
              "color": "white"
             }
            },
            "header": {
             "fill": {
              "color": "#C8D4E3"
             },
             "line": {
              "color": "white"
             }
            },
            "type": "table"
           }
          ]
         },
         "layout": {
          "annotationdefaults": {
           "arrowcolor": "#2a3f5f",
           "arrowhead": 0,
           "arrowwidth": 1
          },
          "autotypenumbers": "strict",
          "coloraxis": {
           "colorbar": {
            "outlinewidth": 0,
            "ticks": ""
           }
          },
          "colorscale": {
           "diverging": [
            [
             0,
             "#8e0152"
            ],
            [
             0.1,
             "#c51b7d"
            ],
            [
             0.2,
             "#de77ae"
            ],
            [
             0.3,
             "#f1b6da"
            ],
            [
             0.4,
             "#fde0ef"
            ],
            [
             0.5,
             "#f7f7f7"
            ],
            [
             0.6,
             "#e6f5d0"
            ],
            [
             0.7,
             "#b8e186"
            ],
            [
             0.8,
             "#7fbc41"
            ],
            [
             0.9,
             "#4d9221"
            ],
            [
             1,
             "#276419"
            ]
           ],
           "sequential": [
            [
             0,
             "#0d0887"
            ],
            [
             0.1111111111111111,
             "#46039f"
            ],
            [
             0.2222222222222222,
             "#7201a8"
            ],
            [
             0.3333333333333333,
             "#9c179e"
            ],
            [
             0.4444444444444444,
             "#bd3786"
            ],
            [
             0.5555555555555556,
             "#d8576b"
            ],
            [
             0.6666666666666666,
             "#ed7953"
            ],
            [
             0.7777777777777778,
             "#fb9f3a"
            ],
            [
             0.8888888888888888,
             "#fdca26"
            ],
            [
             1,
             "#f0f921"
            ]
           ],
           "sequentialminus": [
            [
             0,
             "#0d0887"
            ],
            [
             0.1111111111111111,
             "#46039f"
            ],
            [
             0.2222222222222222,
             "#7201a8"
            ],
            [
             0.3333333333333333,
             "#9c179e"
            ],
            [
             0.4444444444444444,
             "#bd3786"
            ],
            [
             0.5555555555555556,
             "#d8576b"
            ],
            [
             0.6666666666666666,
             "#ed7953"
            ],
            [
             0.7777777777777778,
             "#fb9f3a"
            ],
            [
             0.8888888888888888,
             "#fdca26"
            ],
            [
             1,
             "#f0f921"
            ]
           ]
          },
          "colorway": [
           "#636efa",
           "#EF553B",
           "#00cc96",
           "#ab63fa",
           "#FFA15A",
           "#19d3f3",
           "#FF6692",
           "#B6E880",
           "#FF97FF",
           "#FECB52"
          ],
          "font": {
           "color": "#2a3f5f"
          },
          "geo": {
           "bgcolor": "white",
           "lakecolor": "white",
           "landcolor": "#E5ECF6",
           "showlakes": true,
           "showland": true,
           "subunitcolor": "white"
          },
          "hoverlabel": {
           "align": "left"
          },
          "hovermode": "closest",
          "mapbox": {
           "style": "light"
          },
          "paper_bgcolor": "white",
          "plot_bgcolor": "#E5ECF6",
          "polar": {
           "angularaxis": {
            "gridcolor": "white",
            "linecolor": "white",
            "ticks": ""
           },
           "bgcolor": "#E5ECF6",
           "radialaxis": {
            "gridcolor": "white",
            "linecolor": "white",
            "ticks": ""
           }
          },
          "scene": {
           "xaxis": {
            "backgroundcolor": "#E5ECF6",
            "gridcolor": "white",
            "gridwidth": 2,
            "linecolor": "white",
            "showbackground": true,
            "ticks": "",
            "zerolinecolor": "white"
           },
           "yaxis": {
            "backgroundcolor": "#E5ECF6",
            "gridcolor": "white",
            "gridwidth": 2,
            "linecolor": "white",
            "showbackground": true,
            "ticks": "",
            "zerolinecolor": "white"
           },
           "zaxis": {
            "backgroundcolor": "#E5ECF6",
            "gridcolor": "white",
            "gridwidth": 2,
            "linecolor": "white",
            "showbackground": true,
            "ticks": "",
            "zerolinecolor": "white"
           }
          },
          "shapedefaults": {
           "line": {
            "color": "#2a3f5f"
           }
          },
          "ternary": {
           "aaxis": {
            "gridcolor": "white",
            "linecolor": "white",
            "ticks": ""
           },
           "baxis": {
            "gridcolor": "white",
            "linecolor": "white",
            "ticks": ""
           },
           "bgcolor": "#E5ECF6",
           "caxis": {
            "gridcolor": "white",
            "linecolor": "white",
            "ticks": ""
           }
          },
          "title": {
           "x": 0.05
          },
          "xaxis": {
           "automargin": true,
           "gridcolor": "white",
           "linecolor": "white",
           "ticks": "",
           "title": {
            "standoff": 15
           },
           "zerolinecolor": "white",
           "zerolinewidth": 2
          },
          "yaxis": {
           "automargin": true,
           "gridcolor": "white",
           "linecolor": "white",
           "ticks": "",
           "title": {
            "standoff": 15
           },
           "zerolinecolor": "white",
           "zerolinewidth": 2
          }
         }
        },
        "width": 600
       }
      }
     },
     "metadata": {},
     "output_type": "display_data"
    }
   ],
   "source": [
    "fig = px.scatter_geo(quakes2plot,\n",
    "                     lat='latitude',lon='longitude', \n",
    "                     range_color=(6,9),\n",
    "                     height=600, width=600,\n",
    "                     size='marker_size', color='mc',\n",
    "                     hover_name=\"date\",\n",
    "                     hover_data=['date','mc','depth']);\n",
    "fig.update_geos(resolution=110, showcountries=True)\n",
    "# fig.update_geos(resolution=110, showcountries=True,projection_type=\"orthographic\")\n"
   ]
  },
  {
   "cell_type": "code",
   "execution_count": null,
   "metadata": {},
   "outputs": [],
   "source": []
  },
  {
   "cell_type": "code",
   "execution_count": null,
   "metadata": {},
   "outputs": [],
   "source": []
  }
 ],
 "metadata": {
  "kernelspec": {
   "display_name": "Python 3.8.13 ('mlgeo_sk')",
   "language": "python",
   "name": "python3"
  },
  "language_info": {
   "codemirror_mode": {
    "name": "ipython",
    "version": 3
   },
   "file_extension": ".py",
   "mimetype": "text/x-python",
   "name": "python",
   "nbconvert_exporter": "python",
   "pygments_lexer": "ipython3",
   "version": "3.8.13"
  },
  "orig_nbformat": 4,
  "vscode": {
   "interpreter": {
    "hash": "401b5c9a9e63490bbee791bd9c1ff2870038ff34b169dcb6a626983210b5250f"
   }
  }
 },
 "nbformat": 4,
 "nbformat_minor": 2
}
